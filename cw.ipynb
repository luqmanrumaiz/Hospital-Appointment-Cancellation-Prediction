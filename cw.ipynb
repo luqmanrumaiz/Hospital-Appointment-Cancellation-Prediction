{
 "cells": [
  {
   "cell_type": "markdown",
   "metadata": {
    "id": "Ioa3IlyRTqDW"
   },
   "source": [
    "# PubMed Skimmer\n",
    "\n",
    "**Domain: hospitals & medicine**\n",
    "\n",
    "**Problem Overview**: The [PubMed RCT dataset](https://arxiv.org/abs/1710.06071) consists of over 200,000 medical paper abstracts; some of the abstracts within the dataset need to be structured better, therefore, are hard to read."
   ]
  },
  {
   "cell_type": "markdown",
   "metadata": {
    "id": "XQT2fAOidyMF"
   },
   "source": [
    "## Part A - Application area review\n",
    "\n",
    "### Literature review\n",
    "\n",
    "Without a doubt, one of the major businesses that would benefit significantly from the integration of artificial intelligence is medicine.\n",
    "\n",
    "The analysis is a crucial component of medicine, which is frequently carried out by doctors, who are also people. Unlike humans, artificial intelligence can quickly digest enormous amounts of data. Humans can only concentrate on one or two things at once, while artificial intelligence can sift through massive volumes of data and identify underlying trends. The ability to learn from novel settings and machine learning are two more characteristics of artificial intelligence. It also can learn from the shortcomings of previous artificial intelligence systems and use that knowledge to enhance performance in the future (Jittprasong, 2022). The present research trend suggests that artificial intelligence may be used in various medical applications (Buch et al., 2018). From this literature review, artificial intelligence in medicine constantly evolves toward a more specialized use rather than a more general application, specifically, towards patient-centered rather than physician-centered. Some of the more recent research is evaluated.\n",
    "\n",
    "In the domain of cardiopulmonary, Ganzer et al. (2022) proposed a proof-of-concept of an ANN supplementing the Myocardial Sensory Networks to detect Myocardial Ischemia. It was done through Cardiovascular pathophysiological features implemented along with the reversal of the Myocardial Ischemia by ANN-controlled Vagus Nerve Stimulation (VNS). The architecture utilized an LSTM to detect long-term dependencies of cardiovascular data, recognizing more comprehensive features of the specific disease. The authors utilized supervised learning to train the model to differentiate between the four states of Myocardial Infarction. The output was determined by a decoder output score that triggered the delivery of Closed-Loop intact Vagus Nerve Stimulation to reverse the effects of physiological features induced by Myocardial Infarction. However, since the ANN is built using traditional architectures, it still needs to be updated; therefore, newer kinds of stress will be recognized with continuous learning.\n",
    "\n",
    "Kim et al. (2022a) proposed an explainable AI model for auto-labelling chest X-ray images based on their quantitative similarity in the domain of imaging systems. As the model was an explainable AI architecture, it was made generalized, enabling it to be adjustable, tuned, or performance retrained. The introduced approach enabled the fine-tuning of the model to retrain it for a different external dataset by utilizing a probability-of-similarity metric: pSim. It was identified that the auto-labelled images were in agreement with radiologists over 80% of the time for the case of cardiomegaly and pleural effusion; however, it was a contradiction for the case of pulmonary oedema and pneumonia, which produced an observation that different radiologists use different criteria than being general.\n",
    "\n",
    "In the field of Oncology, Bulten et al. (2022) utilized AI for the diagnosis and Gleason grading of prostate cancer: the PANDA challenge, which includes over a thousand developers who strive to develop AI algorithms for diagnosing prostate cancer based on histopathology. The proposed approach determined Gleason grading based on digital prostate biopsies and is said to achieve a performance equal to pathologists. Validation sets of the US and EU were used to evaluate the algorithm’s performance; however, what was observed was that the change in the data distribution between what was used while training and validating caused over-diagnosis of single instances. Nevertheless, it is worth noting that the sensitivity and specificity surpassed that of pathologists.\n",
    "\n",
    "Sadasivuni et al. (2022) proposed a fully integrated analogue ML classifier for real-time prediction of sepsis onset utilizing electronic medical records (EMRs). The solution produced a fusion chip that combined ECGs and EMRs based on a score. Utilizing a cloud AI model prevented issues on most wearables, such as the Apple Watch, which still does not have real-time EMR. An ANN was trained on ECGs that were feature extracted and preprocessed internally on the chip. Alongside the ECG model, an EMR model analyses patients’ co-morbidities using vectorized ICD10 codes and TF-IDF algorithm to predict the sepsis probability. The two models are combined to generate a sepsis score and aggregate it into a fusion model that the meta-learner analysis for the final prediction. However, the model was hard coded into the chip, preventing it from being able to be updated in future. It is, however, worth noting that it was identified that the chip was capable of 93% accuracy in predicting sepsis four hours before the onset.\n"
   ]
  },
  {
   "cell_type": "markdown",
   "metadata": {
    "id": "CCXFSyp0cBGT"
   },
   "source": [
    "## Part B - Compare and evaluate AI techniques.\n",
    "\n",
    "**Goal**: The goal of this project is to create a model capable of splitting apart sentences in the abstract into structured sections (Ex: objectives, methods, results) to facilitate faster reading for researchers, in this case, in the field of medicine, as abstracts can be exceedingly long.\n",
    "\n",
    "Techniques that can be applied to the problem\n",
    "* ML algorithms\n",
    "  * Multinomial Naive Bayes\n",
    "  * Support Vector Machine (SVM)\n",
    "\n",
    "* Deep sequence models\n",
    "  * Convolutional Neural Network (CNN)\n",
    "  * Recurrent Neural Network (RNN)\n",
    "\n",
    "### **ML algorithms**\n",
    "ML algorithms do not understand text data; converting them into numbers is a priority.  Specifically, in this case, the labels would be the category each sentence belongs to, and the features would be the sentence itself. Encoding the labels will convert them into numbers, and passing the sentences into a [TFidfVectorizer](https://scikit-learn.org/stable/modules/generated/sklearn.feature_extraction.text.TfidfVectorizer.html) will convert them into numbers. The encoded labels and vectorized sentences can then be passed into the Naïve Bayes and SVM algorithms as inputs. The output is expected to return a list of encoded labels upon evaluating some test sentences.\n",
    "\n",
    "#### *Multinomial Naive Bayes*\n",
    "The Naïve Bayes is simply a classifier based on applying the statistical Bayes’ theorem. A multinomial Naïve Bayes model can be used to fit the data using a TF-IDF algorithm. In the [Scikit-Learn ML roadmap](https://scikit-learn.org/stable/tutorial/machine_learning_map/index.html), the Naïve Bayes algorithm is what is recommended as a baseline starting point for textual data.\n",
    "\n",
    "The main advantages of this algorithm are that: it is simple to implement, scalable, can handle large amounts of data, and is quick to train. However, the drawback is that this algorithm can produce relatively lower accuracy than more powerful ones. Furthermore, although the algorithm is considered a good classifier, it could be a better estimator as it assumes that all the features are independent.\n",
    "\n",
    "Since this algorithm does not perform well, it will not be the author’s choice for implementation.\n",
    "\n",
    "#### *SVM*\n",
    "SVMs have supervised learning methods for classification, regression, and outlier detection. The SVM model can also fit the data using the TF-IDF algorithm.\n",
    "\n",
    "The main advantages of SVMs are that they are effective when the data is in high dimensions and memory efficient since they can simultaneously utilize a subset of data. They are versatile as the SVM can use multiple functions to decide. However, they are unsuitable for larger datasets and data containing so much noise.\n",
    "\n",
    "Since the PubMed dataset is significant and likely to contain noise, the author will not use the SVM for implementation.\n",
    "\n",
    "### **Deep sequence models**\n",
    "Inputs for these models are similar to the ones required by the multinomial Naïve Bayes. A vectorization and an embedding layer will be necessary to convert the text to numbers and to capture relationships between those numbers, respectively.\n",
    "\n",
    "Furthermore, the models work best when all the sentences are of the same length, as creating batches will be facilitated - which can be implemented by adding a tokenization layer.\n",
    "\n",
    "Therefore, the sentences would be vectorized and embedded beforehand. Furthermore, the labels must be one-hot encoded, as TensorFlow’s loss function prefers one-hot encoded data. Ultimately, the sentences would be vectorized and embedded, while the labels would be one-hot encoded and fed into the model for training.\n",
    "\n",
    "The outputs of the models would be an array of prediction probabilities upon evaluating the test data. The predicted category of the sentence would be the highest value index.\n",
    "\n",
    "#### *CNN (1D Convolution)*\n",
    "A 1D convolutional can be used to model sequence data. Image classification problems inspired the inception of CNNs; the model can learn the internal representations of a 2D input; however, a tweaked procedure works on 1D sequence data, hence the term Conv1D.\n",
    "\n",
    "The drawbacks of CNN are that, since they are complicated networks, they require a large amount of data and, as a result, take much longer to train. Furthermore, they can be affected by class imbalance and tend to be biased toward the most occurring class. The main advantage of CNN is that they can perform exceptionally well and, at times, even match the performance of RNNs; they have better parallelism and exhibit more stable gradients.\n",
    "\n",
    "However, as mentioned, the CNN is mainly tailored for image data, and there is a better option for modelling sequence data: RNN.\n",
    "\n",
    "#### *RNN (LSTM)*\n",
    "An RNN processes sequence input by iterating through the elements and passes the outputs from one timestep to the next. A Bidirectional RNN can also give the data back to the previous timestep. Arguably, the most common RNN for sequence modelling is LSTM.\n",
    "\n",
    "LSTMs are great for sequence modelling, especially since it has memory, which is essential when modelling data where the context is important, specifically in this case, for sentences, as the following word depends on the previous. Additionally, training can be much faster as there is no need for parameter fine-tuning as they work well over a broad range of parameters. They do, however, have certain drawbacks. Since it is also a deep neural net, it takes a longer time to train and can require more memory. Further, they can easily overfit the data.\n",
    "\n",
    "\n",
    "**Choice of the algorithm to explore further**\n",
    "\n",
    "The author believes that the best way to implement the model is by utilizing an LSTM since it can store the memory of the past. In this case, specifically, it has information on the words before the current term in the specific sentence. Although the model could overfit, this can be solved using Regularization techniques if necessary, and training the model can utilize Google Colab's GPU, thus reducing training time.\n"
   ]
  },
  {
   "cell_type": "markdown",
   "metadata": {
    "id": "dDWUcMGOauy8"
   },
   "source": [
    "## Part C - Implementation\n",
    "\n",
    "### A\n",
    "#### Data source\n",
    "Source: [*PubMed 200k RCT: a Dataset for Sequential Sentence Classification in \n",
    "Medical Abstracts*](https://arxiv.org/abs/1710.06071)\n",
    "\n",
    "The above paper presented a new dataset called PubMed 200k RCT which consists of ~200,000 labelled Randomized Controlled Trial (RCT) abstracts.\n",
    "\n",
    "#### Data description/preparation\n",
    "The required data for the implementation would be sentences of abstracts and their respective labels (which category they will belong to). A structured file consisting of these would be ideal.\n",
    "\n",
    "Dataset: https://github.com/Franck-Dernoncourt/pubmed-rct.git\n",
    "\n",
    "The dataset mentioned in the above paper can be obtained from the above GitHub link by cloning the repository. Further, it consists of data in a structured file.\n",
    "\n",
    "Once cloned, the data must be preprocessed as it is not in the form the model requires.\n",
    "1. The data must be broken down into a suitable format to facilitate further preprocessing.\n",
    "2. The labels must be encoded into numbers via label encoding and one-hot encoding.\n",
    "3. The sentences must be vectorized & an embedding layer must be created.\n",
    "4. Upon the mentioned preprocessing, the data can be passed into the model.\n",
    "\n",
    "***The preprocessing steps, data exploration, and others will be described under each subsection of this notebook.***\n",
    "\n",
    "### B - High Level Architecture\n",
    "<img src='https://nft-mp-nft-v1-dev-resources.s3.amazonaws.com/images/HLA.png' />\n",
    "\n",
    "As mentioned above, the data must be preprocessed before being fed into the model. The data is also converted into TensorFlow datasets, which makes it more efficient by building high-performant data pipelines and hence faster training. While the model is being trained, TensorBoard logs are being recorded, which makes it easy to visualize the model's performance over time. The model is strictly evaluated upon training by displaying a confusion matrix and a classification report. Further, the model's most incorrect predictions are identified, and new example abstracts are tested.\n",
    "\n",
    "### Examples\n",
    "An example input for the model [harder to read abstract from PubMed](https://pubmed.ncbi.nlm.nih.gov/28942748/)\n",
    "<img src='https://nft-mp-nft-v1-dev-resources.s3.amazonaws.com/images/ai_cw_abs0.png' />\n",
    "\n",
    "An example output of the model [easier to read abstract](https://pubmed.ncbi.nlm.nih.gov/32537182/)\n",
    "<img src='https://nft-mp-nft-v1-dev-resources.s3.amazonaws.com/images/ai_cw_abs1.png' />"
   ]
  },
  {
   "cell_type": "code",
   "execution_count": null,
   "metadata": {
    "colab": {
     "base_uri": "https://localhost:8080/"
    },
    "id": "dsuQCg5Uaw1w",
    "outputId": "50e1473a-b5b9-4d2b-8b99-b66f25fec29a"
   },
   "outputs": [
    {
     "name": "stdout",
     "output_type": "stream",
     "text": [
      "GPU 0: Tesla T4 (UUID: GPU-2a8ce001-1dc8-14a5-71b7-e03275a3ac6e)\n"
     ]
    }
   ],
   "source": [
    "# Check for GPU\n",
    "!nvidia-smi -L"
   ]
  },
  {
   "cell_type": "code",
   "execution_count": null,
   "metadata": {
    "id": "ionrDpYWTl_0"
   },
   "outputs": [],
   "source": [
    "# Import necessary modules\n",
    "import tensorflow as tf\n",
    "import tensorflow_hub as hub\n",
    "from tensorflow.keras import layers\n",
    "from tensorflow.keras.layers import TextVectorization\n",
    "from tensorflow.keras.utils import plot_model\n",
    "from sklearn.preprocessing import OneHotEncoder, LabelEncoder\n",
    "%load_ext tensorboard\n",
    "\n",
    "import matplotlib.pyplot as plt\n",
    "import pandas as pd\n",
    "import numpy as np\n",
    "\n",
    "# Evaluation\n",
    "from sklearn.metrics import confusion_matrix, ConfusionMatrixDisplay, accuracy_score, precision_recall_fscore_support, classification_report\n",
    "\n",
    "# Utils\n",
    "import datetime\n",
    "import os\n",
    "import random\n",
    "import string\n",
    "import json\n",
    "from spacy.lang.en import English"
   ]
  },
  {
   "cell_type": "markdown",
   "metadata": {
    "id": "tIMlmVn8D7fU"
   },
   "source": [
    "### Create helper functions\n"
   ]
  },
  {
   "cell_type": "code",
   "execution_count": null,
   "metadata": {
    "id": "ch_oC1mSERYa"
   },
   "outputs": [],
   "source": [
    "# Create a tensorboard callback\n",
    "def create_tensorboard_callback(dir_name, experiment_name):\n",
    "  log_dir = dir_name + '/' + experiment_name + '/' + datetime.datetime.now().strftime('%Y%m%d-%H%M%S')\n",
    "  tensorboard_callback = tf.keras.callbacks.TensorBoard(\n",
    "      log_dir=log_dir\n",
    "  )\n",
    "  print(f'Saving TensorBoard log files to: {log_dir}')\n",
    "  return tensorboard_callback\n",
    "\n",
    "# Create early stopping and reduce lr callbacks\n",
    "def create_additional_callbacks():\n",
    "  early_stopping = tf.keras.callbacks.EarlyStopping(\n",
    "    monitor='val_loss',\n",
    "    patience=3,\n",
    "  )\n",
    "\n",
    "  reduce_lr = tf.keras.callbacks.ReduceLROnPlateau(\n",
    "      monitor='val_loss',\n",
    "      factor=0.2,\n",
    "      patience=5,\n",
    "      min_lr=0.001\n",
    "  )\n",
    "\n",
    "  return early_stopping, reduce_lr\n",
    "\n",
    "\n",
    "# Plot loss curves of a model's history\n",
    "def plot_loss_curves(history):\n",
    "  loss = history.history['loss']\n",
    "  val_loss = history.history['val_loss']\n",
    "\n",
    "  accuracy = history.history['accuracy']\n",
    "  val_accuracy = history.history['val_accuracy']\n",
    "\n",
    "  epochs = range(len(history.history['loss']))\n",
    "\n",
    "  # Plot loss\n",
    "  plt.plot(epochs, loss, label='training_loss')\n",
    "  plt.plot(epochs, val_loss, label='val_loss')\n",
    "  plt.title('Loss')\n",
    "  plt.xlabel('Epochs')\n",
    "  plt.legend()\n",
    "\n",
    "  # Plot accuracy\n",
    "  plt.figure()\n",
    "  plt.plot(epochs, accuracy, label='training_accuracy')\n",
    "  plt.plot(epochs, val_accuracy, label='val_accuracy')\n",
    "  plt.title('Accuracy')\n",
    "  plt.xlabel('Epochs')\n",
    "  plt.legend();\n",
    "\n",
    "# Calculate model accuracy, precision, recall and f1 score\n",
    "def calculate_results(y_true, y_pred):\n",
    "  model_accuracy = accuracy_score(y_true, y_pred) * 100\n",
    "  model_precision, model_recall, model_f1, _ = precision_recall_fscore_support(\n",
    "      y_true,\n",
    "      y_pred,\n",
    "      average='weighted'\n",
    "  )\n",
    "\n",
    "  model_results = {\n",
    "      'accuracy': model_accuracy,\n",
    "      'precision': model_precision,\n",
    "      'recall': model_recall,\n",
    "      'f1': model_f1\n",
    "  }\n",
    "\n",
    "  return model_results\n",
    "\n",
    "# Plot model's confusion matrix\n",
    "def plot_confusion_matrix(y_true, y_pred):\n",
    "  cm = confusion_matrix(y_true, y_pred)\n",
    "  cm_d = ConfusionMatrixDisplay(cm)\n",
    "  cm_d.plot();"
   ]
  },
  {
   "cell_type": "markdown",
   "metadata": {
    "id": "2MdzfDdzaQCb"
   },
   "source": [
    "### Get data\n",
    "\n",
    "Before the model can be built, the dataset must be obtained.\n",
    "\n",
    "The paper's authors have made the data they used for their research publicly availabley [on GitHub](https://github.com/Franck-Dernoncourt/pubmed-rct).\n",
    "\n",
    "This can be cloned into the local directory using `git clone https://github.com/Franck-Dernoncourt/pubmed-rct`."
   ]
  },
  {
   "cell_type": "code",
   "execution_count": null,
   "metadata": {
    "colab": {
     "base_uri": "https://localhost:8080/"
    },
    "id": "c0qt0M55a98x",
    "outputId": "25b71eed-3411-4ebe-f1c2-8757304b62c8"
   },
   "outputs": [
    {
     "name": "stdout",
     "output_type": "stream",
     "text": [
      "fatal: destination path 'pubmed-rct' already exists and is not an empty directory.\n",
      "PubMed_200k_RCT\n",
      "PubMed_200k_RCT_numbers_replaced_with_at_sign\n",
      "PubMed_20k_RCT\n",
      "PubMed_20k_RCT_numbers_replaced_with_at_sign\n",
      "README.md\n"
     ]
    }
   ],
   "source": [
    "!git clone https://github.com/Franck-Dernoncourt/pubmed-rct.git\n",
    "!ls pubmed-rct"
   ]
  },
  {
   "cell_type": "markdown",
   "metadata": {
    "id": "Y3Oe1F6e7y0E"
   },
   "source": [
    "### Data exploration\n",
    "\n",
    "There are four folders in the repository, and each contains a different version of the PubMed 200k RCT dataset.\n",
    "\n",
    "Reading the [README file](https://github.com/Franck-Dernoncourt/pubmed-rct) from the GitHub page, the following can be observed:\n",
    "* PubMed 20k is a subset of PubMed 200k.\n",
    "* `PubMed_200k_RCT` is the same as `PubMed_200k_RCT_numbers_replaced_with_at_sign`, except that in the latter all numbers had been replaced by `@`. (same for `PubMed_20k_RCT` vs. `PubMed_20k_RCT_numbers_replaced_with_at_sign`).\n",
    "* Since GitHub's file size limit is 100 MiB, we had to compress `PubMed_200k_RCT\\train.7z` and `PubMed_200k_RCT_numbers_replaced_with_at_sign\\train.zip`. To uncompress `train.7z`, you may use 7-Zip on Windows, Keka on Mac OS X, or p7zip on Linux.\n",
    "\n",
    "To begin with, the subsetted dataset should be used, as experimentation is faster in smaller datasets. Specifically, the `PubMed_20k_RCT_numbers_replaced_with_at_sign` folder.\n",
    "\n",
    "The dataset with the numbers can also be used instead of the chosen one."
   ]
  },
  {
   "cell_type": "code",
   "execution_count": null,
   "metadata": {
    "colab": {
     "base_uri": "https://localhost:8080/"
    },
    "id": "crmxKEJ69bNW",
    "outputId": "b56c40d0-b08f-4c0a-c308-79d1ab7015a5"
   },
   "outputs": [
    {
     "name": "stdout",
     "output_type": "stream",
     "text": [
      "dev.txt  test.txt  train.txt\n"
     ]
    }
   ],
   "source": [
    "# Check what files are in the PubMed_20K dataset \n",
    "!ls pubmed-rct/PubMed_20k_RCT_numbers_replaced_with_at_sign"
   ]
  },
  {
   "cell_type": "markdown",
   "metadata": {
    "id": "joApaTyD_DYL"
   },
   "source": [
    "The three separate text files are as follows:\n",
    "* `train.txt` - training samples.\n",
    "* `dev.txt` - validation data, for hyperparameter tuning.\n",
    "* `test.txt` - test samples."
   ]
  },
  {
   "cell_type": "code",
   "execution_count": null,
   "metadata": {
    "id": "C1Zp21fGbBUJ"
   },
   "outputs": [],
   "source": [
    "data_dir = 'pubmed-rct/PubMed_20k_RCT_numbers_replaced_with_at_sign/'"
   ]
  },
  {
   "cell_type": "code",
   "execution_count": null,
   "metadata": {
    "colab": {
     "base_uri": "https://localhost:8080/"
    },
    "id": "CWqMrjLCbFTr",
    "outputId": "46452d3f-c619-40d0-ca2f-bc9da1884cf4"
   },
   "outputs": [
    {
     "data": {
      "text/plain": [
       "['pubmed-rct/PubMed_20k_RCT_numbers_replaced_with_at_sign/dev.txt',\n",
       " 'pubmed-rct/PubMed_20k_RCT_numbers_replaced_with_at_sign/test.txt',\n",
       " 'pubmed-rct/PubMed_20k_RCT_numbers_replaced_with_at_sign/train.txt']"
      ]
     },
     "execution_count": 7,
     "metadata": {},
     "output_type": "execute_result"
    }
   ],
   "source": [
    "# Check all of the filenames in the target directory\n",
    "filenames = [data_dir + filename for filename in os.listdir(data_dir)]\n",
    "filenames"
   ]
  },
  {
   "cell_type": "code",
   "execution_count": null,
   "metadata": {
    "id": "2yjdhJxbbIhX"
   },
   "outputs": [],
   "source": [
    "# Create function to read the lines of a document\n",
    "def get_lines(filename):\n",
    "  with open(filename, 'r') as f:\n",
    "    return f.readlines()"
   ]
  },
  {
   "cell_type": "code",
   "execution_count": null,
   "metadata": {
    "colab": {
     "base_uri": "https://localhost:8080/"
    },
    "id": "IT7RMQsEbI0I",
    "outputId": "3b95940b-3a15-40f3-b116-60803e4f0145"
   },
   "outputs": [
    {
     "data": {
      "text/plain": [
       "['###24293578\\n',\n",
       " 'OBJECTIVE\\tTo investigate the efficacy of @ weeks of daily low-dose oral prednisolone in improving pain , mobility , and systemic low-grade inflammation in the short term and whether the effect would be sustained at @ weeks in older adults with moderate to severe knee osteoarthritis ( OA ) .\\n',\n",
       " 'METHODS\\tA total of @ patients with primary knee OA were randomized @:@ ; @ received @ mg/day of prednisolone and @ received placebo for @ weeks .\\n',\n",
       " 'METHODS\\tOutcome measures included pain reduction and improvement in function scores and systemic inflammation markers .\\n',\n",
       " 'METHODS\\tPain was assessed using the visual analog pain scale ( @-@ mm ) .\\n',\n",
       " 'METHODS\\tSecondary outcome measures included the Western Ontario and McMaster Universities Osteoarthritis Index scores , patient global assessment ( PGA ) of the severity of knee OA , and @-min walk distance ( @MWD ) .\\n',\n",
       " 'METHODS\\tSerum levels of interleukin @ ( IL-@ ) , IL-@ , tumor necrosis factor ( TNF ) - , and high-sensitivity C-reactive protein ( hsCRP ) were measured .\\n',\n",
       " 'RESULTS\\tThere was a clinically relevant reduction in the intervention group compared to the placebo group for knee pain , physical function , PGA , and @MWD at @ weeks .\\n',\n",
       " 'RESULTS\\tThe mean difference between treatment arms ( @ % CI ) was @ ( @-@ @ ) , p < @ ; @ ( @-@ @ ) , p < @ ; @ ( @-@ @ ) , p < @ ; and @ ( @-@ @ ) , p < @ , respectively .\\n',\n",
       " 'RESULTS\\tFurther , there was a clinically relevant reduction in the serum levels of IL-@ , IL-@ , TNF - , and hsCRP at @ weeks in the intervention group when compared to the placebo group .\\n',\n",
       " 'RESULTS\\tThese differences remained significant at @ weeks .\\n',\n",
       " 'RESULTS\\tThe Outcome Measures in Rheumatology Clinical Trials-Osteoarthritis Research Society International responder rate was @ % in the intervention group and @ % in the placebo group ( p < @ ) .\\n',\n",
       " 'CONCLUSIONS\\tLow-dose oral prednisolone had both a short-term and a longer sustained effect resulting in less knee pain , better physical function , and attenuation of systemic inflammation in older patients with knee OA ( ClinicalTrials.gov identifier NCT@ ) .\\n',\n",
       " '\\n',\n",
       " '###24854809\\n',\n",
       " 'BACKGROUND\\tEmotional eating is associated with overeating and the development of obesity .\\n',\n",
       " 'BACKGROUND\\tYet , empirical evidence for individual ( trait ) differences in emotional eating and cognitive mechanisms that contribute to eating during sad mood remain equivocal .\\n',\n",
       " 'OBJECTIVE\\tThe aim of this study was to test if attention bias for food moderates the effect of self-reported emotional eating during sad mood ( vs neutral mood ) on actual food intake .\\n',\n",
       " 'OBJECTIVE\\tIt was expected that emotional eating is predictive of elevated attention for food and higher food intake after an experimentally induced sad mood and that attentional maintenance on food predicts food intake during a sad versus a neutral mood .\\n',\n",
       " 'METHODS\\tParticipants ( N = @ ) were randomly assigned to one of the two experimental mood induction conditions ( sad/neutral ) .\\n']"
      ]
     },
     "execution_count": 9,
     "metadata": {},
     "output_type": "execute_result"
    }
   ],
   "source": [
    "train_lines = get_lines(data_dir + 'train.txt')\n",
    "\n",
    "# the whole first abstract + a little of the next one\n",
    "train_lines[:20]"
   ]
  },
  {
   "cell_type": "markdown",
   "metadata": {
    "id": "Alja8HmAyyWT"
   },
   "source": [
    "Reading the lines from the training text file results in a list of strings containing different abstract samples, the sentences in a sample, and their category.\n",
    "\n",
    "The category of each sentence is prefixed at the start of each line, separated by a tab (`\\t`), and each sentence finishes with a new line (`\\n`).\n",
    "\n",
    "Different abstracts are separated by abstract IDs (lines beginning with `###`) and newlines (`\\n`).\n",
    "\n",
    "Knowing this, there is quite a bit of preprocessing to be done before being used as training data."
   ]
  },
  {
   "cell_type": "markdown",
   "metadata": {
    "id": "j-IfwKVAbJAy"
   },
   "source": [
    "### Preprocess data\n",
    "\n",
    "A preprocessing function must be created that does the following:\n",
    "* Read lines from a target file of abstract samples.\n",
    "* For each line in the target file:  \n",
    "  * If the line begins with `###` mark, it as an abstract ID and the beginning of a new abstract.\n",
    "  * If the line begins with `\\n` mark, it as the end of an abstract sample.\n",
    "  * Record the text before the `\\t` as the label of the line.\n",
    "  * Record the text after the `\\t` as the text of the line.\n",
    "* Return all of the lines in the target text file as a list of dictionaries containing the key/value pairs where the keys would be `line_number`, `target`, `text`, and `total_lines`\n",
    "\n",
    "\n",
    "Abstract IDs, newlines & tabs should be omitted from the returned preprocessed data as they are not required.\n",
    "\n",
    "Example preprocessed sentence:\n",
    "\n",
    "```\n",
    "[{'line_number': 0,\n",
    "  'target': 'OBJECTIVE',\n",
    "  'text': 'to investigate the efficacy of @ weeks of daily low-dose oral prednisolone in improving pain , mobility , and systemic low-grade inflammation in the short term and whether the effect would be sustained at @ weeks in older adults with moderate to severe knee osteoarthritis ( oa ) .',\n",
    "  'total_lines': 11},\n",
    "  ...]\n",
    "```"
   ]
  },
  {
   "cell_type": "code",
   "execution_count": null,
   "metadata": {
    "id": "B65Ffn9abJKH"
   },
   "outputs": [],
   "source": [
    "def preprocess_text(filename):\n",
    "  input_lines = get_lines(filename)\n",
    "  abstract_lines = ''\n",
    "  abstract_samples = []\n",
    "  \n",
    "  for line in input_lines:\n",
    "    # Is line start of an abstract\n",
    "    if line.startswith('###'):\n",
    "      abstract_id = line\n",
    "      abstract_lines = ''\n",
    "\n",
    "    # Is line a new line\n",
    "    elif line.isspace():\n",
    "      abstract_line_split = abstract_lines.splitlines()\n",
    "\n",
    "      for abstract_line_number, abstract_line in enumerate(abstract_line_split):\n",
    "        line_data = {}\n",
    "        target_text_split = abstract_line.split('\\t')\n",
    "        line_data['target'] = target_text_split[0]\n",
    "        line_data['text'] = target_text_split[1].lower()\n",
    "        line_data['line_number'] = abstract_line_number\n",
    "\n",
    "        # Total lines in abstract - starts from 0\n",
    "        line_data['total_lines'] = len(abstract_line_split) - 1\n",
    "        abstract_samples.append(line_data)\n",
    "    \n",
    "    # if the above conditions aren't fulfilled, the line contains a labelled sentence\n",
    "    else:\n",
    "      abstract_lines += line\n",
    "  \n",
    "  return abstract_samples"
   ]
  },
  {
   "cell_type": "code",
   "execution_count": null,
   "metadata": {
    "colab": {
     "base_uri": "https://localhost:8080/"
    },
    "id": "yDd28-PfgoUP",
    "outputId": "423ffc35-efcc-4751-9058-431c832e70c1"
   },
   "outputs": [
    {
     "name": "stdout",
     "output_type": "stream",
     "text": [
      "CPU times: user 392 ms, sys: 107 ms, total: 500 ms\n",
      "Wall time: 532 ms\n"
     ]
    },
    {
     "data": {
      "text/plain": [
       "(180040, 30212, 30135)"
      ]
     },
     "execution_count": 11,
     "metadata": {},
     "output_type": "execute_result"
    }
   ],
   "source": [
    "# Get data from file and preprocess it\n",
    "%%time\n",
    "train_samples = preprocess_text(data_dir + 'train.txt')\n",
    "val_samples = preprocess_text(data_dir + 'dev.txt')\n",
    "test_samples = preprocess_text(data_dir + 'test.txt')\n",
    "len(train_samples), len(val_samples), len(test_samples)"
   ]
  },
  {
   "cell_type": "code",
   "execution_count": null,
   "metadata": {
    "colab": {
     "base_uri": "https://localhost:8080/"
    },
    "id": "FcYkHrnnh0lf",
    "outputId": "6b7548dc-064d-485e-97e3-61b35bf4e6fc"
   },
   "outputs": [
    {
     "data": {
      "text/plain": [
       "[{'target': 'OBJECTIVE',\n",
       "  'text': 'to investigate the efficacy of @ weeks of daily low-dose oral prednisolone in improving pain , mobility , and systemic low-grade inflammation in the short term and whether the effect would be sustained at @ weeks in older adults with moderate to severe knee osteoarthritis ( oa ) .',\n",
       "  'line_number': 0,\n",
       "  'total_lines': 11},\n",
       " {'target': 'METHODS',\n",
       "  'text': 'a total of @ patients with primary knee oa were randomized @:@ ; @ received @ mg/day of prednisolone and @ received placebo for @ weeks .',\n",
       "  'line_number': 1,\n",
       "  'total_lines': 11},\n",
       " {'target': 'METHODS',\n",
       "  'text': 'outcome measures included pain reduction and improvement in function scores and systemic inflammation markers .',\n",
       "  'line_number': 2,\n",
       "  'total_lines': 11},\n",
       " {'target': 'METHODS',\n",
       "  'text': 'pain was assessed using the visual analog pain scale ( @-@ mm ) .',\n",
       "  'line_number': 3,\n",
       "  'total_lines': 11},\n",
       " {'target': 'METHODS',\n",
       "  'text': 'secondary outcome measures included the western ontario and mcmaster universities osteoarthritis index scores , patient global assessment ( pga ) of the severity of knee oa , and @-min walk distance ( @mwd ) .',\n",
       "  'line_number': 4,\n",
       "  'total_lines': 11},\n",
       " {'target': 'METHODS',\n",
       "  'text': 'serum levels of interleukin @ ( il-@ ) , il-@ , tumor necrosis factor ( tnf ) - , and high-sensitivity c-reactive protein ( hscrp ) were measured .',\n",
       "  'line_number': 5,\n",
       "  'total_lines': 11},\n",
       " {'target': 'RESULTS',\n",
       "  'text': 'there was a clinically relevant reduction in the intervention group compared to the placebo group for knee pain , physical function , pga , and @mwd at @ weeks .',\n",
       "  'line_number': 6,\n",
       "  'total_lines': 11},\n",
       " {'target': 'RESULTS',\n",
       "  'text': 'the mean difference between treatment arms ( @ % ci ) was @ ( @-@ @ ) , p < @ ; @ ( @-@ @ ) , p < @ ; @ ( @-@ @ ) , p < @ ; and @ ( @-@ @ ) , p < @ , respectively .',\n",
       "  'line_number': 7,\n",
       "  'total_lines': 11},\n",
       " {'target': 'RESULTS',\n",
       "  'text': 'further , there was a clinically relevant reduction in the serum levels of il-@ , il-@ , tnf - , and hscrp at @ weeks in the intervention group when compared to the placebo group .',\n",
       "  'line_number': 8,\n",
       "  'total_lines': 11},\n",
       " {'target': 'RESULTS',\n",
       "  'text': 'these differences remained significant at @ weeks .',\n",
       "  'line_number': 9,\n",
       "  'total_lines': 11},\n",
       " {'target': 'RESULTS',\n",
       "  'text': 'the outcome measures in rheumatology clinical trials-osteoarthritis research society international responder rate was @ % in the intervention group and @ % in the placebo group ( p < @ ) .',\n",
       "  'line_number': 10,\n",
       "  'total_lines': 11},\n",
       " {'target': 'CONCLUSIONS',\n",
       "  'text': 'low-dose oral prednisolone had both a short-term and a longer sustained effect resulting in less knee pain , better physical function , and attenuation of systemic inflammation in older patients with knee oa ( clinicaltrials.gov identifier nct@ ) .',\n",
       "  'line_number': 11,\n",
       "  'total_lines': 11},\n",
       " {'target': 'BACKGROUND',\n",
       "  'text': 'emotional eating is associated with overeating and the development of obesity .',\n",
       "  'line_number': 0,\n",
       "  'total_lines': 10},\n",
       " {'target': 'BACKGROUND',\n",
       "  'text': 'yet , empirical evidence for individual ( trait ) differences in emotional eating and cognitive mechanisms that contribute to eating during sad mood remain equivocal .',\n",
       "  'line_number': 1,\n",
       "  'total_lines': 10}]"
      ]
     },
     "execution_count": 12,
     "metadata": {},
     "output_type": "execute_result"
    }
   ],
   "source": [
    "# Check the first abstract of the training data\n",
    "train_samples[:14]"
   ]
  },
  {
   "cell_type": "markdown",
   "metadata": {
    "id": "wzFwgxkQhzJS"
   },
   "source": [
    "Convert data into a pandas dataframe so analyzing is easier"
   ]
  },
  {
   "cell_type": "code",
   "execution_count": null,
   "metadata": {
    "colab": {
     "base_uri": "https://localhost:8080/",
     "height": 488
    },
    "id": "RRSTUXuth9jJ",
    "outputId": "7372cf7e-9107-42dc-a2a8-74ecc8246988"
   },
   "outputs": [
    {
     "data": {
      "text/html": [
       "\n",
       "  <div id=\"df-f3646a54-3bb1-4066-b179-3fa9592d7434\">\n",
       "    <div class=\"colab-df-container\">\n",
       "      <div>\n",
       "<style scoped>\n",
       "    .dataframe tbody tr th:only-of-type {\n",
       "        vertical-align: middle;\n",
       "    }\n",
       "\n",
       "    .dataframe tbody tr th {\n",
       "        vertical-align: top;\n",
       "    }\n",
       "\n",
       "    .dataframe thead th {\n",
       "        text-align: right;\n",
       "    }\n",
       "</style>\n",
       "<table border=\"1\" class=\"dataframe\">\n",
       "  <thead>\n",
       "    <tr style=\"text-align: right;\">\n",
       "      <th></th>\n",
       "      <th>target</th>\n",
       "      <th>text</th>\n",
       "      <th>line_number</th>\n",
       "      <th>total_lines</th>\n",
       "    </tr>\n",
       "  </thead>\n",
       "  <tbody>\n",
       "    <tr>\n",
       "      <th>0</th>\n",
       "      <td>OBJECTIVE</td>\n",
       "      <td>to investigate the efficacy of @ weeks of dail...</td>\n",
       "      <td>0</td>\n",
       "      <td>11</td>\n",
       "    </tr>\n",
       "    <tr>\n",
       "      <th>1</th>\n",
       "      <td>METHODS</td>\n",
       "      <td>a total of @ patients with primary knee oa wer...</td>\n",
       "      <td>1</td>\n",
       "      <td>11</td>\n",
       "    </tr>\n",
       "    <tr>\n",
       "      <th>2</th>\n",
       "      <td>METHODS</td>\n",
       "      <td>outcome measures included pain reduction and i...</td>\n",
       "      <td>2</td>\n",
       "      <td>11</td>\n",
       "    </tr>\n",
       "    <tr>\n",
       "      <th>3</th>\n",
       "      <td>METHODS</td>\n",
       "      <td>pain was assessed using the visual analog pain...</td>\n",
       "      <td>3</td>\n",
       "      <td>11</td>\n",
       "    </tr>\n",
       "    <tr>\n",
       "      <th>4</th>\n",
       "      <td>METHODS</td>\n",
       "      <td>secondary outcome measures included the wester...</td>\n",
       "      <td>4</td>\n",
       "      <td>11</td>\n",
       "    </tr>\n",
       "    <tr>\n",
       "      <th>5</th>\n",
       "      <td>METHODS</td>\n",
       "      <td>serum levels of interleukin @ ( il-@ ) , il-@ ...</td>\n",
       "      <td>5</td>\n",
       "      <td>11</td>\n",
       "    </tr>\n",
       "    <tr>\n",
       "      <th>6</th>\n",
       "      <td>RESULTS</td>\n",
       "      <td>there was a clinically relevant reduction in t...</td>\n",
       "      <td>6</td>\n",
       "      <td>11</td>\n",
       "    </tr>\n",
       "    <tr>\n",
       "      <th>7</th>\n",
       "      <td>RESULTS</td>\n",
       "      <td>the mean difference between treatment arms ( @...</td>\n",
       "      <td>7</td>\n",
       "      <td>11</td>\n",
       "    </tr>\n",
       "    <tr>\n",
       "      <th>8</th>\n",
       "      <td>RESULTS</td>\n",
       "      <td>further , there was a clinically relevant redu...</td>\n",
       "      <td>8</td>\n",
       "      <td>11</td>\n",
       "    </tr>\n",
       "    <tr>\n",
       "      <th>9</th>\n",
       "      <td>RESULTS</td>\n",
       "      <td>these differences remained significant at @ we...</td>\n",
       "      <td>9</td>\n",
       "      <td>11</td>\n",
       "    </tr>\n",
       "    <tr>\n",
       "      <th>10</th>\n",
       "      <td>RESULTS</td>\n",
       "      <td>the outcome measures in rheumatology clinical ...</td>\n",
       "      <td>10</td>\n",
       "      <td>11</td>\n",
       "    </tr>\n",
       "    <tr>\n",
       "      <th>11</th>\n",
       "      <td>CONCLUSIONS</td>\n",
       "      <td>low-dose oral prednisolone had both a short-te...</td>\n",
       "      <td>11</td>\n",
       "      <td>11</td>\n",
       "    </tr>\n",
       "    <tr>\n",
       "      <th>12</th>\n",
       "      <td>BACKGROUND</td>\n",
       "      <td>emotional eating is associated with overeating...</td>\n",
       "      <td>0</td>\n",
       "      <td>10</td>\n",
       "    </tr>\n",
       "    <tr>\n",
       "      <th>13</th>\n",
       "      <td>BACKGROUND</td>\n",
       "      <td>yet , empirical evidence for individual ( trai...</td>\n",
       "      <td>1</td>\n",
       "      <td>10</td>\n",
       "    </tr>\n",
       "  </tbody>\n",
       "</table>\n",
       "</div>\n",
       "      <button class=\"colab-df-convert\" onclick=\"convertToInteractive('df-f3646a54-3bb1-4066-b179-3fa9592d7434')\"\n",
       "              title=\"Convert this dataframe to an interactive table.\"\n",
       "              style=\"display:none;\">\n",
       "        \n",
       "  <svg xmlns=\"http://www.w3.org/2000/svg\" height=\"24px\"viewBox=\"0 0 24 24\"\n",
       "       width=\"24px\">\n",
       "    <path d=\"M0 0h24v24H0V0z\" fill=\"none\"/>\n",
       "    <path d=\"M18.56 5.44l.94 2.06.94-2.06 2.06-.94-2.06-.94-.94-2.06-.94 2.06-2.06.94zm-11 1L8.5 8.5l.94-2.06 2.06-.94-2.06-.94L8.5 2.5l-.94 2.06-2.06.94zm10 10l.94 2.06.94-2.06 2.06-.94-2.06-.94-.94-2.06-.94 2.06-2.06.94z\"/><path d=\"M17.41 7.96l-1.37-1.37c-.4-.4-.92-.59-1.43-.59-.52 0-1.04.2-1.43.59L10.3 9.45l-7.72 7.72c-.78.78-.78 2.05 0 2.83L4 21.41c.39.39.9.59 1.41.59.51 0 1.02-.2 1.41-.59l7.78-7.78 2.81-2.81c.8-.78.8-2.07 0-2.86zM5.41 20L4 18.59l7.72-7.72 1.47 1.35L5.41 20z\"/>\n",
       "  </svg>\n",
       "      </button>\n",
       "      \n",
       "  <style>\n",
       "    .colab-df-container {\n",
       "      display:flex;\n",
       "      flex-wrap:wrap;\n",
       "      gap: 12px;\n",
       "    }\n",
       "\n",
       "    .colab-df-convert {\n",
       "      background-color: #E8F0FE;\n",
       "      border: none;\n",
       "      border-radius: 50%;\n",
       "      cursor: pointer;\n",
       "      display: none;\n",
       "      fill: #1967D2;\n",
       "      height: 32px;\n",
       "      padding: 0 0 0 0;\n",
       "      width: 32px;\n",
       "    }\n",
       "\n",
       "    .colab-df-convert:hover {\n",
       "      background-color: #E2EBFA;\n",
       "      box-shadow: 0px 1px 2px rgba(60, 64, 67, 0.3), 0px 1px 3px 1px rgba(60, 64, 67, 0.15);\n",
       "      fill: #174EA6;\n",
       "    }\n",
       "\n",
       "    [theme=dark] .colab-df-convert {\n",
       "      background-color: #3B4455;\n",
       "      fill: #D2E3FC;\n",
       "    }\n",
       "\n",
       "    [theme=dark] .colab-df-convert:hover {\n",
       "      background-color: #434B5C;\n",
       "      box-shadow: 0px 1px 3px 1px rgba(0, 0, 0, 0.15);\n",
       "      filter: drop-shadow(0px 1px 2px rgba(0, 0, 0, 0.3));\n",
       "      fill: #FFFFFF;\n",
       "    }\n",
       "  </style>\n",
       "\n",
       "      <script>\n",
       "        const buttonEl =\n",
       "          document.querySelector('#df-f3646a54-3bb1-4066-b179-3fa9592d7434 button.colab-df-convert');\n",
       "        buttonEl.style.display =\n",
       "          google.colab.kernel.accessAllowed ? 'block' : 'none';\n",
       "\n",
       "        async function convertToInteractive(key) {\n",
       "          const element = document.querySelector('#df-f3646a54-3bb1-4066-b179-3fa9592d7434');\n",
       "          const dataTable =\n",
       "            await google.colab.kernel.invokeFunction('convertToInteractive',\n",
       "                                                     [key], {});\n",
       "          if (!dataTable) return;\n",
       "\n",
       "          const docLinkHtml = 'Like what you see? Visit the ' +\n",
       "            '<a target=\"_blank\" href=https://colab.research.google.com/notebooks/data_table.ipynb>data table notebook</a>'\n",
       "            + ' to learn more about interactive tables.';\n",
       "          element.innerHTML = '';\n",
       "          dataTable['output_type'] = 'display_data';\n",
       "          await google.colab.output.renderOutput(dataTable, element);\n",
       "          const docLink = document.createElement('div');\n",
       "          docLink.innerHTML = docLinkHtml;\n",
       "          element.appendChild(docLink);\n",
       "        }\n",
       "      </script>\n",
       "    </div>\n",
       "  </div>\n",
       "  "
      ],
      "text/plain": [
       "         target                                               text  \\\n",
       "0     OBJECTIVE  to investigate the efficacy of @ weeks of dail...   \n",
       "1       METHODS  a total of @ patients with primary knee oa wer...   \n",
       "2       METHODS  outcome measures included pain reduction and i...   \n",
       "3       METHODS  pain was assessed using the visual analog pain...   \n",
       "4       METHODS  secondary outcome measures included the wester...   \n",
       "5       METHODS  serum levels of interleukin @ ( il-@ ) , il-@ ...   \n",
       "6       RESULTS  there was a clinically relevant reduction in t...   \n",
       "7       RESULTS  the mean difference between treatment arms ( @...   \n",
       "8       RESULTS  further , there was a clinically relevant redu...   \n",
       "9       RESULTS  these differences remained significant at @ we...   \n",
       "10      RESULTS  the outcome measures in rheumatology clinical ...   \n",
       "11  CONCLUSIONS  low-dose oral prednisolone had both a short-te...   \n",
       "12   BACKGROUND  emotional eating is associated with overeating...   \n",
       "13   BACKGROUND  yet , empirical evidence for individual ( trai...   \n",
       "\n",
       "    line_number  total_lines  \n",
       "0             0           11  \n",
       "1             1           11  \n",
       "2             2           11  \n",
       "3             3           11  \n",
       "4             4           11  \n",
       "5             5           11  \n",
       "6             6           11  \n",
       "7             7           11  \n",
       "8             8           11  \n",
       "9             9           11  \n",
       "10           10           11  \n",
       "11           11           11  \n",
       "12            0           10  \n",
       "13            1           10  "
      ]
     },
     "execution_count": 13,
     "metadata": {},
     "output_type": "execute_result"
    }
   ],
   "source": [
    "train_df = pd.DataFrame(train_samples)\n",
    "val_df = pd.DataFrame(val_samples)\n",
    "test_df = pd.DataFrame(test_samples)\n",
    "train_df.head(14)"
   ]
  },
  {
   "cell_type": "code",
   "execution_count": null,
   "metadata": {
    "colab": {
     "base_uri": "https://localhost:8080/"
    },
    "id": "rnQIDiJPg231",
    "outputId": "5e81a23f-05a0-42d5-c861-cc496ed77ef3"
   },
   "outputs": [
    {
     "data": {
      "text/plain": [
       "METHODS        59353\n",
       "RESULTS        57953\n",
       "CONCLUSIONS    27168\n",
       "BACKGROUND     21727\n",
       "OBJECTIVE      13839\n",
       "Name: target, dtype: int64"
      ]
     },
     "execution_count": 14,
     "metadata": {},
     "output_type": "execute_result"
    }
   ],
   "source": [
    "# Counts of each category\n",
    "train_df.target.value_counts()"
   ]
  },
  {
   "cell_type": "markdown",
   "metadata": {
    "id": "HoZbOMqUhL2l"
   },
   "source": [
    "Looks like sentences of `OBJECTIVE` type are the least common.\n",
    "\n",
    "Check the distribution of the abstract lengths"
   ]
  },
  {
   "cell_type": "code",
   "execution_count": null,
   "metadata": {
    "colab": {
     "base_uri": "https://localhost:8080/",
     "height": 267
    },
    "id": "tkCRIBWbhUmD",
    "outputId": "b3ac2946-4fe1-4033-b69e-dd3275d23b39"
   },
   "outputs": [
    {
     "data": {
      "image/png": "[encoded data removed]",
      "text/plain": [
       "<Figure size 432x288 with 1 Axes>"
      ]
     },
     "metadata": {
      "needs_background": "light"
     },
     "output_type": "display_data"
    }
   ],
   "source": [
    "train_df.total_lines.plot.hist();"
   ]
  },
  {
   "cell_type": "markdown",
   "metadata": {
    "id": "qt2kPnlNhy0L"
   },
   "source": [
    "Looks like most of the abstracts are around 7 to 15 sentences in length."
   ]
  },
  {
   "cell_type": "markdown",
   "metadata": {
    "id": "Eqps0Jw0wcQo"
   },
   "source": [
    "### Get lists of sentences\n",
    "\n",
    "When the model is built, one of its primary inputs will be a list of strings (the lines of an abstract).\n",
    "\n",
    "These can be obtained from the DataFrames"
   ]
  },
  {
   "cell_type": "code",
   "execution_count": null,
   "metadata": {
    "colab": {
     "base_uri": "https://localhost:8080/"
    },
    "id": "ybvBrdPKwmDR",
    "outputId": "57451ba1-2a30-42e2-e37c-71d6bb20758b"
   },
   "outputs": [
    {
     "data": {
      "text/plain": [
       "(180040, 30212, 30135)"
      ]
     },
     "execution_count": 16,
     "metadata": {},
     "output_type": "execute_result"
    }
   ],
   "source": [
    "# Convert abstract text lines into lists \n",
    "train_sentences = train_df['text'].tolist()\n",
    "val_sentences = val_df['text'].tolist()\n",
    "test_sentences = test_df['text'].tolist()\n",
    "len(train_sentences), len(val_sentences), len(test_sentences)"
   ]
  },
  {
   "cell_type": "code",
   "execution_count": null,
   "metadata": {
    "colab": {
     "base_uri": "https://localhost:8080/"
    },
    "id": "M-OPWZPei46_",
    "outputId": "9e342f9f-1dbf-4fc1-d3ae-39ef8b46a184"
   },
   "outputs": [
    {
     "data": {
      "text/plain": [
       "['to investigate the efficacy of @ weeks of daily low-dose oral prednisolone in improving pain , mobility , and systemic low-grade inflammation in the short term and whether the effect would be sustained at @ weeks in older adults with moderate to severe knee osteoarthritis ( oa ) .',\n",
       " 'a total of @ patients with primary knee oa were randomized @:@ ; @ received @ mg/day of prednisolone and @ received placebo for @ weeks .',\n",
       " 'outcome measures included pain reduction and improvement in function scores and systemic inflammation markers .',\n",
       " 'pain was assessed using the visual analog pain scale ( @-@ mm ) .',\n",
       " 'secondary outcome measures included the western ontario and mcmaster universities osteoarthritis index scores , patient global assessment ( pga ) of the severity of knee oa , and @-min walk distance ( @mwd ) .',\n",
       " 'serum levels of interleukin @ ( il-@ ) , il-@ , tumor necrosis factor ( tnf ) - , and high-sensitivity c-reactive protein ( hscrp ) were measured .',\n",
       " 'there was a clinically relevant reduction in the intervention group compared to the placebo group for knee pain , physical function , pga , and @mwd at @ weeks .',\n",
       " 'the mean difference between treatment arms ( @ % ci ) was @ ( @-@ @ ) , p < @ ; @ ( @-@ @ ) , p < @ ; @ ( @-@ @ ) , p < @ ; and @ ( @-@ @ ) , p < @ , respectively .',\n",
       " 'further , there was a clinically relevant reduction in the serum levels of il-@ , il-@ , tnf - , and hscrp at @ weeks in the intervention group when compared to the placebo group .',\n",
       " 'these differences remained significant at @ weeks .']"
      ]
     },
     "execution_count": 17,
     "metadata": {},
     "output_type": "execute_result"
    }
   ],
   "source": [
    "# View first 10 lines of training sentences\n",
    "train_sentences[:10]"
   ]
  },
  {
   "cell_type": "markdown",
   "metadata": {
    "id": "rk1tXXANaxhK"
   },
   "source": [
    "### Make numeric labels\n",
    "\n",
    "The labels need to be encoded to numbers as ML models do not understand text data. Encoding the labels will assign each label a numeric value.\n",
    "\n",
    "TensorFlow's [CategoricalCrossentropy](https://www.tensorflow.org/api_docs/python/tf/keras/losses/CategoricalCrossentropy) loss function prefers one-hot encoded labels. Therefore, this is preferred over label encoding (this will enable us to use label smoothing later on). One-hot encoding assigns the value 1 for the index at which the label lies and assigns every other index as 0.\n",
    "\n",
    "Alternatively, [SparseCategoricalCrossentropy](https://www.tensorflow.org/api_docs/python/tf/keras/losses/SparseCategoricalCrossentropy) could be used with label encodings."
   ]
  },
  {
   "cell_type": "code",
   "execution_count": null,
   "metadata": {
    "colab": {
     "base_uri": "https://localhost:8080/"
    },
    "id": "riWJb105awwn",
    "outputId": "f35277f7-5d20-4a18-8d78-649b9565b0eb"
   },
   "outputs": [
    {
     "data": {
      "text/plain": [
       "array([[0., 0., 0., 1., 0.],\n",
       "       [0., 0., 1., 0., 0.],\n",
       "       [0., 0., 1., 0., 0.],\n",
       "       ...,\n",
       "       [0., 0., 0., 0., 1.],\n",
       "       [0., 1., 0., 0., 0.],\n",
       "       [0., 1., 0., 0., 0.]])"
      ]
     },
     "execution_count": 18,
     "metadata": {},
     "output_type": "execute_result"
    }
   ],
   "source": [
    "# Create label encoders as well as evaluation will be easier\n",
    "label_encoder = LabelEncoder()\n",
    "train_labels_encoded = label_encoder.fit_transform(train_df['target'].to_numpy())\n",
    "val_labels_encoded = label_encoder.transform(val_df['target'].to_numpy())\n",
    "test_labels_encoded = label_encoder.transform(test_df['target'].to_numpy())\n",
    "\n",
    "one_hot_encoder = OneHotEncoder(sparse=False)\n",
    "train_labels_one_hot = one_hot_encoder.fit_transform(train_df['target'].to_numpy().reshape(-1, 1))\n",
    "val_labels_one_hot = one_hot_encoder.transform(val_df['target'].to_numpy().reshape(-1, 1))\n",
    "test_labels_one_hot = one_hot_encoder.transform(test_df['target'].to_numpy().reshape(-1, 1))\n",
    "\n",
    "train_labels_one_hot"
   ]
  },
  {
   "cell_type": "code",
   "execution_count": null,
   "metadata": {
    "colab": {
     "base_uri": "https://localhost:8080/"
    },
    "id": "FzAp5moj7aiW",
    "outputId": "cd452a15-80fb-48b9-bde6-c0500cd2a497"
   },
   "outputs": [
    {
     "data": {
      "text/plain": [
       "(array(['BACKGROUND', 'CONCLUSIONS', 'METHODS', 'OBJECTIVE', 'RESULTS'],\n",
       "       dtype='<U11'), 5)"
      ]
     },
     "execution_count": 19,
     "metadata": {},
     "output_type": "execute_result"
    }
   ],
   "source": [
    "# Display the classes available\n",
    "class_names = np.array(list(set(train_df['target'])))\n",
    "num_classes = len(class_names)\n",
    "\n",
    "class_names, num_classes"
   ]
  },
  {
   "cell_type": "markdown",
   "metadata": {
    "id": "MADIlN1QaiTW"
   },
   "source": [
    "### Preparing data for deep sequence models\n",
    "\n",
    "Before building the model, vectorization and embedding layers must be created.\n",
    "\n",
    "The vectorization layer will convert the text to numbers, and the embedding layer will capture the relationships between those numbers.\n",
    "\n",
    "When the model goes through the sentences, it works best when they are all the same length (this is important for creating batches of the same size tensors).\n",
    "\n",
    "If one sentence is eight words long and another is 29 words long, the eight worded sentence can be padded with zeros, so it ends up being the same length as the 29-word sentence."
   ]
  },
  {
   "cell_type": "markdown",
   "metadata": {
    "id": "8OJTYfEy-O-s"
   },
   "source": [
    "#### Create text vectorizer\n",
    "\n",
    "Now that preprocessing is done, next step is to turn them into numbers."
   ]
  },
  {
   "cell_type": "code",
   "execution_count": null,
   "metadata": {
    "colab": {
     "base_uri": "https://localhost:8080/"
    },
    "id": "1Y-V_9-KrH7y",
    "outputId": "e9abd876-d58a-445f-876b-5fd91b5b884a"
   },
   "outputs": [
    {
     "data": {
      "text/plain": [
       "26.338269273494777"
      ]
     },
     "execution_count": 20,
     "metadata": {},
     "output_type": "execute_result"
    }
   ],
   "source": [
    "# How long is each sentence on average?\n",
    "sent_lens = [len(sentence.split()) for sentence in train_sentences]\n",
    "avg_sent_len = np.mean(sent_lens)\n",
    "avg_sent_len"
   ]
  },
  {
   "cell_type": "code",
   "execution_count": null,
   "metadata": {
    "colab": {
     "base_uri": "https://localhost:8080/",
     "height": 265
    },
    "id": "Y9S27ACkroai",
    "outputId": "79463f81-35c3-435e-dfaa-13c19ecdfa95"
   },
   "outputs": [
    {
     "data": {
      "image/png": "[encoded data removed]",
      "text/plain": [
       "<Figure size 432x288 with 1 Axes>"
      ]
     },
     "metadata": {
      "needs_background": "light"
     },
     "output_type": "display_data"
    }
   ],
   "source": [
    "# Check distribution of sentences\n",
    "plt.hist(sent_lens, bins=7);"
   ]
  },
  {
   "cell_type": "markdown",
   "metadata": {
    "id": "BH7_Yaz1U9yJ"
   },
   "source": [
    "Majority of sentences are between 0 and 50 tokens in length."
   ]
  },
  {
   "cell_type": "code",
   "execution_count": null,
   "metadata": {
    "colab": {
     "base_uri": "https://localhost:8080/"
    },
    "id": "4e5nUagxr4r5",
    "outputId": "a0a6b713-9b70-49f9-88fc-e709295b0556"
   },
   "outputs": [
    {
     "data": {
      "text/plain": [
       "55"
      ]
     },
     "execution_count": 22,
     "metadata": {},
     "output_type": "execute_result"
    }
   ],
   "source": [
    "# How long of a sentence covers 95% of the lengths?\n",
    "output_seq_len = int(np.percentile(sent_lens, 95))\n",
    "output_seq_len"
   ]
  },
  {
   "cell_type": "markdown",
   "metadata": {
    "id": "Nhre7MPBVfK2"
   },
   "source": [
    "95% of the sentences in the training set have a length of 55 tokens or less.\n",
    "\n",
    "Upon creating the tokenization layer, this value can be used to turn all of the sentences into the same length.\n",
    "\n",
    "This means that sentences with a length below 55 get padded with zeros, and those above 55 get truncated (words after 55 get cut off)."
   ]
  },
  {
   "cell_type": "code",
   "execution_count": null,
   "metadata": {
    "colab": {
     "base_uri": "https://localhost:8080/"
    },
    "id": "oEZbyvh1WCBw",
    "outputId": "30609824-11bb-4781-b3f5-ea24211b00ca"
   },
   "outputs": [
    {
     "data": {
      "text/plain": [
       "296"
      ]
     },
     "execution_count": 23,
     "metadata": {},
     "output_type": "execute_result"
    }
   ],
   "source": [
    "# Why not use the maximum sentence length in the training set\n",
    "max(sent_lens)"
   ]
  },
  {
   "cell_type": "markdown",
   "metadata": {
    "id": "tIWIlFV4WF8R"
   },
   "source": [
    "Very few sentences even come close to the max length. It would mean most of the data passed to the model would be zeros (since all sentences below the max length would get padded with zeros)."
   ]
  },
  {
   "cell_type": "markdown",
   "metadata": {
    "id": "uvhbRw7-uMwH"
   },
   "source": [
    "Section 3.2 of the [PubMed 200k RCT paper](https://arxiv.org/pdf/1710.06071.pdf) states the vocabulary size of the PubMed 20k dataset as 68,000. So that will be the value of `max_tokens`: the number of unique words in the dataset.\n",
    "\n",
    "<img src='https://nft-mp-nft-v1-dev-resources.s3.amazonaws.com/images/ai_cw_vocab.png' />"
   ]
  },
  {
   "cell_type": "code",
   "execution_count": null,
   "metadata": {
    "id": "xniPYW60uzby"
   },
   "outputs": [],
   "source": [
    "max_tokens = 68000"
   ]
  },
  {
   "cell_type": "markdown",
   "metadata": {
    "id": "tu25jIo-YSuW"
   },
   "source": [
    "As discovered, a sentence length of 55 covers 95% of the training sentences, that will be used as the `output_sequence_length` parameter."
   ]
  },
  {
   "cell_type": "code",
   "execution_count": null,
   "metadata": {
    "id": "gtfQ27MNpy-v"
   },
   "outputs": [],
   "source": [
    "# Create text vectorizer\n",
    "text_vectorizer = TextVectorization(\n",
    "    # number of words in vocabulary\n",
    "    max_tokens = max_tokens,\n",
    "\n",
    "    # desired output length of vectorized sequences\n",
    "    output_sequence_length = 55,\n",
    "    pad_to_max_tokens = True\n",
    ")"
   ]
  },
  {
   "cell_type": "code",
   "execution_count": null,
   "metadata": {
    "id": "AbJtmyd1sWW8"
   },
   "outputs": [],
   "source": [
    "# Adapt text vectorizer to training sentences to figure out what number should represent what word\n",
    "text_vectorizer.adapt(train_sentences)"
   ]
  },
  {
   "cell_type": "code",
   "execution_count": null,
   "metadata": {
    "colab": {
     "base_uri": "https://localhost:8080/"
    },
    "id": "IS80FGEhsgVe",
    "outputId": "5cf79526-9f0f-4948-e3c5-5d7e11487c7c"
   },
   "outputs": [
    {
     "name": "stdout",
     "output_type": "stream",
     "text": [
      "Number of words in sentence vocab: 64841\n",
      "5 Most common words in the vocab: ['', '[UNK]', 'the', 'and', 'of']\n",
      "5 Least common words in the vocab: ['aainduced', 'aaigroup', 'aachener', 'aachen', 'aaacp']\n"
     ]
    }
   ],
   "source": [
    "# Check sentence vocabulary characteristics\n",
    "rct_20k_text_vocab = text_vectorizer.get_vocabulary()\n",
    "print(f'Number of words in sentence vocab: {len(rct_20k_text_vocab)}'), \n",
    "print(f'5 Most common words in the vocab: {rct_20k_text_vocab[:5]}')\n",
    "print(f'5 Least common words in the vocab: {rct_20k_text_vocab[-5:]}')"
   ]
  },
  {
   "cell_type": "code",
   "execution_count": null,
   "metadata": {
    "colab": {
     "base_uri": "https://localhost:8080/"
    },
    "id": "gVZDwaymsbLa",
    "outputId": "cbf8822b-0ad3-460d-ef52-051bc3c602b2"
   },
   "outputs": [
    {
     "name": "stdout",
     "output_type": "stream",
     "text": [
      "Text: primary outcome data were available for @ ( @ % ) children .\n",
      "Split text: ['primary', 'outcome', 'data', 'were', 'available', 'for', '@', '(', '@', '%', ')', 'children', '.']\n",
      "Length of text: 13\n",
      "Vectorized text:\n",
      "[[ 56  86 100   9 559  11 109   0   0   0   0   0   0   0   0   0   0   0\n",
      "    0   0   0   0   0   0   0   0   0   0   0   0   0   0   0   0   0   0\n",
      "    0   0   0   0   0   0   0   0   0   0   0   0   0   0   0   0   0   0\n",
      "    0]]\n"
     ]
    }
   ],
   "source": [
    "# Test out text vectorizer\n",
    "random_training_sentence = random.choice(train_sentences)\n",
    "\n",
    "print(f'Text: {random_training_sentence}')\n",
    "print(f'Split text: {random_training_sentence.split()}')\n",
    "print(f'Length of text: {len(random_training_sentence.split())}')\n",
    "print(f'Vectorized text:\\n{text_vectorizer([random_training_sentence])}')"
   ]
  },
  {
   "cell_type": "markdown",
   "metadata": {
    "id": "wdKJpk-8sjYn"
   },
   "source": [
    "Sentences with length less than 55 have been padded with 0s"
   ]
  },
  {
   "cell_type": "markdown",
   "metadata": {
    "id": "tFi9T_I1reE0"
   },
   "source": [
    "#### Create character vectorizer\n",
    "\n",
    "The author will attempt to build a version of the architecture proposed in the paper [*Neural Networks for Joint Sentence Classification\n",
    "in Medical Paper Abstracts*](https://arxiv.org/pdf/1612.05251.pdf), which mentions the model utilizing a hybrid of token and character embeddings.\n",
    "\n",
    "<img src='https://nft-mp-nft-v1-dev-resources.s3.amazonaws.com/images/ai_cw_architecture.png' />\n",
    "\n",
    "The main difference is that token embedding splits the sentence into tokens (words), while character embedding splits it into characters."
   ]
  },
  {
   "cell_type": "code",
   "execution_count": null,
   "metadata": {
    "colab": {
     "base_uri": "https://localhost:8080/",
     "height": 53
    },
    "id": "5TBdRN8oulRI",
    "outputId": "d8ab7802-5faa-45f3-b1fa-a147682dd925"
   },
   "outputs": [
    {
     "data": {
      "application/vnd.google.colaboratory.intrinsic+json": {
       "type": "string"
      },
      "text/plain": [
       "'p r i m a r y   o u t c o m e   d a t a   w e r e   a v a i l a b l e   f o r   @   (   @   %   )   c h i l d r e n   .'"
      ]
     },
     "execution_count": 29,
     "metadata": {},
     "output_type": "execute_result"
    }
   ],
   "source": [
    "# Create function to split sentences into characters\n",
    "def split_chars(text):\n",
    "  return ' '.join(list(text))\n",
    "\n",
    "split_chars(random_training_sentence)"
   ]
  },
  {
   "cell_type": "code",
   "execution_count": null,
   "metadata": {
    "colab": {
     "base_uri": "https://localhost:8080/"
    },
    "id": "8EV2aA8tu-yj",
    "outputId": "924f8d06-bf6d-4a7c-e362-953260bb5b31"
   },
   "outputs": [
    {
     "name": "stdout",
     "output_type": "stream",
     "text": [
      "t o   i n v e s t i g a t e   t h e   e f f i c a c y   o f   @   w e e k s   o f   d a i l y   l o w - d o s e   o r a l   p r e d n i s o l o n e   i n   i m p r o v i n g   p a i n   ,   m o b i l i t y   ,   a n d   s y s t e m i c   l o w - g r a d e   i n f l a m m a t i o n   i n   t h e   s h o r t   t e r m   a n d   w h e t h e r   t h e   e f f e c t   w o u l d   b e   s u s t a i n e d   a t   @   w e e k s   i n   o l d e r   a d u l t s   w i t h   m o d e r a t e   t o   s e v e r e   k n e e   o s t e o a r t h r i t i s   (   o a   )   .\n"
     ]
    }
   ],
   "source": [
    "# Split sequence-level data splits into character-level data splits\n",
    "train_chars = [split_chars(sentence) for sentence in train_sentences]\n",
    "val_chars = [split_chars(sentence) for sentence in val_sentences]\n",
    "test_chars = [split_chars(sentence) for sentence in test_sentences]\n",
    "print(train_chars[0])"
   ]
  },
  {
   "cell_type": "markdown",
   "metadata": {
    "id": "EEWTbuIezAbs"
   },
   "source": [
    "Similarly to how the sentence lengths & average lengths were obtained, the same can be done for the character embedding."
   ]
  },
  {
   "cell_type": "code",
   "execution_count": null,
   "metadata": {
    "colab": {
     "base_uri": "https://localhost:8080/"
    },
    "id": "UtCG6aDvzexH",
    "outputId": "b870a1e8-8c24-44f3-f0d2-4175ef1495ca"
   },
   "outputs": [
    {
     "data": {
      "text/plain": [
       "149.3662574983337"
      ]
     },
     "execution_count": 31,
     "metadata": {},
     "output_type": "execute_result"
    }
   ],
   "source": [
    "# What's the average character length?\n",
    "char_lens = [len(sentence) for sentence in train_sentences]\n",
    "mean_char_len = np.mean(char_lens)\n",
    "mean_char_len"
   ]
  },
  {
   "cell_type": "code",
   "execution_count": null,
   "metadata": {
    "colab": {
     "base_uri": "https://localhost:8080/",
     "height": 265
    },
    "id": "MaEfECLvzgo6",
    "outputId": "415fc4a0-934c-4b36-c007-91cb3e7529ff"
   },
   "outputs": [
    {
     "data": {
      "image/png": "[encoded data removed]",
      "text/plain": [
       "<Figure size 432x288 with 1 Axes>"
      ]
     },
     "metadata": {
      "needs_background": "light"
     },
     "output_type": "display_data"
    }
   ],
   "source": [
    "# Check the distribution of the sentences but at character-level\n",
    "plt.hist(char_lens, bins=7);"
   ]
  },
  {
   "cell_type": "markdown",
   "metadata": {
    "id": "sttugiPs6SXR"
   },
   "source": [
    "Majority of sentences are between 0 and 380 characters."
   ]
  },
  {
   "cell_type": "code",
   "execution_count": null,
   "metadata": {
    "colab": {
     "base_uri": "https://localhost:8080/"
    },
    "id": "s34SKBIeziz-",
    "outputId": "dfad5362-347f-4a05-e739-28051c15901e"
   },
   "outputs": [
    {
     "data": {
      "text/plain": [
       "290"
      ]
     },
     "execution_count": 33,
     "metadata": {},
     "output_type": "execute_result"
    }
   ],
   "source": [
    "# Find what character length covers 95% of sequences\n",
    "output_seq_char_len = int(np.percentile(char_lens, 95))\n",
    "output_seq_char_len"
   ]
  },
  {
   "cell_type": "markdown",
   "metadata": {
    "id": "OLTQFIMDzk1x"
   },
   "source": [
    "This value can be used in the vectorization layer in the same way as the sentence vectorization."
   ]
  },
  {
   "cell_type": "code",
   "execution_count": null,
   "metadata": {
    "colab": {
     "base_uri": "https://localhost:8080/",
     "height": 35
    },
    "id": "XXA4I_T8zvb5",
    "outputId": "c9536a61-91fc-4d20-dfd2-713f717ab7ec"
   },
   "outputs": [
    {
     "data": {
      "application/vnd.google.colaboratory.intrinsic+json": {
       "type": "string"
      },
      "text/plain": [
       "'abcdefghijklmnopqrstuvwxyz0123456789!\"#$%&\\'()*+,-./:;<=>?@[\\\\]^_`{|}~'"
      ]
     },
     "execution_count": 34,
     "metadata": {},
     "output_type": "execute_result"
    }
   ],
   "source": [
    "# Get all keyboard characters for char-level embedding\n",
    "alphabet = string.ascii_lowercase + string.digits + string.punctuation\n",
    "alphabet"
   ]
  },
  {
   "cell_type": "code",
   "execution_count": null,
   "metadata": {
    "id": "PG9pDK1VzyUf"
   },
   "outputs": [],
   "source": [
    "# Create char-level token vectorizer instance\n",
    "# num characters in alphabet + space + OOV (Out Of Vocabulary) token\n",
    "NUM_CHAR_TOKENS = len(alphabet) + 2\n",
    "char_vectorizer = TextVectorization(\n",
    "    max_tokens=NUM_CHAR_TOKENS,  \n",
    "    output_sequence_length=output_seq_char_len,\n",
    "    standardize='lower_and_strip_punctuation',\n",
    "    name='char_vectorizer'\n",
    ")"
   ]
  },
  {
   "cell_type": "code",
   "execution_count": null,
   "metadata": {
    "id": "CG9Oe6zK0A7c"
   },
   "outputs": [],
   "source": [
    "# Adapt character vectorizer to training characters\n",
    "char_vectorizer.adapt(train_chars)"
   ]
  },
  {
   "cell_type": "code",
   "execution_count": null,
   "metadata": {
    "colab": {
     "base_uri": "https://localhost:8080/"
    },
    "id": "Aas7a-mv0BrF",
    "outputId": "9913cb1d-262b-4541-8680-ad5ae1b272db"
   },
   "outputs": [
    {
     "name": "stdout",
     "output_type": "stream",
     "text": [
      "Number of characters in character vocab: 28\n",
      "5 most common characters in character vocab: ['', '[UNK]', 'e', 't', 'i']\n",
      "5 least common characters in character vocab: ['k', 'x', 'z', 'q', 'j']\n"
     ]
    }
   ],
   "source": [
    "# Check character vocabulary characteristics\n",
    "rct_20k_char_vocab = char_vectorizer.get_vocabulary()\n",
    "print(f'Number of characters in character vocab: {len(rct_20k_char_vocab)}')\n",
    "print(f'5 most common characters in character vocab: {rct_20k_char_vocab[:5]}')\n",
    "print(f'5 least common characters in character vocab: {rct_20k_char_vocab[-5:]}')"
   ]
  },
  {
   "cell_type": "code",
   "execution_count": null,
   "metadata": {
    "colab": {
     "base_uri": "https://localhost:8080/"
    },
    "id": "tfPCY7cJ2NN9",
    "outputId": "a739583a-5946-4095-8a1b-f39e81c4574c"
   },
   "outputs": [
    {
     "name": "stdout",
     "output_type": "stream",
     "text": [
      "Charified text:\n",
      "t h e   t r i a l   r e c o r d e d   t h a t   @   %   o f   t y p i n g   t e s t s   h a d   s o m e   i m p a c t   o n   i n f e c t i o n   c o n t r o l   (   i c   )   a c t i v i t i e s   .\n",
      "\n",
      "Length of chars: 81\n",
      "\n",
      "Vectorized chars:\n",
      "[[ 3 13  2  3  8  4  5 12  8  2 11  7  8 10  2 10  3 13  5  3  7 17  3 19\n",
      "  14  4  6 18  3  2  9  3  9 13  5 10  9  7 15  2  4 15 14  5 11  3  7  6\n",
      "   4  6 17  2 11  3  4  7  6 11  7  6  3  8  7 12  4 11  5 11  3  4 21  4\n",
      "   3  4  2  9  0  0  0  0  0  0  0  0  0  0  0  0  0  0  0  0  0  0  0  0\n",
      "   0  0  0  0  0  0  0  0  0  0  0  0  0  0  0  0  0  0  0  0  0  0  0  0\n",
      "   0  0  0  0  0  0  0  0  0  0  0  0  0  0  0  0  0  0  0  0  0  0  0  0\n",
      "   0  0  0  0  0  0  0  0  0  0  0  0  0  0  0  0  0  0  0  0  0  0  0  0\n",
      "   0  0  0  0  0  0  0  0  0  0  0  0  0  0  0  0  0  0  0  0  0  0  0  0\n",
      "   0  0  0  0  0  0  0  0  0  0  0  0  0  0  0  0  0  0  0  0  0  0  0  0\n",
      "   0  0  0  0  0  0  0  0  0  0  0  0  0  0  0  0  0  0  0  0  0  0  0  0\n",
      "   0  0  0  0  0  0  0  0  0  0  0  0  0  0  0  0  0  0  0  0  0  0  0  0\n",
      "   0  0  0  0  0  0  0  0  0  0  0  0  0  0  0  0  0  0  0  0  0  0  0  0\n",
      "   0  0]]\n",
      "\n",
      "Length of vectorized chars: 290\n"
     ]
    }
   ],
   "source": [
    "# Test out character vectorizer\n",
    "random_train_chars = random.choice(train_chars)\n",
    "print(f'Charified text:\\n{random_train_chars}')\n",
    "print(f'\\nLength of chars: {len(random_train_chars.split())}')\n",
    "vectorized_chars = char_vectorizer([random_train_chars])\n",
    "print(f'\\nVectorized chars:\\n{vectorized_chars}')\n",
    "print(f'\\nLength of vectorized chars: {len(vectorized_chars[0])}')"
   ]
  },
  {
   "cell_type": "markdown",
   "metadata": {
    "id": "GZvDSTrTp1Wy"
   },
   "source": [
    "#### Create token embedder\n",
    "\n",
    "Training a custom token embedder takes a long time. Fortunately, a pre-trained embedder from the TensorFlow hub can be used."
   ]
  },
  {
   "cell_type": "code",
   "execution_count": null,
   "metadata": {
    "id": "AIKPM2QOuLQv"
   },
   "outputs": [],
   "source": [
    "# Create token embedding layer\n",
    "token_embedder = hub.KerasLayer(\n",
    "    'https://tfhub.dev/google/universal-sentence-encoder/4',\n",
    "    trainable=False,\n",
    "    name='universal_sentence_encoder'\n",
    ")"
   ]
  },
  {
   "cell_type": "code",
   "execution_count": null,
   "metadata": {
    "colab": {
     "base_uri": "https://localhost:8080/"
    },
    "id": "5sNDDraBUCdM",
    "outputId": "3127edf4-9a2f-4812-dac0-ee67cf47225c"
   },
   "outputs": [
    {
     "name": "stdout",
     "output_type": "stream",
     "text": [
      "Sentence before embedding:\n",
      "stratification into the experimental and control groups , and to coaching groups within the experimental arms , achieved equal numbers of students by race , ethnicity and gender to the extent possible .\n",
      "\n",
      "Sentence after embedding:\n",
      "[-0.04314498 -0.05587238  0.00593021  0.04872223  0.01151052  0.04986511\n",
      "  0.01906138 -0.0558779  -0.05990646  0.02082351]\n",
      "\n",
      "Embedded sentence shape: (1, 512)\n"
     ]
    }
   ],
   "source": [
    "# Test out token embedding layer\n",
    "random_training_sentence = random.choice(train_sentences)\n",
    "print(f'Sentence before embedding:\\n{random_training_sentence}\\n')\n",
    "embedded_sentence = token_embedder([random_training_sentence])\n",
    "print(f'Sentence after embedding:\\n{embedded_sentence[0][:10]}\\n')\n",
    "print(f'Embedded sentence shape: {embedded_sentence.shape}')"
   ]
  },
  {
   "cell_type": "markdown",
   "metadata": {
    "id": "ESErEKoh3RPS"
   },
   "source": [
    "#### Create character embedder\n",
    "\n",
    "The proposed architecture has utilized a character embedding value of 25."
   ]
  },
  {
   "cell_type": "code",
   "execution_count": null,
   "metadata": {
    "id": "mL-L2FNa3Qhu"
   },
   "outputs": [],
   "source": [
    "# Create char embedding layer\n",
    "char_embedder = layers.Embedding(\n",
    "    # number of different characters\n",
    "    input_dim=NUM_CHAR_TOKENS,\n",
    "    output_dim=25,\n",
    "    mask_zero=False,\n",
    "    name='char_embedder'\n",
    ")"
   ]
  },
  {
   "cell_type": "code",
   "execution_count": null,
   "metadata": {
    "colab": {
     "base_uri": "https://localhost:8080/"
    },
    "id": "Hxrk2rEg4QeX",
    "outputId": "a376ed0a-a198-426f-ba1b-e24e9f96e344"
   },
   "outputs": [
    {
     "name": "stdout",
     "output_type": "stream",
     "text": [
      "Characters before embedding:\n",
      "t h e   t r i a l   r e c o r d e d   t h a t   @   %   o f   t y p i n g   t e s t s   h a d   s o m e   i m p a c t   o n   i n f e c t i o n   c o n t r o l   (   i c   )   a c t i v i t i e s   .\n",
      "\n",
      "Characters after embedding:\n",
      "[[[ 0.02582199 -0.03323352  0.04666616 ...  0.00916589 -0.03451717\n",
      "    0.02623615]\n",
      "  [ 0.01139319  0.0496592  -0.01420747 ...  0.00245403 -0.04653407\n",
      "    0.036073  ]\n",
      "  [ 0.03967566  0.00308985  0.02302395 ...  0.03892655  0.01785232\n",
      "    0.0136492 ]\n",
      "  ...\n",
      "  [-0.01816005 -0.00201882 -0.02576667 ... -0.0180142  -0.03542304\n",
      "   -0.03170983]\n",
      "  [-0.01816005 -0.00201882 -0.02576667 ... -0.0180142  -0.03542304\n",
      "   -0.03170983]\n",
      "  [-0.01816005 -0.00201882 -0.02576667 ... -0.0180142  -0.03542304\n",
      "   -0.03170983]]]\n",
      "\n",
      "Embedded character shape: (1, 290, 25)\n"
     ]
    }
   ],
   "source": [
    "# Test out character embedding layer\n",
    "print(f'Characters before embedding:\\n{random_train_chars}\\n')\n",
    "embedded_characters = char_embedder(char_vectorizer([random_train_chars]))\n",
    "print(f'Characters after embedding:\\n{embedded_characters}\\n')\n",
    "print(f'Embedded character shape: {embedded_characters.shape}')"
   ]
  },
  {
   "cell_type": "markdown",
   "metadata": {
    "id": "l5tDy1PRfvZ0"
   },
   "source": [
    "### Create performant datasets\n",
    "\n",
    "Models can be trained faster using TensorFlow datasets,enabling faster loading onto the GPU."
   ]
  },
  {
   "cell_type": "code",
   "execution_count": null,
   "metadata": {
    "colab": {
     "base_uri": "https://localhost:8080/"
    },
    "id": "tan6Ekiwfza5",
    "outputId": "66f501bf-ffaa-48a0-ff8a-295f821e58cf"
   },
   "outputs": [
    {
     "data": {
      "text/plain": [
       "(<TensorSliceDataset element_spec=(TensorSpec(shape=(), dtype=tf.string, name=None), TensorSpec(shape=(5,), dtype=tf.float64, name=None))>,\n",
       " <TensorSliceDataset element_spec=(TensorSpec(shape=(), dtype=tf.string, name=None), TensorSpec(shape=(5,), dtype=tf.float64, name=None))>)"
      ]
     },
     "execution_count": 44,
     "metadata": {},
     "output_type": "execute_result"
    }
   ],
   "source": [
    "# Turn data into TensorFlow Datasets\n",
    "train_sentence_dataset = tf.data.Dataset.from_tensor_slices((train_sentences, train_labels_one_hot))\n",
    "val_sentence_dataset = tf.data.Dataset.from_tensor_slices((val_sentences, val_labels_one_hot))\n",
    "test_sentence_dataset = tf.data.Dataset.from_tensor_slices((test_sentences, test_labels_one_hot))\n",
    "\n",
    "train_char_dataset = tf.data.Dataset.from_tensor_slices((train_chars, train_labels_one_hot))\n",
    "val_char_dataset = tf.data.Dataset.from_tensor_slices((val_chars, val_labels_one_hot))\n",
    "test_char_dataset = tf.data.Dataset.from_tensor_slices((test_chars, test_labels_one_hot))\n",
    "\n",
    "train_sentence_dataset, train_char_dataset"
   ]
  },
  {
   "cell_type": "code",
   "execution_count": null,
   "metadata": {
    "colab": {
     "base_uri": "https://localhost:8080/"
    },
    "id": "dnEJakTxgJWx",
    "outputId": "1939860d-d449-4eef-dc89-8921243d2f0f"
   },
   "outputs": [
    {
     "data": {
      "text/plain": [
       "(<PrefetchDataset element_spec=(TensorSpec(shape=(None,), dtype=tf.string, name=None), TensorSpec(shape=(None, 5), dtype=tf.float64, name=None))>,\n",
       " <PrefetchDataset element_spec=(TensorSpec(shape=(None,), dtype=tf.string, name=None), TensorSpec(shape=(None, 5), dtype=tf.float64, name=None))>)"
      ]
     },
     "execution_count": 45,
     "metadata": {},
     "output_type": "execute_result"
    }
   ],
   "source": [
    "# Create prefetched batches and allow TF to determine optimal amount of compute to use\n",
    "train_sentence_dataset = train_sentence_dataset.batch(32).prefetch(tf.data.AUTOTUNE)\n",
    "val_sentence_dataset = val_sentence_dataset.batch(32).prefetch(tf.data.AUTOTUNE)\n",
    "test_sentence_dataset = test_sentence_dataset.batch(32).prefetch(tf.data.AUTOTUNE)\n",
    "\n",
    "train_char_dataset = train_char_dataset.batch(32).prefetch(tf.data.AUTOTUNE)\n",
    "val_char_dataset = val_char_dataset.batch(32).prefetch(tf.data.AUTOTUNE)\n",
    "test_char_dataset = test_char_dataset.batch(32).prefetch(tf.data.AUTOTUNE)\n",
    "\n",
    "train_sentence_dataset, train_char_dataset"
   ]
  },
  {
   "cell_type": "markdown",
   "metadata": {
    "id": "1krE-3csz3N-"
   },
   "source": [
    "### Architecture 01 - Hybrid\n",
    "\n",
    "Combining pre-trained token embeddings + character embeddings (hybrid embedding layer).\n",
    "\n",
    "The hybrid token embedding layer combines token embeddings and character embeddings. In other words, they create a stacked embedding to represent sequences before passing them to the primary model."
   ]
  },
  {
   "cell_type": "code",
   "execution_count": null,
   "metadata": {
    "id": "5DI2KQf7z-yo"
   },
   "outputs": [],
   "source": [
    "# token inputs\n",
    "token_inputs = layers.Input(shape=[], dtype=tf.string, name='token_input')\n",
    "token_embeddings = token_embedder(token_inputs)\n",
    "token_output = layers.Dense(128, activation='relu')(token_embeddings)\n",
    "token_model = tf.keras.Model(\n",
    "    inputs=token_inputs,\n",
    "    outputs=token_output\n",
    ")\n",
    "\n",
    "# char inputs\n",
    "char_inputs = layers.Input(shape=(1,), dtype=tf.string, name='char_input')\n",
    "char_vectors = char_vectorizer(char_inputs)\n",
    "char_embeddings = char_embedder(char_vectors)\n",
    "char_bi_lstm = layers.Bidirectional(layers.LSTM(25))(char_embeddings)\n",
    "char_model = tf.keras.Model(\n",
    "    inputs=char_inputs,\n",
    "    outputs=char_bi_lstm\n",
    ")\n",
    "\n",
    "# Concatenate token and char inputs (create hybrid token embedding)\n",
    "token_char_concat = layers.Concatenate(name='token_char_hybrid')(\n",
    "    [token_model.output, char_model.output]\n",
    ")\n",
    "\n",
    "combined_dropout = layers.Dropout(0.5)(token_char_concat)\n",
    "\n",
    "# slightly different to Figure 1 due to different shapes of token/char embedding layers\n",
    "combined_dense = layers.Dense(200, activation='relu')(combined_dropout)\n",
    "final_dropout = layers.Dropout(0.5)(combined_dense)\n",
    "output_layer = layers.Dense(num_classes, activation='softmax')(final_dropout)\n",
    "\n",
    "# Construct model with char and token inputs\n",
    "model_1 = tf.keras.Model(\n",
    "    inputs=[token_model.input, char_model.input],\n",
    "    outputs=output_layer,\n",
    "    name='model_1_token_and_char_embeddings_hybrid'\n",
    ")"
   ]
  },
  {
   "cell_type": "code",
   "execution_count": null,
   "metadata": {
    "colab": {
     "base_uri": "https://localhost:8080/"
    },
    "id": "21PRnEmK2a0Y",
    "outputId": "88c44051-788a-45bf-9e80-e56907bf0cd5"
   },
   "outputs": [
    {
     "name": "stdout",
     "output_type": "stream",
     "text": [
      "Model: \"model_1_token_and_char_embeddings_hybrid\"\n",
      "__________________________________________________________________________________________________\n",
      " Layer (type)                   Output Shape         Param #     Connected to                     \n",
      "==================================================================================================\n",
      " char_input (InputLayer)        [(None, 1)]          0           []                               \n",
      "                                                                                                  \n",
      " token_input (InputLayer)       [(None,)]            0           []                               \n",
      "                                                                                                  \n",
      " char_vectorizer (TextVectoriza  (None, 290)         0           ['char_input[0][0]']             \n",
      " tion)                                                                                            \n",
      "                                                                                                  \n",
      " universal_sentence_encoder (Ke  (None, 512)         256797824   ['token_input[0][0]']            \n",
      " rasLayer)                                                                                        \n",
      "                                                                                                  \n",
      " char_embedder (Embedding)      (None, 290, 25)      1750        ['char_vectorizer[0][0]']        \n",
      "                                                                                                  \n",
      " dense (Dense)                  (None, 128)          65664       ['universal_sentence_encoder[0][0\n",
      "                                                                 ]']                              \n",
      "                                                                                                  \n",
      " bidirectional (Bidirectional)  (None, 50)           10200       ['char_embedder[0][0]']          \n",
      "                                                                                                  \n",
      " token_char_hybrid (Concatenate  (None, 178)         0           ['dense[0][0]',                  \n",
      " )                                                                'bidirectional[0][0]']          \n",
      "                                                                                                  \n",
      " dropout (Dropout)              (None, 178)          0           ['token_char_hybrid[0][0]']      \n",
      "                                                                                                  \n",
      " dense_1 (Dense)                (None, 200)          35800       ['dropout[0][0]']                \n",
      "                                                                                                  \n",
      " dropout_1 (Dropout)            (None, 200)          0           ['dense_1[0][0]']                \n",
      "                                                                                                  \n",
      " dense_2 (Dense)                (None, 5)            1005        ['dropout_1[0][0]']              \n",
      "                                                                                                  \n",
      "==================================================================================================\n",
      "Total params: 256,912,243\n",
      "Trainable params: 114,419\n",
      "Non-trainable params: 256,797,824\n",
      "__________________________________________________________________________________________________\n"
     ]
    }
   ],
   "source": [
    "# Get summary of token and character model\n",
    "model_1.summary()"
   ]
  },
  {
   "cell_type": "code",
   "execution_count": null,
   "metadata": {
    "colab": {
     "base_uri": "https://localhost:8080/",
     "height": 856
    },
    "id": "EF5-v5cRSmuk",
    "outputId": "8d265241-f5ff-4eff-cdb2-b62e43b6e838"
   },
   "outputs": [
    {
     "data": {
      "image/png": "[encoded data removed]",
      "text/plain": [
       "<IPython.core.display.Image object>"
      ]
     },
     "execution_count": 48,
     "metadata": {},
     "output_type": "execute_result"
    }
   ],
   "source": [
    "# Plot hybrid token and character model\n",
    "plot_model(model_1)"
   ]
  },
  {
   "cell_type": "code",
   "execution_count": null,
   "metadata": {
    "id": "4Yx8PFSc2hqE"
   },
   "outputs": [],
   "source": [
    "# Compile hybrid model\n",
    "model_1.compile(\n",
    "    loss='categorical_crossentropy',\n",
    "    optimizer=tf.keras.optimizers.Adam(),\n",
    "    metrics=['accuracy']\n",
    ")"
   ]
  },
  {
   "cell_type": "markdown",
   "metadata": {
    "id": "f-bD7bL-UIn3"
   },
   "source": [
    "This model requires two inputs, token-level sequences, and character-level sequences.\n",
    "\n",
    "This can be done by combining both datasets."
   ]
  },
  {
   "cell_type": "code",
   "execution_count": null,
   "metadata": {
    "id": "pYU0fX6rpbgI"
   },
   "outputs": [],
   "source": [
    "# Combine chars and tokens into a dataset\n",
    "train_char_token_data = tf.data.Dataset.from_tensor_slices((train_sentences, train_chars))\n",
    "train_char_token_labels = tf.data.Dataset.from_tensor_slices(train_labels_one_hot)\n",
    "train_char_token_dataset = tf.data.Dataset.zip((train_char_token_data, train_char_token_labels))\n",
    "train_char_token_dataset = train_char_token_dataset.batch(32).prefetch(tf.data.AUTOTUNE) \n",
    "\n",
    "# Repeat same steps for validation data\n",
    "val_char_token_data = tf.data.Dataset.from_tensor_slices((val_sentences, val_chars))\n",
    "val_char_token_labels = tf.data.Dataset.from_tensor_slices(val_labels_one_hot)\n",
    "val_char_token_dataset = tf.data.Dataset.zip((val_char_token_data, val_char_token_labels))\n",
    "val_char_token_dataset = val_char_token_dataset.batch(32).prefetch(tf.data.AUTOTUNE)"
   ]
  },
  {
   "cell_type": "code",
   "execution_count": null,
   "metadata": {
    "colab": {
     "base_uri": "https://localhost:8080/"
    },
    "id": "UlOs99Emp52r",
    "outputId": "47963574-5aae-48fd-8807-80ea37b3df14"
   },
   "outputs": [
    {
     "data": {
      "text/plain": [
       "(<PrefetchDataset element_spec=((TensorSpec(shape=(None,), dtype=tf.string, name=None), TensorSpec(shape=(None,), dtype=tf.string, name=None)), TensorSpec(shape=(None, 5), dtype=tf.float64, name=None))>,\n",
       " <PrefetchDataset element_spec=((TensorSpec(shape=(None,), dtype=tf.string, name=None), TensorSpec(shape=(None,), dtype=tf.string, name=None)), TensorSpec(shape=(None, 5), dtype=tf.float64, name=None))>)"
      ]
     },
     "execution_count": 51,
     "metadata": {},
     "output_type": "execute_result"
    }
   ],
   "source": [
    "# Check out training char and token embedding dataset\n",
    "train_char_token_dataset, val_char_token_dataset"
   ]
  },
  {
   "cell_type": "code",
   "execution_count": null,
   "metadata": {
    "colab": {
     "base_uri": "https://localhost:8080/"
    },
    "id": "yp0c25coprwp",
    "outputId": "b5f82b8d-b3bb-469d-86a9-9641d8569789"
   },
   "outputs": [
    {
     "name": "stdout",
     "output_type": "stream",
     "text": [
      "Saving TensorBoard log files to: tensorboard_logs/model_1/20221028-064216\n",
      "Epoch 1/3\n",
      "562/562 [==============================] - 26s 34ms/step - loss: 0.9695 - accuracy: 0.6133 - val_loss: 0.7857 - val_accuracy: 0.6985\n",
      "Epoch 2/3\n",
      "562/562 [==============================] - 17s 30ms/step - loss: 0.7952 - accuracy: 0.6874 - val_loss: 0.7225 - val_accuracy: 0.7231\n",
      "Epoch 3/3\n",
      "562/562 [==============================] - 19s 35ms/step - loss: 0.7687 - accuracy: 0.7036 - val_loss: 0.6960 - val_accuracy: 0.7347\n"
     ]
    }
   ],
   "source": [
    "# Fit the model on tokens and chars\n",
    "model_1_history = model_1.fit(\n",
    "    train_char_token_dataset,\n",
    "    steps_per_epoch=int(0.1 * len(train_char_token_dataset)),\n",
    "    epochs=3,\n",
    "    validation_data=val_char_token_dataset,\n",
    "    validation_steps=int(0.1 * len(val_char_token_dataset)),\n",
    "    callbacks=[create_tensorboard_callback('/content/drive/MyDrive/Colab Notebooks/tensorboard_logs', 'model_1')]\n",
    ")"
   ]
  },
  {
   "cell_type": "code",
   "execution_count": null,
   "metadata": {
    "colab": {
     "base_uri": "https://localhost:8080/"
    },
    "id": "BfAMuoJett_t",
    "outputId": "bb6d109a-857f-4bae-ac7a-7401e79d9211"
   },
   "outputs": [
    {
     "name": "stdout",
     "output_type": "stream",
     "text": [
      "945/945 [==============================] - 20s 21ms/step - loss: 0.7004 - accuracy: 0.7328\n"
     ]
    },
    {
     "data": {
      "text/plain": [
       "[0.700363278388977, 0.7327883243560791]"
      ]
     },
     "execution_count": 53,
     "metadata": {},
     "output_type": "execute_result"
    }
   ],
   "source": [
    "# Evaluate on the validation dataset\n",
    "model_1.evaluate(val_char_token_dataset)"
   ]
  },
  {
   "cell_type": "code",
   "execution_count": null,
   "metadata": {
    "colab": {
     "base_uri": "https://localhost:8080/"
    },
    "id": "fIUNKbdXG-WR",
    "outputId": "45f84192-831c-4f35-8546-d2603cca9f01"
   },
   "outputs": [
    {
     "name": "stderr",
     "output_type": "stream",
     "text": [
      "WARNING:absl:Found untraced functions such as lstm_cell_1_layer_call_fn, lstm_cell_1_layer_call_and_return_conditional_losses, lstm_cell_2_layer_call_fn, lstm_cell_2_layer_call_and_return_conditional_losses while saving (showing 4 of 4). These functions will not be directly callable after loading.\n"
     ]
    }
   ],
   "source": [
    "# Save model\n",
    "tf.keras.models.save_model(model_1, model_1.name)"
   ]
  },
  {
   "cell_type": "markdown",
   "metadata": {
    "id": "wU5ctbxCih6Z"
   },
   "source": [
    "To further enhance the model, features can be engineered. In this case, the order of the sentences that appear in an abstract can be significant.\n",
    "\n",
    "Abstracts typically come in sequential order, such as:\n",
    "* `OBJECTIVE` ...\n",
    "* `METHODS` ...\n",
    "* `METHODS` ...\n",
    "* `METHODS` ...\n",
    "* `RESULTS` ...\n",
    "* `CONCLUSIONS` ...\n",
    "\n",
    "Or\n",
    "\n",
    "* `BACKGROUND` ...\n",
    "* `OBJECTIVE` ...\n",
    "* `METHODS` ...\n",
    "* `METHODS` ...\n",
    "* `RESULTS` ...\n",
    "* `RESULTS` ...\n",
    "* `CONCLUSIONS` ...\n",
    "* `CONCLUSIONS` ...\n",
    "\n",
    "The sequence labels cannot be engineered into the training data, but the order of a set of sequences in an abstract can be.\n",
    "\n",
    "For example,\n",
    "* `Sentence 1 of 10` ...\n",
    "* `Sentence 2 of 10` ...\n",
    "* `Sentence 3 of 10` ...\n",
    "* `Sentence 4 of 10` ...\n",
    "\n",
    "That is the reason why the `'line_number'` and `'total_lines'` columns have been engineered into the \n",
    "data via the `preprocess_text_with_line_numbers()` function."
   ]
  },
  {
   "cell_type": "code",
   "execution_count": null,
   "metadata": {
    "colab": {
     "base_uri": "https://localhost:8080/",
     "height": 206
    },
    "id": "Htf-tnFcEcAn",
    "outputId": "7b384f50-e0c5-4872-f769-846ae4f93f53"
   },
   "outputs": [
    {
     "data": {
      "text/html": [
       "\n",
       "  <div id=\"df-d8162984-4314-4d21-9e26-11d4e51ffbe8\">\n",
       "    <div class=\"colab-df-container\">\n",
       "      <div>\n",
       "<style scoped>\n",
       "    .dataframe tbody tr th:only-of-type {\n",
       "        vertical-align: middle;\n",
       "    }\n",
       "\n",
       "    .dataframe tbody tr th {\n",
       "        vertical-align: top;\n",
       "    }\n",
       "\n",
       "    .dataframe thead th {\n",
       "        text-align: right;\n",
       "    }\n",
       "</style>\n",
       "<table border=\"1\" class=\"dataframe\">\n",
       "  <thead>\n",
       "    <tr style=\"text-align: right;\">\n",
       "      <th></th>\n",
       "      <th>target</th>\n",
       "      <th>text</th>\n",
       "      <th>line_number</th>\n",
       "      <th>total_lines</th>\n",
       "    </tr>\n",
       "  </thead>\n",
       "  <tbody>\n",
       "    <tr>\n",
       "      <th>0</th>\n",
       "      <td>OBJECTIVE</td>\n",
       "      <td>to investigate the efficacy of @ weeks of dail...</td>\n",
       "      <td>0</td>\n",
       "      <td>11</td>\n",
       "    </tr>\n",
       "    <tr>\n",
       "      <th>1</th>\n",
       "      <td>METHODS</td>\n",
       "      <td>a total of @ patients with primary knee oa wer...</td>\n",
       "      <td>1</td>\n",
       "      <td>11</td>\n",
       "    </tr>\n",
       "    <tr>\n",
       "      <th>2</th>\n",
       "      <td>METHODS</td>\n",
       "      <td>outcome measures included pain reduction and i...</td>\n",
       "      <td>2</td>\n",
       "      <td>11</td>\n",
       "    </tr>\n",
       "    <tr>\n",
       "      <th>3</th>\n",
       "      <td>METHODS</td>\n",
       "      <td>pain was assessed using the visual analog pain...</td>\n",
       "      <td>3</td>\n",
       "      <td>11</td>\n",
       "    </tr>\n",
       "    <tr>\n",
       "      <th>4</th>\n",
       "      <td>METHODS</td>\n",
       "      <td>secondary outcome measures included the wester...</td>\n",
       "      <td>4</td>\n",
       "      <td>11</td>\n",
       "    </tr>\n",
       "  </tbody>\n",
       "</table>\n",
       "</div>\n",
       "      <button class=\"colab-df-convert\" onclick=\"convertToInteractive('df-d8162984-4314-4d21-9e26-11d4e51ffbe8')\"\n",
       "              title=\"Convert this dataframe to an interactive table.\"\n",
       "              style=\"display:none;\">\n",
       "        \n",
       "  <svg xmlns=\"http://www.w3.org/2000/svg\" height=\"24px\"viewBox=\"0 0 24 24\"\n",
       "       width=\"24px\">\n",
       "    <path d=\"M0 0h24v24H0V0z\" fill=\"none\"/>\n",
       "    <path d=\"M18.56 5.44l.94 2.06.94-2.06 2.06-.94-2.06-.94-.94-2.06-.94 2.06-2.06.94zm-11 1L8.5 8.5l.94-2.06 2.06-.94-2.06-.94L8.5 2.5l-.94 2.06-2.06.94zm10 10l.94 2.06.94-2.06 2.06-.94-2.06-.94-.94-2.06-.94 2.06-2.06.94z\"/><path d=\"M17.41 7.96l-1.37-1.37c-.4-.4-.92-.59-1.43-.59-.52 0-1.04.2-1.43.59L10.3 9.45l-7.72 7.72c-.78.78-.78 2.05 0 2.83L4 21.41c.39.39.9.59 1.41.59.51 0 1.02-.2 1.41-.59l7.78-7.78 2.81-2.81c.8-.78.8-2.07 0-2.86zM5.41 20L4 18.59l7.72-7.72 1.47 1.35L5.41 20z\"/>\n",
       "  </svg>\n",
       "      </button>\n",
       "      \n",
       "  <style>\n",
       "    .colab-df-container {\n",
       "      display:flex;\n",
       "      flex-wrap:wrap;\n",
       "      gap: 12px;\n",
       "    }\n",
       "\n",
       "    .colab-df-convert {\n",
       "      background-color: #E8F0FE;\n",
       "      border: none;\n",
       "      border-radius: 50%;\n",
       "      cursor: pointer;\n",
       "      display: none;\n",
       "      fill: #1967D2;\n",
       "      height: 32px;\n",
       "      padding: 0 0 0 0;\n",
       "      width: 32px;\n",
       "    }\n",
       "\n",
       "    .colab-df-convert:hover {\n",
       "      background-color: #E2EBFA;\n",
       "      box-shadow: 0px 1px 2px rgba(60, 64, 67, 0.3), 0px 1px 3px 1px rgba(60, 64, 67, 0.15);\n",
       "      fill: #174EA6;\n",
       "    }\n",
       "\n",
       "    [theme=dark] .colab-df-convert {\n",
       "      background-color: #3B4455;\n",
       "      fill: #D2E3FC;\n",
       "    }\n",
       "\n",
       "    [theme=dark] .colab-df-convert:hover {\n",
       "      background-color: #434B5C;\n",
       "      box-shadow: 0px 1px 3px 1px rgba(0, 0, 0, 0.15);\n",
       "      filter: drop-shadow(0px 1px 2px rgba(0, 0, 0, 0.3));\n",
       "      fill: #FFFFFF;\n",
       "    }\n",
       "  </style>\n",
       "\n",
       "      <script>\n",
       "        const buttonEl =\n",
       "          document.querySelector('#df-d8162984-4314-4d21-9e26-11d4e51ffbe8 button.colab-df-convert');\n",
       "        buttonEl.style.display =\n",
       "          google.colab.kernel.accessAllowed ? 'block' : 'none';\n",
       "\n",
       "        async function convertToInteractive(key) {\n",
       "          const element = document.querySelector('#df-d8162984-4314-4d21-9e26-11d4e51ffbe8');\n",
       "          const dataTable =\n",
       "            await google.colab.kernel.invokeFunction('convertToInteractive',\n",
       "                                                     [key], {});\n",
       "          if (!dataTable) return;\n",
       "\n",
       "          const docLinkHtml = 'Like what you see? Visit the ' +\n",
       "            '<a target=\"_blank\" href=https://colab.research.google.com/notebooks/data_table.ipynb>data table notebook</a>'\n",
       "            + ' to learn more about interactive tables.';\n",
       "          element.innerHTML = '';\n",
       "          dataTable['output_type'] = 'display_data';\n",
       "          await google.colab.output.renderOutput(dataTable, element);\n",
       "          const docLink = document.createElement('div');\n",
       "          docLink.innerHTML = docLinkHtml;\n",
       "          element.appendChild(docLink);\n",
       "        }\n",
       "      </script>\n",
       "    </div>\n",
       "  </div>\n",
       "  "
      ],
      "text/plain": [
       "      target                                               text  line_number  \\\n",
       "0  OBJECTIVE  to investigate the efficacy of @ weeks of dail...            0   \n",
       "1    METHODS  a total of @ patients with primary knee oa wer...            1   \n",
       "2    METHODS  outcome measures included pain reduction and i...            2   \n",
       "3    METHODS  pain was assessed using the visual analog pain...            3   \n",
       "4    METHODS  secondary outcome measures included the wester...            4   \n",
       "\n",
       "   total_lines  \n",
       "0           11  \n",
       "1           11  \n",
       "2           11  \n",
       "3           11  \n",
       "4           11  "
      ]
     },
     "execution_count": 56,
     "metadata": {},
     "output_type": "execute_result"
    }
   ],
   "source": [
    "train_df.head()"
   ]
  },
  {
   "cell_type": "markdown",
   "metadata": {
    "id": "IZ5HvKoiGU6m"
   },
   "source": [
    "**Positional embedding** can be used. The positional embedding is where the sentence appears in an abstract. The appearance of a sentence is available at test time; therefore, these features can be used.\n",
    "\n",
    "An example is as follows\n",
    "\n",
    "<img src='https://nft-mp-nft-v1-dev-resources.s3.amazonaws.com/images/ai_cw_engineer.png' />\n",
    "\n",
    "*Since abstracts typically have a sequential order, the line number where a particular sentence occurs can be identified. At test time, the number of sentences in an abstract can be just counted alongside the number of each one.*\n",
    "\n",
    "In other words, if the labels of the sequences can be predicted in an abstract the model had never seen, the number of lines can be counted, and the position of each line can be tracked and pass it to the model."
   ]
  },
  {
   "cell_type": "markdown",
   "metadata": {
    "id": "ABuz5baDJwY-"
   },
   "source": [
    "#### Create positional embeddings\n",
    "\n",
    "To avoid the model thinking a line with `'line_number'=5` is five times greater than a line with `'line_number'=1`, one-hot-encoding can be used to encode the `'line_number'` and `'total_lines'` features."
   ]
  },
  {
   "cell_type": "code",
   "execution_count": null,
   "metadata": {
    "colab": {
     "base_uri": "https://localhost:8080/"
    },
    "id": "LJVhuU7cMd0-",
    "outputId": "0bf9bf74-ddff-4fc6-9621-10c467fabf39"
   },
   "outputs": [
    {
     "data": {
      "text/plain": [
       "0     15000\n",
       "1     15000\n",
       "2     15000\n",
       "3     15000\n",
       "4     14992\n",
       "5     14949\n",
       "6     14758\n",
       "7     14279\n",
       "8     13346\n",
       "9     11981\n",
       "10    10041\n",
       "11     7892\n",
       "12     5853\n",
       "13     4152\n",
       "14     2835\n",
       "15     1861\n",
       "16     1188\n",
       "17      751\n",
       "18      462\n",
       "19      286\n",
       "20      162\n",
       "21      101\n",
       "22       66\n",
       "23       33\n",
       "24       22\n",
       "25       14\n",
       "26        7\n",
       "27        4\n",
       "28        3\n",
       "29        1\n",
       "30        1\n",
       "Name: line_number, dtype: int64"
      ]
     },
     "execution_count": 48,
     "metadata": {},
     "output_type": "execute_result"
    }
   ],
   "source": [
    "# How many different line numbers are there?\n",
    "train_df['line_number'].value_counts()"
   ]
  },
  {
   "cell_type": "code",
   "execution_count": null,
   "metadata": {
    "colab": {
     "base_uri": "https://localhost:8080/",
     "height": 282
    },
    "id": "rKoNMSBNImLG",
    "outputId": "f5774452-58e1-4dbe-d033-b351109e968f"
   },
   "outputs": [
    {
     "data": {
      "text/plain": [
       "<matplotlib.axes._subplots.AxesSubplot at 0x7f1087979110>"
      ]
     },
     "execution_count": 49,
     "metadata": {},
     "output_type": "execute_result"
    },
    {
     "data": {
      "image/png": "[encoded data removed]",
      "text/plain": [
       "<Figure size 432x288 with 1 Axes>"
      ]
     },
     "metadata": {
      "needs_background": "light"
     },
     "output_type": "display_data"
    }
   ],
   "source": [
    "# Check the distribution of 'line_number' column\n",
    "train_df.line_number.plot.hist()"
   ]
  },
  {
   "cell_type": "code",
   "execution_count": null,
   "metadata": {
    "colab": {
     "base_uri": "https://localhost:8080/"
    },
    "id": "mVISnl8k-Imp",
    "outputId": "8a122ee8-e749-4027-ace8-e3cd9d59e04c"
   },
   "outputs": [
    {
     "data": {
      "text/plain": [
       "13"
      ]
     },
     "execution_count": 50,
     "metadata": {},
     "output_type": "execute_result"
    }
   ],
   "source": [
    "# What line number covers 95% of sequences\n",
    "int(np.percentile(train_df.line_number, 95))"
   ]
  },
  {
   "cell_type": "markdown",
   "metadata": {
    "id": "pPnEkJvXKuf9"
   },
   "source": [
    "Looking at the distribution of the `'line_number'` column, most lines have a position of 13 or less.\n",
    "\n",
    "Knowing this, it can be set as the `depth` parameter of `tf.one_hot` (the dimension of the tensor)."
   ]
  },
  {
   "cell_type": "code",
   "execution_count": null,
   "metadata": {
    "id": "LsjdKcXUMkgE"
   },
   "outputs": [],
   "source": [
    "# One-hot-encoded tensors of the 'line_number' column \n",
    "train_line_numbers_one_hot = tf.one_hot(train_df['line_number'].to_numpy(), depth=13)\n",
    "val_line_numbers_one_hot = tf.one_hot(val_df['line_number'].to_numpy(), depth=13)\n",
    "test_line_numbers_one_hot = tf.one_hot(test_df['line_number'].to_numpy(), depth=13)"
   ]
  },
  {
   "cell_type": "markdown",
   "metadata": {
    "id": "7MTRSo_OLWGS"
   },
   "source": [
    "Setting the `depth` parameter of `tf.one_hot` to 13 means any sample with a `'line_number'` value of over 13 gets set to a tensor of all 0's, whereas any sample with a `'line_number'` of under 13 gets turned into a tensor of all 0's but with a 1 at the index equal to the `'line_number'` value.\n",
    "\n",
    "Why not use the `depth` value as the largest line number?\n",
    "\n",
    "This would end up in a tensor double the size of the current one (`depth=13`), where the vast majority of values are 0. Plus, only ~2,000/180,000 samples have a `'line_number'` value of over 13.\n",
    "\n",
    "Hence, much information will not be gained; this kind of problem is called the **curse of dimensionality**. \n",
    "\n",
    "However, this can be tuned since this problem does not affect deep models as much."
   ]
  },
  {
   "cell_type": "code",
   "execution_count": null,
   "metadata": {
    "colab": {
     "base_uri": "https://localhost:8080/"
    },
    "id": "R7BERNOQK723",
    "outputId": "d395c4f7-8cc1-43d5-f857-19ebf284703a"
   },
   "outputs": [
    {
     "data": {
      "text/plain": [
       "(TensorShape([180040, 13]), <tf.Tensor: shape=(20, 13), dtype=float32, numpy=\n",
       " array([[1., 0., 0., 0., 0., 0., 0., 0., 0., 0., 0., 0., 0.],\n",
       "        [0., 1., 0., 0., 0., 0., 0., 0., 0., 0., 0., 0., 0.],\n",
       "        [0., 0., 1., 0., 0., 0., 0., 0., 0., 0., 0., 0., 0.],\n",
       "        [0., 0., 0., 1., 0., 0., 0., 0., 0., 0., 0., 0., 0.],\n",
       "        [0., 0., 0., 0., 1., 0., 0., 0., 0., 0., 0., 0., 0.],\n",
       "        [0., 0., 0., 0., 0., 1., 0., 0., 0., 0., 0., 0., 0.],\n",
       "        [0., 0., 0., 0., 0., 0., 1., 0., 0., 0., 0., 0., 0.],\n",
       "        [0., 0., 0., 0., 0., 0., 0., 1., 0., 0., 0., 0., 0.],\n",
       "        [0., 0., 0., 0., 0., 0., 0., 0., 1., 0., 0., 0., 0.],\n",
       "        [0., 0., 0., 0., 0., 0., 0., 0., 0., 1., 0., 0., 0.],\n",
       "        [0., 0., 0., 0., 0., 0., 0., 0., 0., 0., 1., 0., 0.],\n",
       "        [0., 0., 0., 0., 0., 0., 0., 0., 0., 0., 0., 1., 0.],\n",
       "        [1., 0., 0., 0., 0., 0., 0., 0., 0., 0., 0., 0., 0.],\n",
       "        [0., 1., 0., 0., 0., 0., 0., 0., 0., 0., 0., 0., 0.],\n",
       "        [0., 0., 1., 0., 0., 0., 0., 0., 0., 0., 0., 0., 0.],\n",
       "        [0., 0., 0., 1., 0., 0., 0., 0., 0., 0., 0., 0., 0.],\n",
       "        [0., 0., 0., 0., 1., 0., 0., 0., 0., 0., 0., 0., 0.],\n",
       "        [0., 0., 0., 0., 0., 1., 0., 0., 0., 0., 0., 0., 0.],\n",
       "        [0., 0., 0., 0., 0., 0., 1., 0., 0., 0., 0., 0., 0.],\n",
       "        [0., 0., 0., 0., 0., 0., 0., 1., 0., 0., 0., 0., 0.]],\n",
       "       dtype=float32)>)"
      ]
     },
     "execution_count": 52,
     "metadata": {},
     "output_type": "execute_result"
    }
   ],
   "source": [
    "# Check one-hot encoded 'line_number' feature samples\n",
    "train_line_numbers_one_hot.shape, train_line_numbers_one_hot[:20]"
   ]
  },
  {
   "cell_type": "markdown",
   "metadata": {
    "id": "CxYgKu6tMBbg"
   },
   "source": [
    "The same done for the `'line_number'` column can be done for the `'total_lines'` column."
   ]
  },
  {
   "cell_type": "code",
   "execution_count": null,
   "metadata": {
    "colab": {
     "base_uri": "https://localhost:8080/"
    },
    "id": "S3bLbdWzOBmY",
    "outputId": "8eb454b1-e388-4911-aa0b-fe4d7f80ee26"
   },
   "outputs": [
    {
     "data": {
      "text/plain": [
       "11    24468\n",
       "10    23639\n",
       "12    22113\n",
       "9     19400\n",
       "13    18438\n",
       "14    14610\n",
       "8     12285\n",
       "15    10768\n",
       "7      7464\n",
       "16     7429\n",
       "17     5202\n",
       "6      3353\n",
       "18     3344\n",
       "19     2480\n",
       "20     1281\n",
       "5      1146\n",
       "21      770\n",
       "22      759\n",
       "23      264\n",
       "4       215\n",
       "24      200\n",
       "25      182\n",
       "26       81\n",
       "28       58\n",
       "3        32\n",
       "30       31\n",
       "27       28\n",
       "Name: total_lines, dtype: int64"
      ]
     },
     "execution_count": 53,
     "metadata": {},
     "output_type": "execute_result"
    }
   ],
   "source": [
    "# How many different numbers of lines are there?\n",
    "train_df['total_lines'].value_counts()"
   ]
  },
  {
   "cell_type": "code",
   "execution_count": null,
   "metadata": {
    "colab": {
     "base_uri": "https://localhost:8080/",
     "height": 267
    },
    "id": "oxDN9ASLL9uY",
    "outputId": "488c52f7-6c0d-4603-deb9-a526635f08e0"
   },
   "outputs": [
    {
     "data": {
      "image/png": "[encoded data removed]",
      "text/plain": [
       "<Figure size 432x288 with 1 Axes>"
      ]
     },
     "metadata": {
      "needs_background": "light"
     },
     "output_type": "display_data"
    }
   ],
   "source": [
    "# Check the distribution of total lines\n",
    "train_df.total_lines.plot.hist();"
   ]
  },
  {
   "cell_type": "markdown",
   "metadata": {
    "id": "iBWX2cIHN_1J"
   },
   "source": [
    "It looks like the lines that are the majority are around 20"
   ]
  },
  {
   "cell_type": "code",
   "execution_count": null,
   "metadata": {
    "colab": {
     "base_uri": "https://localhost:8080/"
    },
    "id": "rNqtD_-h9OD5",
    "outputId": "a6117d28-a376-4fa9-f913-34e953968bc3"
   },
   "outputs": [
    {
     "data": {
      "text/plain": [
       "18"
      ]
     },
     "execution_count": 55,
     "metadata": {},
     "output_type": "execute_result"
    }
   ],
   "source": [
    "# Wwhat number of lines covers 95% of sequences\n",
    "int(np.percentile(train_df.total_lines, 95))"
   ]
  },
  {
   "cell_type": "code",
   "execution_count": null,
   "metadata": {
    "colab": {
     "base_uri": "https://localhost:8080/"
    },
    "id": "xwwdVksoWLeJ",
    "outputId": "d7161463-eb99-48e2-e5d7-388b5a5ffcd9"
   },
   "outputs": [
    {
     "data": {
      "text/plain": [
       "(TensorShape([180040, 18]), <tf.Tensor: shape=(10, 18), dtype=float32, numpy=\n",
       " array([[0., 0., 0., 0., 0., 0., 0., 0., 0., 0., 0., 1., 0., 0., 0., 0.,\n",
       "         0., 0.],\n",
       "        [0., 0., 0., 0., 0., 0., 0., 0., 0., 0., 0., 1., 0., 0., 0., 0.,\n",
       "         0., 0.],\n",
       "        [0., 0., 0., 0., 0., 0., 0., 0., 0., 0., 0., 1., 0., 0., 0., 0.,\n",
       "         0., 0.],\n",
       "        [0., 0., 0., 0., 0., 0., 0., 0., 0., 0., 0., 1., 0., 0., 0., 0.,\n",
       "         0., 0.],\n",
       "        [0., 0., 0., 0., 0., 0., 0., 0., 0., 0., 0., 1., 0., 0., 0., 0.,\n",
       "         0., 0.],\n",
       "        [0., 0., 0., 0., 0., 0., 0., 0., 0., 0., 0., 1., 0., 0., 0., 0.,\n",
       "         0., 0.],\n",
       "        [0., 0., 0., 0., 0., 0., 0., 0., 0., 0., 0., 1., 0., 0., 0., 0.,\n",
       "         0., 0.],\n",
       "        [0., 0., 0., 0., 0., 0., 0., 0., 0., 0., 0., 1., 0., 0., 0., 0.,\n",
       "         0., 0.],\n",
       "        [0., 0., 0., 0., 0., 0., 0., 0., 0., 0., 0., 1., 0., 0., 0., 0.,\n",
       "         0., 0.],\n",
       "        [0., 0., 0., 0., 0., 0., 0., 0., 0., 0., 0., 1., 0., 0., 0., 0.,\n",
       "         0., 0.]], dtype=float32)>)"
      ]
     },
     "execution_count": 56,
     "metadata": {},
     "output_type": "execute_result"
    }
   ],
   "source": [
    "# One-hot-encoded tensors of the 'total_lines' column \n",
    "train_total_lines_one_hot = tf.one_hot(train_df['total_lines'].to_numpy(), depth=18)\n",
    "val_total_lines_one_hot = tf.one_hot(val_df['total_lines'].to_numpy(), depth=18)\n",
    "test_total_lines_one_hot = tf.one_hot(test_df['total_lines'].to_numpy(), depth=18)\n",
    "\n",
    "# Check shape and samples of total lines one-hot tensor\n",
    "train_total_lines_one_hot.shape, train_total_lines_one_hot[:10]"
   ]
  },
  {
   "cell_type": "markdown",
   "metadata": {
    "id": "JVJWCANtQMiJ"
   },
   "source": [
    "### Architecture 02 - Tribrid\n",
    "\n",
    "Pretrained token embeddings + character embeddings + positional embeddings (tribrid embedding layer).\n",
    "\n",
    "Essentially, as much information about the sequences as possible is encoded into various embeddings (the inputs to the model), so the model has the best chance to figure out what label belongs to a sequence (the outputs of the model).\n"
   ]
  },
  {
   "cell_type": "code",
   "execution_count": null,
   "metadata": {
    "id": "aPiFnY8E0oPS"
   },
   "outputs": [],
   "source": [
    "# token inputs\n",
    "token_inputs = layers.Input(shape=[], dtype='string', name='token_inputs')\n",
    "token_embeddings = token_embedder(token_inputs)\n",
    "token_outputs = layers.Dense(128, activation='relu')(token_embeddings)\n",
    "token_model = tf.keras.Model(\n",
    "    inputs=token_inputs,\n",
    "    outputs=token_outputs\n",
    ")\n",
    "\n",
    "# char inputs\n",
    "char_inputs = layers.Input(shape=(1,), dtype='string', name='char_inputs')\n",
    "char_vectors = char_vectorizer(char_inputs)\n",
    "char_embeddings = char_embedder(char_vectors)\n",
    "char_bi_lstm = layers.Bidirectional(layers.LSTM(32))(char_embeddings)\n",
    "char_model = tf.keras.Model(\n",
    "    inputs=char_inputs,\n",
    "    outputs=char_bi_lstm\n",
    ")\n",
    "\n",
    "# line numbers inputs\n",
    "line_number_inputs = layers.Input(shape=(13,), dtype=tf.int32, name='line_number_input')\n",
    "x = layers.Dense(32, activation='relu')(line_number_inputs)\n",
    "line_number_model = tf.keras.Model(\n",
    "    inputs=line_number_inputs,\n",
    "    outputs=x\n",
    ")\n",
    "\n",
    "# total lines inputs\n",
    "total_lines_inputs = layers.Input(shape=(18,), dtype=tf.int32, name='total_lines_input')\n",
    "y = layers.Dense(32, activation='relu')(total_lines_inputs)\n",
    "total_line_model = tf.keras.Model(\n",
    "    inputs=total_lines_inputs,\n",
    "    outputs=y\n",
    ")\n",
    "\n",
    "# Combine token and char embeddings into a hybrid embedding\n",
    "hybrid_embeddings = layers.Concatenate(name='token_char_hybrid_embedding')([\n",
    "    token_model.output, \n",
    "    char_model.output\n",
    "])\n",
    "\n",
    "z = layers.Dense(256, activation='relu')(hybrid_embeddings)\n",
    "z = layers.Dropout(0.5)(z)\n",
    "\n",
    "# Combine positional embeddings with combined token and char embeddings into a tribrid embedding\n",
    "tribid_embeddings = layers.Concatenate(name='token_char_positional_embedding')([\n",
    "    line_number_model.output,\n",
    "    total_line_model.output,\n",
    "    z\n",
    "])\n",
    "\n",
    "# Create output layer\n",
    "output_layer = layers.Dense(5, activation='softmax', name='output_layer')(tribid_embeddings)\n",
    "\n",
    "# Put together model\n",
    "model_2 = tf.keras.Model(\n",
    "    inputs=[\n",
    "        line_number_model.input,\n",
    "        total_line_model.input,\n",
    "        token_model.input, \n",
    "        char_model.input\n",
    "    ],\n",
    "    outputs=output_layer,\n",
    "    name='model_2_token_char_and_positional_embeddings_tribid'\n",
    ")"
   ]
  },
  {
   "cell_type": "code",
   "execution_count": null,
   "metadata": {
    "colab": {
     "base_uri": "https://localhost:8080/"
    },
    "id": "n7eJOhlKfVQJ",
    "outputId": "e1af0f2e-6fd4-4523-ebfe-a09ca9241927"
   },
   "outputs": [
    {
     "name": "stdout",
     "output_type": "stream",
     "text": [
      "Model: \"model_2_token_char_and_positional_embeddings_tribid\"\n",
      "__________________________________________________________________________________________________\n",
      " Layer (type)                   Output Shape         Param #     Connected to                     \n",
      "==================================================================================================\n",
      " char_inputs (InputLayer)       [(None, 1)]          0           []                               \n",
      "                                                                                                  \n",
      " token_inputs (InputLayer)      [(None,)]            0           []                               \n",
      "                                                                                                  \n",
      " char_vectorizer (TextVectoriza  (None, 290)         0           ['char_inputs[0][0]']            \n",
      " tion)                                                                                            \n",
      "                                                                                                  \n",
      " universal_sentence_encoder (Ke  (None, 512)         256797824   ['token_inputs[0][0]']           \n",
      " rasLayer)                                                                                        \n",
      "                                                                                                  \n",
      " char_embedder (Embedding)      (None, 290, 25)      1750        ['char_vectorizer[0][0]']        \n",
      "                                                                                                  \n",
      " dense (Dense)                  (None, 128)          65664       ['universal_sentence_encoder[0][0\n",
      "                                                                 ]']                              \n",
      "                                                                                                  \n",
      " bidirectional (Bidirectional)  (None, 64)           14848       ['char_embedder[0][0]']          \n",
      "                                                                                                  \n",
      " token_char_hybrid_embedding (C  (None, 192)         0           ['dense[0][0]',                  \n",
      " oncatenate)                                                      'bidirectional[0][0]']          \n",
      "                                                                                                  \n",
      " line_number_input (InputLayer)  [(None, 13)]        0           []                               \n",
      "                                                                                                  \n",
      " total_lines_input (InputLayer)  [(None, 18)]        0           []                               \n",
      "                                                                                                  \n",
      " dense_3 (Dense)                (None, 256)          49408       ['token_char_hybrid_embedding[0][\n",
      "                                                                 0]']                             \n",
      "                                                                                                  \n",
      " dense_1 (Dense)                (None, 32)           448         ['line_number_input[0][0]']      \n",
      "                                                                                                  \n",
      " dense_2 (Dense)                (None, 32)           608         ['total_lines_input[0][0]']      \n",
      "                                                                                                  \n",
      " dropout (Dropout)              (None, 256)          0           ['dense_3[0][0]']                \n",
      "                                                                                                  \n",
      " token_char_positional_embeddin  (None, 320)         0           ['dense_1[0][0]',                \n",
      " g (Concatenate)                                                  'dense_2[0][0]',                \n",
      "                                                                  'dropout[0][0]']                \n",
      "                                                                                                  \n",
      " output_layer (Dense)           (None, 5)            1605        ['token_char_positional_embedding\n",
      "                                                                 [0][0]']                         \n",
      "                                                                                                  \n",
      "==================================================================================================\n",
      "Total params: 256,932,155\n",
      "Trainable params: 134,331\n",
      "Non-trainable params: 256,797,824\n",
      "__________________________________________________________________________________________________\n"
     ]
    }
   ],
   "source": [
    "# Get a summary of tribid embedding model\n",
    "model_2.summary()"
   ]
  },
  {
   "cell_type": "code",
   "execution_count": null,
   "metadata": {
    "colab": {
     "base_uri": "https://localhost:8080/",
     "height": 735
    },
    "id": "uM0dohpZ_v5U",
    "outputId": "102aa999-e844-4e07-cc2b-4b0db561af5f"
   },
   "outputs": [
    {
     "data": {
      "image/png": "[encoded data removed]",
      "text/plain": [
       "<IPython.core.display.Image object>"
      ]
     },
     "execution_count": 45,
     "metadata": {},
     "output_type": "execute_result"
    }
   ],
   "source": [
    "# Plot tribid embedding model\n",
    "plot_model(model_2)"
   ]
  },
  {
   "cell_type": "markdown",
   "metadata": {
    "id": "RqUCaJPKY9o_"
   },
   "source": [
    "While compiling, label smoothing will be added that helps to regularize the model (prevent overfitting) by making sure it does not get too focused on applying one particular label to a sample.\n",
    "\n",
    "For example, instead of having an output prediction of: \n",
    "* `[0.0, 0.0, 1.0, 0.0, 0.0]` for a sample (the model is confident the correct label is index 2).\n",
    "\n",
    "Its predictions will get smoothed to be something like:\n",
    "* `[0.01, 0.01, 0.096, 0.01, 0.01]` giving a small activation to the other labels, hopefully improving generalization.\n"
   ]
  },
  {
   "cell_type": "code",
   "execution_count": null,
   "metadata": {
    "id": "nwYd_dWPS8EB"
   },
   "outputs": [],
   "source": [
    "# Compile tribrid embedding model\n",
    "model_2.compile(\n",
    "    # add label smoothing (examples which are really confident get smoothed a little)\n",
    "    loss=tf.keras.losses.CategoricalCrossentropy(label_smoothing=0.2),\n",
    "    optimizer=tf.keras.optimizers.Adam(),\n",
    "    metrics=['accuracy']\n",
    ")"
   ]
  },
  {
   "cell_type": "markdown",
   "metadata": {
    "id": "vrXEGlcUZXAE"
   },
   "source": [
    "This model requires four inputs, token-level sequences, character-level sequences, line numbers, and total lines."
   ]
  },
  {
   "cell_type": "code",
   "execution_count": null,
   "metadata": {
    "colab": {
     "base_uri": "https://localhost:8080/"
    },
    "id": "8FDNHSIRyEE2",
    "outputId": "a53d30cb-8b7d-47a9-b82e-a708e72e65e7"
   },
   "outputs": [
    {
     "data": {
      "text/plain": [
       "(<PrefetchDataset element_spec=((TensorSpec(shape=(None, 13), dtype=tf.float32, name=None), TensorSpec(shape=(None, 18), dtype=tf.float32, name=None), TensorSpec(shape=(None,), dtype=tf.string, name=None), TensorSpec(shape=(None,), dtype=tf.string, name=None)), TensorSpec(shape=(None, 5), dtype=tf.float64, name=None))>,\n",
       " <PrefetchDataset element_spec=((TensorSpec(shape=(None, 13), dtype=tf.float32, name=None), TensorSpec(shape=(None, 18), dtype=tf.float32, name=None), TensorSpec(shape=(None,), dtype=tf.string, name=None), TensorSpec(shape=(None,), dtype=tf.string, name=None)), TensorSpec(shape=(None, 5), dtype=tf.float64, name=None))>)"
      ]
     },
     "execution_count": 57,
     "metadata": {},
     "output_type": "execute_result"
    }
   ],
   "source": [
    "# Combine all four kinds of inputs\n",
    "train_pos_char_token_data = tf.data.Dataset.from_tensor_slices((\n",
    "    train_line_numbers_one_hot,\n",
    "    train_total_lines_one_hot,\n",
    "    train_sentences,\n",
    "    train_chars\n",
    "))\n",
    "train_pos_char_token_labels = tf.data.Dataset.from_tensor_slices(train_labels_one_hot)\n",
    "train_pos_char_token_dataset = tf.data.Dataset.zip((\n",
    "    train_pos_char_token_data,train_pos_char_token_labels\n",
    "))\n",
    "train_pos_char_token_dataset = train_pos_char_token_dataset.batch(32).prefetch(tf.data.AUTOTUNE)\n",
    "\n",
    "# Repeat same steps for validation data\n",
    "val_pos_char_token_data = tf.data.Dataset.from_tensor_slices((\n",
    "    val_line_numbers_one_hot,\n",
    "    val_total_lines_one_hot,\n",
    "    val_sentences,\n",
    "    val_chars\n",
    "))\n",
    "val_pos_char_token_labels = tf.data.Dataset.from_tensor_slices(val_labels_one_hot)\n",
    "val_pos_char_token_dataset = tf.data.Dataset.zip((\n",
    "    val_pos_char_token_data,\n",
    "    val_pos_char_token_labels\n",
    "))\n",
    "val_pos_char_token_dataset = val_pos_char_token_dataset.batch(32).prefetch(tf.data.AUTOTUNE)\n",
    "\n",
    "# Check input shapes\n",
    "train_pos_char_token_dataset, val_pos_char_token_dataset"
   ]
  },
  {
   "cell_type": "code",
   "execution_count": null,
   "metadata": {
    "colab": {
     "base_uri": "https://localhost:8080/"
    },
    "id": "LiAjolB7yLxw",
    "outputId": "53ef160b-80d7-49fc-e891-f932ae35c86b"
   },
   "outputs": [
    {
     "name": "stdout",
     "output_type": "stream",
     "text": [
      "Saving TensorBoard log files to: tensorboard_logs/model_2/20221028-065111\n",
      "Epoch 1/3\n",
      "562/562 [==============================] - 23s 34ms/step - loss: 1.0947 - accuracy: 0.7250 - val_loss: 0.9861 - val_accuracy: 0.8029\n",
      "Epoch 2/3\n",
      "562/562 [==============================] - 18s 31ms/step - loss: 0.9678 - accuracy: 0.8181 - val_loss: 0.9530 - val_accuracy: 0.8278\n",
      "Epoch 3/3\n",
      "562/562 [==============================] - 17s 30ms/step - loss: 0.9491 - accuracy: 0.8235 - val_loss: 0.9392 - val_accuracy: 0.8321\n"
     ]
    }
   ],
   "source": [
    "# Fit the tribrid embedding model\n",
    "model_2_history = model_2.fit(\n",
    "    train_pos_char_token_dataset,\n",
    "    steps_per_epoch=int(0.1 * len(train_pos_char_token_dataset)),\n",
    "    epochs=3,\n",
    "    validation_data=val_pos_char_token_dataset,\n",
    "    validation_steps=int(0.1 * len(val_pos_char_token_dataset)),\n",
    "        callbacks=[create_tensorboard_callback('/content/drive/MyDrive/Colab Notebooks/tensorboard_logs', 'model_2')]\n",
    ")"
   ]
  },
  {
   "cell_type": "code",
   "execution_count": null,
   "metadata": {
    "colab": {
     "base_uri": "https://localhost:8080/"
    },
    "id": "V6AtA9ffcC8Y",
    "outputId": "90722eef-3b5c-4747-f91f-265925d57dfc"
   },
   "outputs": [
    {
     "name": "stdout",
     "output_type": "stream",
     "text": [
      "945/945 [==============================] - 18s 19ms/step - loss: 0.9363 - accuracy: 0.8323\n"
     ]
    },
    {
     "data": {
      "text/plain": [
       "[0.9363471269607544, 0.8322520852088928]"
      ]
     },
     "execution_count": 80,
     "metadata": {},
     "output_type": "execute_result"
    }
   ],
   "source": [
    "# Evaluate on the validation dataset\n",
    "model_2.evaluate(val_pos_char_token_dataset)"
   ]
  },
  {
   "cell_type": "code",
   "execution_count": null,
   "metadata": {
    "colab": {
     "base_uri": "https://localhost:8080/"
    },
    "id": "-7P7npXVLSY2",
    "outputId": "dd2d85d4-5c1c-404c-a8d4-69c172d85aad"
   },
   "outputs": [
    {
     "name": "stderr",
     "output_type": "stream",
     "text": [
      "WARNING:absl:Found untraced functions such as lstm_cell_7_layer_call_fn, lstm_cell_7_layer_call_and_return_conditional_losses, lstm_cell_8_layer_call_fn, lstm_cell_8_layer_call_and_return_conditional_losses while saving (showing 4 of 4). These functions will not be directly callable after loading.\n"
     ]
    }
   ],
   "source": [
    "# Save model\n",
    "tf.keras.models.save_model(model_2, model_2.name)"
   ]
  },
  {
   "cell_type": "markdown",
   "metadata": {
    "id": "0B8cgpcVgETi"
   },
   "source": [
    "## Part D - Evaluation & Testing\n",
    "***"
   ]
  },
  {
   "cell_type": "markdown",
   "metadata": {
    "id": "yranVE5soBdf"
   },
   "source": [
    "### Compare model results "
   ]
  },
  {
   "cell_type": "code",
   "execution_count": null,
   "metadata": {
    "colab": {
     "base_uri": "https://localhost:8080/",
     "height": 573
    },
    "id": "7ngNgqm5gpXW",
    "outputId": "aeb2e883-3099-492a-882f-1a9e87da051e"
   },
   "outputs": [
    {
     "data": {
      "image/png": "[encoded data removed]",
      "text/plain": [
       "<Figure size 432x288 with 1 Axes>"
      ]
     },
     "metadata": {
      "needs_background": "light"
     },
     "output_type": "display_data"
    },
    {
     "data": {
      "image/png": "[encoded data removed]",
      "text/plain": [
       "<Figure size 432x288 with 1 Axes>"
      ]
     },
     "metadata": {
      "needs_background": "light"
     },
     "output_type": "display_data"
    }
   ],
   "source": [
    "# Plot model 1 history\n",
    "plot_loss_curves(model_1_history)"
   ]
  },
  {
   "cell_type": "code",
   "execution_count": null,
   "metadata": {
    "colab": {
     "base_uri": "https://localhost:8080/",
     "height": 573
    },
    "id": "SicYL2gVgl1s",
    "outputId": "36b18187-795f-4d4e-e071-10dbd3b99458"
   },
   "outputs": [
    {
     "data": {
      "image/png": "[encoded data removed]",
      "text/plain": [
       "<Figure size 432x288 with 1 Axes>"
      ]
     },
     "metadata": {
      "needs_background": "light"
     },
     "output_type": "display_data"
    },
    {
     "data": {
      "image/png": "[encoded data removed]",
      "text/plain": [
       "<Figure size 432x288 with 1 Axes>"
      ]
     },
     "metadata": {
      "needs_background": "light"
     },
     "output_type": "display_data"
    }
   ],
   "source": [
    "# Plot model 2 history\n",
    "plot_loss_curves(model_2_history)"
   ]
  },
  {
   "cell_type": "code",
   "execution_count": null,
   "metadata": {
    "id": "nKQgTvHrg2Ou"
   },
   "outputs": [],
   "source": [
    "# %tensorboard --logdir '/content/drive/MyDrive/Colab Notebooks/tensorboard_logs'"
   ]
  },
  {
   "cell_type": "markdown",
   "metadata": {
    "id": "0NWOH6k-n1Ek"
   },
   "source": [
    "TensorBoard logs\n",
    "\n",
    "<img src='https://nft-mp-nft-v1-dev-resources.s3.amazonaws.com/images/ai_cw_tb_1.png' />\n",
    "\n",
    "<img src='https://nft-mp-nft-v1-dev-resources.s3.amazonaws.com/images/ai_cw_tb_2.png' />\n",
    "\n",
    "<img src='https://nft-mp-nft-v1-dev-resources.s3.amazonaws.com/images/ai_cw_tb_3.png' />\n",
    "\n",
    "<img src='https://nft-mp-nft-v1-dev-resources.s3.amazonaws.com/images/ai_cw_tb_4.png' />"
   ]
  },
  {
   "cell_type": "code",
   "execution_count": null,
   "metadata": {
    "colab": {
     "base_uri": "https://localhost:8080/"
    },
    "id": "oca_oV_Fc-cK",
    "outputId": "18310c93-b54e-4b0b-89e4-2f63786f3ce7"
   },
   "outputs": [
    {
     "name": "stdout",
     "output_type": "stream",
     "text": [
      "945/945 [==============================] - 18s 18ms/step\n",
      "945/945 [==============================] - 18s 18ms/step\n"
     ]
    }
   ],
   "source": [
    "# Create prediction probabilities\n",
    "model_1_pred_probs = model_1.predict(val_char_token_dataset, verbose=1)\n",
    "model_2_pred_probs = model_2.predict(val_pos_char_token_dataset, verbose=1)\n",
    "\n",
    "# Turn prediction probabilities into prediction classes\n",
    "model_1_preds = tf.argmax(model_1_pred_probs, axis=1)\n",
    "model_2_preds = tf.argmax(model_2_pred_probs, axis=1)"
   ]
  },
  {
   "cell_type": "code",
   "execution_count": null,
   "metadata": {
    "colab": {
     "base_uri": "https://localhost:8080/",
     "height": 112
    },
    "id": "uJtoRSYGb2VP",
    "outputId": "31dcb769-bfe9-4d11-aafe-4c576ed58d68"
   },
   "outputs": [
    {
     "data": {
      "text/html": [
       "\n",
       "  <div id=\"df-cd2fd3ff-da0c-4c92-82b9-49ea52c862f5\">\n",
       "    <div class=\"colab-df-container\">\n",
       "      <div>\n",
       "<style scoped>\n",
       "    .dataframe tbody tr th:only-of-type {\n",
       "        vertical-align: middle;\n",
       "    }\n",
       "\n",
       "    .dataframe tbody tr th {\n",
       "        vertical-align: top;\n",
       "    }\n",
       "\n",
       "    .dataframe thead th {\n",
       "        text-align: right;\n",
       "    }\n",
       "</style>\n",
       "<table border=\"1\" class=\"dataframe\">\n",
       "  <thead>\n",
       "    <tr style=\"text-align: right;\">\n",
       "      <th></th>\n",
       "      <th>accuracy</th>\n",
       "      <th>precision</th>\n",
       "      <th>recall</th>\n",
       "      <th>f1</th>\n",
       "    </tr>\n",
       "  </thead>\n",
       "  <tbody>\n",
       "    <tr>\n",
       "      <th>hybrid_char_token_embed</th>\n",
       "      <td>72.954455</td>\n",
       "      <td>0.733076</td>\n",
       "      <td>0.729545</td>\n",
       "      <td>0.727558</td>\n",
       "    </tr>\n",
       "    <tr>\n",
       "      <th>tribrid_pos_char_token_embed</th>\n",
       "      <td>83.225209</td>\n",
       "      <td>0.831145</td>\n",
       "      <td>0.832252</td>\n",
       "      <td>0.831063</td>\n",
       "    </tr>\n",
       "  </tbody>\n",
       "</table>\n",
       "</div>\n",
       "      <button class=\"colab-df-convert\" onclick=\"convertToInteractive('df-cd2fd3ff-da0c-4c92-82b9-49ea52c862f5')\"\n",
       "              title=\"Convert this dataframe to an interactive table.\"\n",
       "              style=\"display:none;\">\n",
       "        \n",
       "  <svg xmlns=\"http://www.w3.org/2000/svg\" height=\"24px\"viewBox=\"0 0 24 24\"\n",
       "       width=\"24px\">\n",
       "    <path d=\"M0 0h24v24H0V0z\" fill=\"none\"/>\n",
       "    <path d=\"M18.56 5.44l.94 2.06.94-2.06 2.06-.94-2.06-.94-.94-2.06-.94 2.06-2.06.94zm-11 1L8.5 8.5l.94-2.06 2.06-.94-2.06-.94L8.5 2.5l-.94 2.06-2.06.94zm10 10l.94 2.06.94-2.06 2.06-.94-2.06-.94-.94-2.06-.94 2.06-2.06.94z\"/><path d=\"M17.41 7.96l-1.37-1.37c-.4-.4-.92-.59-1.43-.59-.52 0-1.04.2-1.43.59L10.3 9.45l-7.72 7.72c-.78.78-.78 2.05 0 2.83L4 21.41c.39.39.9.59 1.41.59.51 0 1.02-.2 1.41-.59l7.78-7.78 2.81-2.81c.8-.78.8-2.07 0-2.86zM5.41 20L4 18.59l7.72-7.72 1.47 1.35L5.41 20z\"/>\n",
       "  </svg>\n",
       "      </button>\n",
       "      \n",
       "  <style>\n",
       "    .colab-df-container {\n",
       "      display:flex;\n",
       "      flex-wrap:wrap;\n",
       "      gap: 12px;\n",
       "    }\n",
       "\n",
       "    .colab-df-convert {\n",
       "      background-color: #E8F0FE;\n",
       "      border: none;\n",
       "      border-radius: 50%;\n",
       "      cursor: pointer;\n",
       "      display: none;\n",
       "      fill: #1967D2;\n",
       "      height: 32px;\n",
       "      padding: 0 0 0 0;\n",
       "      width: 32px;\n",
       "    }\n",
       "\n",
       "    .colab-df-convert:hover {\n",
       "      background-color: #E2EBFA;\n",
       "      box-shadow: 0px 1px 2px rgba(60, 64, 67, 0.3), 0px 1px 3px 1px rgba(60, 64, 67, 0.15);\n",
       "      fill: #174EA6;\n",
       "    }\n",
       "\n",
       "    [theme=dark] .colab-df-convert {\n",
       "      background-color: #3B4455;\n",
       "      fill: #D2E3FC;\n",
       "    }\n",
       "\n",
       "    [theme=dark] .colab-df-convert:hover {\n",
       "      background-color: #434B5C;\n",
       "      box-shadow: 0px 1px 3px 1px rgba(0, 0, 0, 0.15);\n",
       "      filter: drop-shadow(0px 1px 2px rgba(0, 0, 0, 0.3));\n",
       "      fill: #FFFFFF;\n",
       "    }\n",
       "  </style>\n",
       "\n",
       "      <script>\n",
       "        const buttonEl =\n",
       "          document.querySelector('#df-cd2fd3ff-da0c-4c92-82b9-49ea52c862f5 button.colab-df-convert');\n",
       "        buttonEl.style.display =\n",
       "          google.colab.kernel.accessAllowed ? 'block' : 'none';\n",
       "\n",
       "        async function convertToInteractive(key) {\n",
       "          const element = document.querySelector('#df-cd2fd3ff-da0c-4c92-82b9-49ea52c862f5');\n",
       "          const dataTable =\n",
       "            await google.colab.kernel.invokeFunction('convertToInteractive',\n",
       "                                                     [key], {});\n",
       "          if (!dataTable) return;\n",
       "\n",
       "          const docLinkHtml = 'Like what you see? Visit the ' +\n",
       "            '<a target=\"_blank\" href=https://colab.research.google.com/notebooks/data_table.ipynb>data table notebook</a>'\n",
       "            + ' to learn more about interactive tables.';\n",
       "          element.innerHTML = '';\n",
       "          dataTable['output_type'] = 'display_data';\n",
       "          await google.colab.output.renderOutput(dataTable, element);\n",
       "          const docLink = document.createElement('div');\n",
       "          docLink.innerHTML = docLinkHtml;\n",
       "          element.appendChild(docLink);\n",
       "        }\n",
       "      </script>\n",
       "    </div>\n",
       "  </div>\n",
       "  "
      ],
      "text/plain": [
       "                               accuracy  precision    recall        f1\n",
       "hybrid_char_token_embed       72.954455   0.733076  0.729545  0.727558\n",
       "tribrid_pos_char_token_embed  83.225209   0.831145  0.832252  0.831063"
      ]
     },
     "execution_count": 92,
     "metadata": {},
     "output_type": "execute_result"
    }
   ],
   "source": [
    "# Combine model results into a DataFrame\n",
    "model_1_results = calculate_results(val_labels_encoded, model_1_preds)\n",
    "model_2_results = calculate_results(val_labels_encoded, model_2_preds)\n",
    "\n",
    "both_model_results = pd.DataFrame({\n",
    "    'hybrid_char_token_embed': model_1_results,\n",
    "    'tribrid_pos_char_token_embed': model_2_results\n",
    "})\n",
    "\n",
    "both_model_results = both_model_results.transpose()\n",
    "both_model_results"
   ]
  },
  {
   "cell_type": "code",
   "execution_count": null,
   "metadata": {
    "colab": {
     "base_uri": "https://localhost:8080/",
     "height": 571
    },
    "id": "JHtN7qJ3cAA3",
    "outputId": "6de53e84-ad44-4209-dc6f-3d2b7dd3939d"
   },
   "outputs": [
    {
     "data": {
      "image/png": "[encoded data removed]",
      "text/plain": [
       "<Figure size 720x504 with 1 Axes>"
      ]
     },
     "metadata": {
      "needs_background": "light"
     },
     "output_type": "display_data"
    }
   ],
   "source": [
    "# Reduce the accuracy to same scale as other metrics for better visualizations\n",
    "both_model_results['accuracy'] = both_model_results['accuracy'] / 100\n",
    "\n",
    "# Plot and compare both model results\n",
    "both_model_results.plot(kind='bar', figsize=(10, 7)).legend(bbox_to_anchor=(1.0, 1.0));"
   ]
  },
  {
   "cell_type": "code",
   "execution_count": null,
   "metadata": {
    "colab": {
     "base_uri": "https://localhost:8080/",
     "height": 571
    },
    "id": "PtDMFKsCcD1j",
    "outputId": "11be27d3-8752-487e-f699-3254435e985b"
   },
   "outputs": [
    {
     "data": {
      "image/png": "[encoded data removed]",
      "text/plain": [
       "<Figure size 720x504 with 1 Axes>"
      ]
     },
     "metadata": {
      "needs_background": "light"
     },
     "output_type": "display_data"
    }
   ],
   "source": [
    "both_model_results['f1'].plot(kind='bar', figsize=(10, 7));"
   ]
  },
  {
   "cell_type": "markdown",
   "metadata": {
    "id": "L1OIx4AZdsLu"
   },
   "source": [
    "Model 2 is by far the better performing model."
   ]
  },
  {
   "cell_type": "markdown",
   "metadata": {
    "id": "CyoB8wAgBM4u"
   },
   "source": [
    "Load best-performing model and validate whether it is same as `model_2`."
   ]
  },
  {
   "cell_type": "code",
   "execution_count": null,
   "metadata": {
    "id": "7ygbEsPm_bu6"
   },
   "outputs": [],
   "source": [
    "model_path = model_2.name\n",
    "\n",
    "loaded_model = tf.keras.models.load_model(\n",
    "    model_path,\n",
    "    custom_objects={\n",
    "      'TextVectorization': TextVectorization,\n",
    "      'KerasLayer': hub.KerasLayer\n",
    "    }\n",
    ")"
   ]
  },
  {
   "cell_type": "code",
   "execution_count": null,
   "metadata": {
    "id": "1WDuxhaoA1jJ"
   },
   "outputs": [],
   "source": [
    "loaded_model_pred_probs = loaded_model.predict(val_pos_char_token_dataset, verbose=1)\n",
    "loaded_model_preds = tf.argmax(loaded_model_pred_probs, axis=1)\n",
    "loaded_model_results = calculate_results(val_labels_encoded, loaded_model_preds)"
   ]
  },
  {
   "cell_type": "code",
   "execution_count": null,
   "metadata": {
    "id": "2oezN_9FAsd9"
   },
   "outputs": [],
   "source": [
    "np.isclose(list(model_2_results.values()), list(loaded_model_results.values()), rtol=1e-02)"
   ]
  },
  {
   "cell_type": "markdown",
   "metadata": {
    "id": "tI6C4x8B8TbL"
   },
   "source": [
    "```\n",
    "array([ True,  True,  True,  True])\n",
    "```"
   ]
  },
  {
   "cell_type": "code",
   "execution_count": null,
   "metadata": {
    "colab": {
     "base_uri": "https://localhost:8080/"
    },
    "id": "FR9qpSdsAnBV",
    "outputId": "4a084dc9-6f17-46b4-be09-e4d578f5987a"
   },
   "outputs": [
    {
     "name": "stdout",
     "output_type": "stream",
     "text": [
      "Model: \"model_2_token_char_and_positional_embeddings_tribid\"\n",
      "__________________________________________________________________________________________________\n",
      " Layer (type)                   Output Shape         Param #     Connected to                     \n",
      "==================================================================================================\n",
      " char_inputs (InputLayer)       [(None, 1)]          0           []                               \n",
      "                                                                                                  \n",
      " token_inputs (InputLayer)      [(None,)]            0           []                               \n",
      "                                                                                                  \n",
      " char_vectorizer (TextVectoriza  (None, 290)         0           ['char_inputs[0][0]']            \n",
      " tion)                                                                                            \n",
      "                                                                                                  \n",
      " universal_sentence_encoder (Ke  (None, 512)         256797824   ['token_inputs[0][0]']           \n",
      " rasLayer)                                                                                        \n",
      "                                                                                                  \n",
      " char_embedder (Embedding)      (None, 290, 25)      1750        ['char_vectorizer[0][0]']        \n",
      "                                                                                                  \n",
      " dense_7 (Dense)                (None, 128)          65664       ['universal_sentence_encoder[0][0\n",
      "                                                                 ]']                              \n",
      "                                                                                                  \n",
      " bidirectional_2 (Bidirectional  (None, 64)          14848       ['char_embedder[0][0]']          \n",
      " )                                                                                                \n",
      "                                                                                                  \n",
      " token_char_hybrid_embedding (C  (None, 192)         0           ['dense_7[0][0]',                \n",
      " oncatenate)                                                      'bidirectional_2[0][0]']        \n",
      "                                                                                                  \n",
      " line_number_input (InputLayer)  [(None, 13)]        0           []                               \n",
      "                                                                                                  \n",
      " total_lines_input (InputLayer)  [(None, 18)]        0           []                               \n",
      "                                                                                                  \n",
      " dense_10 (Dense)               (None, 256)          49408       ['token_char_hybrid_embedding[0][\n",
      "                                                                 0]']                             \n",
      "                                                                                                  \n",
      " dense_8 (Dense)                (None, 32)           448         ['line_number_input[0][0]']      \n",
      "                                                                                                  \n",
      " dense_9 (Dense)                (None, 32)           608         ['total_lines_input[0][0]']      \n",
      "                                                                                                  \n",
      " dropout_3 (Dropout)            (None, 256)          0           ['dense_10[0][0]']               \n",
      "                                                                                                  \n",
      " token_char_positional_embeddin  (None, 320)         0           ['dense_8[0][0]',                \n",
      " g (Concatenate)                                                  'dense_9[0][0]',                \n",
      "                                                                  'dropout_3[0][0]']              \n",
      "                                                                                                  \n",
      " output_layer (Dense)           (None, 5)            1605        ['token_char_positional_embedding\n",
      "                                                                 [0][0]']                         \n",
      "                                                                                                  \n",
      "==================================================================================================\n",
      "Total params: 256,932,155\n",
      "Trainable params: 134,331\n",
      "Non-trainable params: 256,797,824\n",
      "__________________________________________________________________________________________________\n"
     ]
    }
   ],
   "source": [
    "loaded_model.summary()"
   ]
  },
  {
   "cell_type": "markdown",
   "metadata": {
    "id": "2jwoquxVBJFy"
   },
   "source": [
    "Loaded model is same as `model_2`"
   ]
  },
  {
   "cell_type": "markdown",
   "metadata": {
    "id": "5uq0MFPiaoUb"
   },
   "source": [
    "### Evaluate model on test dataset\n",
    "\n",
    "**Side-Note**: cannot train the model on the complete dataset as the kernel runs out of available RAM; therefore, this prototype will utilize only the 20k dataset."
   ]
  },
  {
   "cell_type": "code",
   "execution_count": null,
   "metadata": {
    "colab": {
     "base_uri": "https://localhost:8080/"
    },
    "id": "mkFb3giT2FYW",
    "outputId": "c14af4a4-99be-457b-8b72-12a082a8b7cc"
   },
   "outputs": [
    {
     "data": {
      "text/plain": [
       "<PrefetchDataset element_spec=((TensorSpec(shape=(None, 13), dtype=tf.float32, name=None), TensorSpec(shape=(None, 18), dtype=tf.float32, name=None), TensorSpec(shape=(None,), dtype=tf.string, name=None), TensorSpec(shape=(None,), dtype=tf.string, name=None)), TensorSpec(shape=(None, 5), dtype=tf.float64, name=None))>"
      ]
     },
     "execution_count": 58,
     "metadata": {},
     "output_type": "execute_result"
    }
   ],
   "source": [
    "# Create test dataset batch and prefetched\n",
    "test_pos_char_token_data = tf.data.Dataset.from_tensor_slices((\n",
    "    test_line_numbers_one_hot,\n",
    "    test_total_lines_one_hot,\n",
    "    test_sentences,\n",
    "    test_chars\n",
    "))\n",
    "\n",
    "test_pos_char_token_labels = tf.data.Dataset.from_tensor_slices(test_labels_one_hot)\n",
    "test_pos_char_token_dataset = tf.data.Dataset.zip((test_pos_char_token_data, test_pos_char_token_labels))\n",
    "test_pos_char_token_dataset = test_pos_char_token_dataset.batch(32).prefetch(tf.data.AUTOTUNE)\n",
    "\n",
    "# Check shapes\n",
    "test_pos_char_token_dataset"
   ]
  },
  {
   "cell_type": "code",
   "execution_count": null,
   "metadata": {
    "colab": {
     "base_uri": "https://localhost:8080/"
    },
    "id": "BpoQj-PexFf9",
    "outputId": "4be9eaae-fae2-4621-b3ac-cb7e201c6a74"
   },
   "outputs": [
    {
     "name": "stdout",
     "output_type": "stream",
     "text": [
      "942/942 [==============================] - 19s 18ms/step\n"
     ]
    },
    {
     "data": {
      "text/plain": [
       "<tf.Tensor: shape=(10,), dtype=int64, numpy=array([3, 3, 2, 2, 4, 4, 4, 1, 4, 0])>"
      ]
     },
     "execution_count": 60,
     "metadata": {},
     "output_type": "execute_result"
    }
   ],
   "source": [
    "# Make predictions on the test dataset\n",
    "test_pred_probs = loaded_model.predict(\n",
    "    test_pos_char_token_dataset,\n",
    "    verbose=1\n",
    ")\n",
    "\n",
    "test_preds = tf.argmax(test_pred_probs, axis=1)\n",
    "test_preds[:10]"
   ]
  },
  {
   "cell_type": "code",
   "execution_count": null,
   "metadata": {
    "colab": {
     "base_uri": "https://localhost:8080/"
    },
    "id": "avvjksEqxe_0",
    "outputId": "ad360682-2c8b-4523-c1db-6632a4b17b3d"
   },
   "outputs": [
    {
     "data": {
      "text/plain": [
       "{'accuracy': 82.88037166085947,\n",
       " 'precision': 0.8274139931400858,\n",
       " 'recall': 0.8288037166085946,\n",
       " 'f1': 0.8275939412674055}"
      ]
     },
     "execution_count": 61,
     "metadata": {},
     "output_type": "execute_result"
    }
   ],
   "source": [
    "# Evaluate model test predictions\n",
    "loaded_model_test_results = calculate_results(\n",
    "    y_true=test_labels_encoded,\n",
    "    y_pred=test_preds\n",
    ")\n",
    "loaded_model_test_results"
   ]
  },
  {
   "cell_type": "code",
   "execution_count": null,
   "metadata": {
    "colab": {
     "base_uri": "https://localhost:8080/",
     "height": 279
    },
    "id": "tMaDifmsrwiZ",
    "outputId": "e242d158-66a5-4a9c-a11c-4a86d684261a"
   },
   "outputs": [
    {
     "data": {
      "image/png": "[encoded data removed]",
      "text/plain": [
       "<Figure size 432x288 with 2 Axes>"
      ]
     },
     "metadata": {
      "needs_background": "light"
     },
     "output_type": "display_data"
    }
   ],
   "source": [
    "# Plot confusion matrix\n",
    "plot_confusion_matrix(test_labels_encoded, test_preds)"
   ]
  },
  {
   "cell_type": "code",
   "execution_count": null,
   "metadata": {
    "colab": {
     "base_uri": "https://localhost:8080/"
    },
    "id": "Se_12SCqs8Aq",
    "outputId": "dd664d5a-189e-4f82-81ff-c92224e575ef"
   },
   "outputs": [
    {
     "name": "stdout",
     "output_type": "stream",
     "text": [
      "              precision    recall  f1-score   support\n",
      "\n",
      "           0       0.74      0.74      0.74      3621\n",
      "           1       0.80      0.85      0.83      4571\n",
      "           2       0.87      0.88      0.87      9897\n",
      "           3       0.71      0.59      0.64      2333\n",
      "           4       0.86      0.86      0.86      9713\n",
      "\n",
      "    accuracy                           0.83     30135\n",
      "   macro avg       0.79      0.78      0.79     30135\n",
      "weighted avg       0.83      0.83      0.83     30135\n",
      "\n"
     ]
    }
   ],
   "source": [
    "# classification report\n",
    "print(classification_report(test_labels_encoded, test_preds))"
   ]
  },
  {
   "cell_type": "code",
   "execution_count": null,
   "metadata": {
    "colab": {
     "base_uri": "https://localhost:8080/"
    },
    "id": "UDziGs3DtH5c",
    "outputId": "2c4aaa15-b4cb-435e-89b2-eafb347fe8fe"
   },
   "outputs": [
    {
     "data": {
      "text/plain": [
       "{'accuracy': 82.88037166085947,\n",
       " 'precision': 0.8274139931400858,\n",
       " 'recall': 0.8288037166085946,\n",
       " 'f1': 0.8275939412674055}"
      ]
     },
     "execution_count": 119,
     "metadata": {},
     "output_type": "execute_result"
    }
   ],
   "source": [
    "calculate_results(test_labels_encoded, test_preds)"
   ]
  },
  {
   "cell_type": "markdown",
   "metadata": {
    "id": "qv4LKZ6b1i7x"
   },
   "source": [
    "## Part E - Evaluate Results\n",
    "***"
   ]
  },
  {
   "cell_type": "markdown",
   "metadata": {
    "id": "B8orhq8dPAuW"
   },
   "source": [
    "### Find most wrong\n",
    "\n",
    "One of the best ways to investigate where the model, or potentially the data, is wrong is to visualize the 'most wrong' predictions.\n",
    "\n",
    "The most wrong predictions are samples where the model has made a prediction with a high probability but has gotten it wrong (the model's prediction and the ground truth label are contradicting)."
   ]
  },
  {
   "cell_type": "code",
   "execution_count": null,
   "metadata": {
    "colab": {
     "base_uri": "https://localhost:8080/"
    },
    "id": "7yI34yymyycT",
    "outputId": "6271534e-4c29-43f4-bbcd-eb7f787615e3"
   },
   "outputs": [
    {
     "name": "stdout",
     "output_type": "stream",
     "text": [
      "CPU times: user 11.9 s, sys: 1.04 s, total: 13 s\n",
      "Wall time: 11.2 s\n"
     ]
    },
    {
     "data": {
      "text/plain": [
       "['OBJECTIVE',\n",
       " 'OBJECTIVE',\n",
       " 'METHODS',\n",
       " 'METHODS',\n",
       " 'RESULTS',\n",
       " 'RESULTS',\n",
       " 'RESULTS',\n",
       " 'CONCLUSIONS',\n",
       " 'RESULTS',\n",
       " 'BACKGROUND',\n",
       " 'OBJECTIVE',\n",
       " 'METHODS',\n",
       " 'METHODS',\n",
       " 'METHODS',\n",
       " 'RESULTS',\n",
       " 'RESULTS',\n",
       " 'RESULTS',\n",
       " 'RESULTS',\n",
       " 'RESULTS',\n",
       " 'RESULTS',\n",
       " 'CONCLUSIONS',\n",
       " 'CONCLUSIONS',\n",
       " 'OBJECTIVE',\n",
       " 'OBJECTIVE',\n",
       " 'METHODS',\n",
       " 'METHODS',\n",
       " 'RESULTS',\n",
       " 'RESULTS',\n",
       " 'RESULTS',\n",
       " 'CONCLUSIONS',\n",
       " 'CONCLUSIONS',\n",
       " 'BACKGROUND',\n",
       " 'METHODS',\n",
       " 'BACKGROUND',\n",
       " 'METHODS',\n",
       " 'METHODS',\n",
       " 'METHODS',\n",
       " 'METHODS',\n",
       " 'RESULTS',\n",
       " 'RESULTS',\n",
       " 'RESULTS',\n",
       " 'RESULTS',\n",
       " 'CONCLUSIONS',\n",
       " 'CONCLUSIONS',\n",
       " 'BACKGROUND',\n",
       " 'BACKGROUND',\n",
       " 'BACKGROUND',\n",
       " 'METHODS',\n",
       " 'METHODS',\n",
       " 'METHODS',\n",
       " 'METHODS',\n",
       " 'METHODS',\n",
       " 'METHODS',\n",
       " 'METHODS',\n",
       " 'RESULTS',\n",
       " 'RESULTS',\n",
       " 'CONCLUSIONS',\n",
       " 'CONCLUSIONS',\n",
       " 'OBJECTIVE',\n",
       " 'METHODS',\n",
       " 'METHODS',\n",
       " 'METHODS',\n",
       " 'METHODS',\n",
       " 'METHODS',\n",
       " 'RESULTS',\n",
       " 'RESULTS',\n",
       " 'RESULTS',\n",
       " 'RESULTS',\n",
       " 'RESULTS',\n",
       " 'OBJECTIVE',\n",
       " 'METHODS',\n",
       " 'METHODS',\n",
       " 'METHODS',\n",
       " 'RESULTS',\n",
       " 'METHODS',\n",
       " 'RESULTS',\n",
       " 'RESULTS',\n",
       " 'RESULTS',\n",
       " 'RESULTS',\n",
       " 'CONCLUSIONS',\n",
       " 'CONCLUSIONS',\n",
       " 'BACKGROUND',\n",
       " 'BACKGROUND',\n",
       " 'METHODS',\n",
       " 'METHODS',\n",
       " 'METHODS',\n",
       " 'METHODS',\n",
       " 'METHODS',\n",
       " 'METHODS',\n",
       " 'METHODS',\n",
       " 'RESULTS',\n",
       " 'RESULTS',\n",
       " 'RESULTS',\n",
       " 'CONCLUSIONS',\n",
       " 'OBJECTIVE',\n",
       " 'OBJECTIVE',\n",
       " 'METHODS',\n",
       " 'RESULTS',\n",
       " 'RESULTS',\n",
       " 'RESULTS',\n",
       " 'CONCLUSIONS',\n",
       " 'OBJECTIVE',\n",
       " 'METHODS',\n",
       " 'METHODS',\n",
       " 'METHODS',\n",
       " 'METHODS',\n",
       " 'METHODS',\n",
       " 'METHODS',\n",
       " 'METHODS',\n",
       " 'RESULTS',\n",
       " 'RESULTS',\n",
       " 'RESULTS',\n",
       " 'CONCLUSIONS',\n",
       " 'BACKGROUND',\n",
       " 'BACKGROUND',\n",
       " 'METHODS',\n",
       " 'METHODS',\n",
       " 'METHODS',\n",
       " 'METHODS',\n",
       " 'METHODS',\n",
       " 'METHODS',\n",
       " 'BACKGROUND',\n",
       " 'RESULTS',\n",
       " 'RESULTS',\n",
       " 'RESULTS',\n",
       " 'RESULTS',\n",
       " 'RESULTS',\n",
       " 'CONCLUSIONS',\n",
       " 'BACKGROUND',\n",
       " 'OBJECTIVE',\n",
       " 'METHODS',\n",
       " 'METHODS',\n",
       " 'RESULTS',\n",
       " 'METHODS',\n",
       " 'RESULTS',\n",
       " 'RESULTS',\n",
       " 'RESULTS',\n",
       " 'RESULTS',\n",
       " 'OBJECTIVE',\n",
       " 'METHODS',\n",
       " 'METHODS',\n",
       " 'METHODS',\n",
       " 'RESULTS',\n",
       " 'RESULTS',\n",
       " 'RESULTS',\n",
       " 'RESULTS',\n",
       " 'RESULTS',\n",
       " 'RESULTS',\n",
       " 'CONCLUSIONS',\n",
       " 'CONCLUSIONS',\n",
       " 'BACKGROUND',\n",
       " 'BACKGROUND',\n",
       " 'METHODS',\n",
       " 'BACKGROUND',\n",
       " 'METHODS',\n",
       " 'METHODS',\n",
       " 'METHODS',\n",
       " 'METHODS',\n",
       " 'METHODS',\n",
       " 'METHODS',\n",
       " 'CONCLUSIONS',\n",
       " 'CONCLUSIONS',\n",
       " 'CONCLUSIONS',\n",
       " 'BACKGROUND',\n",
       " 'BACKGROUND',\n",
       " 'BACKGROUND',\n",
       " 'OBJECTIVE',\n",
       " 'OBJECTIVE',\n",
       " 'METHODS',\n",
       " 'METHODS',\n",
       " 'RESULTS',\n",
       " 'RESULTS',\n",
       " 'RESULTS',\n",
       " 'RESULTS',\n",
       " 'RESULTS',\n",
       " 'CONCLUSIONS',\n",
       " 'OBJECTIVE',\n",
       " 'OBJECTIVE',\n",
       " 'METHODS',\n",
       " 'METHODS',\n",
       " 'METHODS',\n",
       " 'RESULTS',\n",
       " 'RESULTS',\n",
       " 'RESULTS',\n",
       " 'RESULTS',\n",
       " 'RESULTS',\n",
       " 'RESULTS',\n",
       " 'RESULTS',\n",
       " 'CONCLUSIONS',\n",
       " 'BACKGROUND',\n",
       " 'BACKGROUND',\n",
       " 'METHODS',\n",
       " 'METHODS',\n",
       " 'METHODS',\n",
       " 'METHODS',\n",
       " 'BACKGROUND',\n",
       " 'RESULTS',\n",
       " 'RESULTS',\n",
       " 'BACKGROUND',\n",
       " 'RESULTS',\n",
       " 'RESULTS',\n",
       " 'CONCLUSIONS',\n",
       " 'CONCLUSIONS',\n",
       " 'CONCLUSIONS',\n",
       " 'OBJECTIVE',\n",
       " 'METHODS',\n",
       " 'METHODS',\n",
       " 'METHODS',\n",
       " 'METHODS',\n",
       " 'RESULTS',\n",
       " 'RESULTS',\n",
       " 'RESULTS',\n",
       " 'RESULTS',\n",
       " 'CONCLUSIONS',\n",
       " 'BACKGROUND',\n",
       " 'METHODS',\n",
       " 'METHODS',\n",
       " 'METHODS',\n",
       " 'METHODS',\n",
       " 'METHODS',\n",
       " 'RESULTS',\n",
       " 'RESULTS',\n",
       " 'RESULTS',\n",
       " 'RESULTS',\n",
       " 'CONCLUSIONS',\n",
       " 'RESULTS',\n",
       " 'RESULTS',\n",
       " 'BACKGROUND',\n",
       " 'OBJECTIVE',\n",
       " 'BACKGROUND',\n",
       " 'METHODS',\n",
       " 'METHODS',\n",
       " 'RESULTS',\n",
       " 'METHODS',\n",
       " 'METHODS',\n",
       " 'RESULTS',\n",
       " 'RESULTS',\n",
       " 'CONCLUSIONS',\n",
       " 'OBJECTIVE',\n",
       " 'OBJECTIVE',\n",
       " 'OBJECTIVE',\n",
       " 'METHODS',\n",
       " 'METHODS',\n",
       " 'METHODS',\n",
       " 'RESULTS',\n",
       " 'RESULTS',\n",
       " 'RESULTS',\n",
       " 'CONCLUSIONS',\n",
       " 'CONCLUSIONS',\n",
       " 'BACKGROUND',\n",
       " 'METHODS',\n",
       " 'METHODS',\n",
       " 'METHODS',\n",
       " 'RESULTS',\n",
       " 'RESULTS',\n",
       " 'RESULTS',\n",
       " 'RESULTS',\n",
       " 'RESULTS',\n",
       " 'CONCLUSIONS',\n",
       " 'CONCLUSIONS',\n",
       " 'BACKGROUND',\n",
       " 'OBJECTIVE',\n",
       " 'METHODS',\n",
       " 'METHODS',\n",
       " 'METHODS',\n",
       " 'METHODS',\n",
       " 'METHODS',\n",
       " 'METHODS',\n",
       " 'RESULTS',\n",
       " 'METHODS',\n",
       " 'METHODS',\n",
       " 'RESULTS',\n",
       " 'RESULTS',\n",
       " 'CONCLUSIONS',\n",
       " 'RESULTS',\n",
       " 'CONCLUSIONS',\n",
       " 'METHODS',\n",
       " 'CONCLUSIONS',\n",
       " 'BACKGROUND',\n",
       " 'OBJECTIVE',\n",
       " 'METHODS',\n",
       " 'METHODS',\n",
       " 'METHODS',\n",
       " 'METHODS',\n",
       " 'METHODS',\n",
       " 'RESULTS',\n",
       " 'METHODS',\n",
       " 'CONCLUSIONS',\n",
       " 'BACKGROUND',\n",
       " 'BACKGROUND',\n",
       " 'METHODS',\n",
       " 'METHODS',\n",
       " 'METHODS',\n",
       " 'METHODS',\n",
       " 'RESULTS',\n",
       " 'RESULTS',\n",
       " 'RESULTS',\n",
       " 'RESULTS',\n",
       " 'CONCLUSIONS',\n",
       " 'CONCLUSIONS',\n",
       " 'BACKGROUND',\n",
       " 'BACKGROUND',\n",
       " 'METHODS',\n",
       " 'METHODS',\n",
       " 'METHODS',\n",
       " 'RESULTS',\n",
       " 'RESULTS',\n",
       " 'RESULTS',\n",
       " 'CONCLUSIONS',\n",
       " 'CONCLUSIONS',\n",
       " 'CONCLUSIONS',\n",
       " 'OBJECTIVE',\n",
       " 'METHODS',\n",
       " 'METHODS',\n",
       " 'METHODS',\n",
       " 'RESULTS',\n",
       " 'RESULTS',\n",
       " 'RESULTS',\n",
       " 'RESULTS',\n",
       " 'RESULTS',\n",
       " 'RESULTS',\n",
       " 'BACKGROUND',\n",
       " 'METHODS',\n",
       " 'METHODS',\n",
       " 'RESULTS',\n",
       " 'RESULTS',\n",
       " 'RESULTS',\n",
       " 'RESULTS',\n",
       " 'CONCLUSIONS',\n",
       " 'BACKGROUND',\n",
       " 'BACKGROUND',\n",
       " 'METHODS',\n",
       " 'METHODS',\n",
       " 'RESULTS',\n",
       " 'RESULTS',\n",
       " 'RESULTS',\n",
       " 'RESULTS',\n",
       " 'RESULTS',\n",
       " 'RESULTS',\n",
       " 'CONCLUSIONS',\n",
       " 'CONCLUSIONS',\n",
       " 'OBJECTIVE',\n",
       " 'METHODS',\n",
       " 'METHODS',\n",
       " 'METHODS',\n",
       " 'METHODS',\n",
       " 'RESULTS',\n",
       " 'RESULTS',\n",
       " 'RESULTS',\n",
       " 'RESULTS',\n",
       " 'RESULTS',\n",
       " 'CONCLUSIONS',\n",
       " 'CONCLUSIONS',\n",
       " 'BACKGROUND',\n",
       " 'BACKGROUND',\n",
       " 'BACKGROUND',\n",
       " 'METHODS',\n",
       " 'METHODS',\n",
       " 'METHODS',\n",
       " 'METHODS',\n",
       " 'RESULTS',\n",
       " 'RESULTS',\n",
       " 'RESULTS',\n",
       " 'RESULTS',\n",
       " 'RESULTS',\n",
       " 'RESULTS',\n",
       " 'RESULTS',\n",
       " 'RESULTS',\n",
       " 'CONCLUSIONS',\n",
       " 'CONCLUSIONS',\n",
       " 'CONCLUSIONS',\n",
       " 'BACKGROUND',\n",
       " 'BACKGROUND',\n",
       " 'BACKGROUND',\n",
       " 'METHODS',\n",
       " 'METHODS',\n",
       " 'RESULTS',\n",
       " 'METHODS',\n",
       " 'RESULTS',\n",
       " 'RESULTS',\n",
       " 'RESULTS',\n",
       " 'RESULTS',\n",
       " 'RESULTS',\n",
       " 'RESULTS',\n",
       " 'CONCLUSIONS',\n",
       " 'CONCLUSIONS',\n",
       " 'BACKGROUND',\n",
       " 'OBJECTIVE',\n",
       " 'RESULTS',\n",
       " 'RESULTS',\n",
       " 'METHODS',\n",
       " 'RESULTS',\n",
       " 'RESULTS',\n",
       " 'RESULTS',\n",
       " 'RESULTS',\n",
       " 'RESULTS',\n",
       " 'CONCLUSIONS',\n",
       " 'CONCLUSIONS',\n",
       " 'BACKGROUND',\n",
       " 'OBJECTIVE',\n",
       " 'METHODS',\n",
       " 'METHODS',\n",
       " 'METHODS',\n",
       " 'METHODS',\n",
       " 'RESULTS',\n",
       " 'RESULTS',\n",
       " 'RESULTS',\n",
       " 'CONCLUSIONS',\n",
       " 'OBJECTIVE',\n",
       " 'METHODS',\n",
       " 'METHODS',\n",
       " 'METHODS',\n",
       " 'RESULTS',\n",
       " 'RESULTS',\n",
       " 'RESULTS',\n",
       " 'RESULTS',\n",
       " 'RESULTS',\n",
       " 'CONCLUSIONS',\n",
       " 'CONCLUSIONS',\n",
       " 'OBJECTIVE',\n",
       " 'METHODS',\n",
       " 'METHODS',\n",
       " 'METHODS',\n",
       " 'RESULTS',\n",
       " 'RESULTS',\n",
       " 'RESULTS',\n",
       " 'RESULTS',\n",
       " 'RESULTS',\n",
       " 'RESULTS',\n",
       " 'RESULTS',\n",
       " 'CONCLUSIONS',\n",
       " 'BACKGROUND',\n",
       " 'OBJECTIVE',\n",
       " 'RESULTS',\n",
       " 'RESULTS',\n",
       " 'RESULTS',\n",
       " 'RESULTS',\n",
       " 'METHODS',\n",
       " 'METHODS',\n",
       " 'RESULTS',\n",
       " 'BACKGROUND',\n",
       " 'BACKGROUND',\n",
       " 'METHODS',\n",
       " 'METHODS',\n",
       " 'RESULTS',\n",
       " 'RESULTS',\n",
       " 'RESULTS',\n",
       " 'RESULTS',\n",
       " 'CONCLUSIONS',\n",
       " 'CONCLUSIONS',\n",
       " 'CONCLUSIONS',\n",
       " 'BACKGROUND',\n",
       " 'BACKGROUND',\n",
       " 'BACKGROUND',\n",
       " 'OBJECTIVE',\n",
       " 'METHODS',\n",
       " 'METHODS',\n",
       " 'METHODS',\n",
       " 'RESULTS',\n",
       " 'CONCLUSIONS',\n",
       " 'METHODS',\n",
       " 'CONCLUSIONS',\n",
       " 'BACKGROUND',\n",
       " 'BACKGROUND',\n",
       " 'BACKGROUND',\n",
       " 'BACKGROUND',\n",
       " 'METHODS',\n",
       " 'METHODS',\n",
       " 'METHODS',\n",
       " 'RESULTS',\n",
       " 'RESULTS',\n",
       " 'RESULTS',\n",
       " 'RESULTS',\n",
       " 'CONCLUSIONS',\n",
       " 'CONCLUSIONS',\n",
       " 'CONCLUSIONS',\n",
       " 'CONCLUSIONS',\n",
       " 'BACKGROUND',\n",
       " 'BACKGROUND',\n",
       " 'BACKGROUND',\n",
       " 'METHODS',\n",
       " 'METHODS',\n",
       " 'METHODS',\n",
       " 'METHODS',\n",
       " 'RESULTS',\n",
       " 'RESULTS',\n",
       " 'RESULTS',\n",
       " 'RESULTS',\n",
       " 'CONCLUSIONS',\n",
       " 'CONCLUSIONS',\n",
       " 'CONCLUSIONS',\n",
       " 'BACKGROUND',\n",
       " 'BACKGROUND',\n",
       " 'BACKGROUND',\n",
       " 'OBJECTIVE',\n",
       " 'METHODS',\n",
       " 'METHODS',\n",
       " 'RESULTS',\n",
       " 'RESULTS',\n",
       " 'RESULTS',\n",
       " 'CONCLUSIONS',\n",
       " 'CONCLUSIONS',\n",
       " 'BACKGROUND',\n",
       " 'OBJECTIVE',\n",
       " 'METHODS',\n",
       " 'METHODS',\n",
       " 'RESULTS',\n",
       " 'RESULTS',\n",
       " 'RESULTS',\n",
       " 'RESULTS',\n",
       " 'RESULTS',\n",
       " 'CONCLUSIONS',\n",
       " 'CONCLUSIONS',\n",
       " 'BACKGROUND',\n",
       " 'BACKGROUND',\n",
       " 'METHODS',\n",
       " 'METHODS',\n",
       " 'METHODS',\n",
       " 'RESULTS',\n",
       " 'RESULTS',\n",
       " 'RESULTS',\n",
       " 'RESULTS',\n",
       " 'RESULTS',\n",
       " 'CONCLUSIONS',\n",
       " 'CONCLUSIONS',\n",
       " 'OBJECTIVE',\n",
       " 'OBJECTIVE',\n",
       " 'METHODS',\n",
       " 'METHODS',\n",
       " 'METHODS',\n",
       " 'RESULTS',\n",
       " 'CONCLUSIONS',\n",
       " 'CONCLUSIONS',\n",
       " 'CONCLUSIONS',\n",
       " 'OBJECTIVE',\n",
       " 'METHODS',\n",
       " 'METHODS',\n",
       " 'RESULTS',\n",
       " 'RESULTS',\n",
       " 'RESULTS',\n",
       " 'RESULTS',\n",
       " 'RESULTS',\n",
       " 'CONCLUSIONS',\n",
       " 'BACKGROUND',\n",
       " 'BACKGROUND',\n",
       " 'METHODS',\n",
       " 'METHODS',\n",
       " 'METHODS',\n",
       " 'RESULTS',\n",
       " 'RESULTS',\n",
       " 'RESULTS',\n",
       " 'RESULTS',\n",
       " 'RESULTS',\n",
       " 'RESULTS',\n",
       " 'CONCLUSIONS',\n",
       " 'BACKGROUND',\n",
       " 'BACKGROUND',\n",
       " 'BACKGROUND',\n",
       " 'BACKGROUND',\n",
       " 'OBJECTIVE',\n",
       " 'METHODS',\n",
       " 'METHODS',\n",
       " 'METHODS',\n",
       " 'METHODS',\n",
       " 'METHODS',\n",
       " 'RESULTS',\n",
       " 'RESULTS',\n",
       " 'RESULTS',\n",
       " 'CONCLUSIONS',\n",
       " 'CONCLUSIONS',\n",
       " 'OBJECTIVE',\n",
       " 'OBJECTIVE',\n",
       " 'METHODS',\n",
       " 'METHODS',\n",
       " 'RESULTS',\n",
       " 'RESULTS',\n",
       " 'RESULTS',\n",
       " 'CONCLUSIONS',\n",
       " 'CONCLUSIONS',\n",
       " 'BACKGROUND',\n",
       " 'BACKGROUND',\n",
       " 'BACKGROUND',\n",
       " 'METHODS',\n",
       " 'METHODS',\n",
       " 'METHODS',\n",
       " 'METHODS',\n",
       " 'METHODS',\n",
       " 'METHODS',\n",
       " 'RESULTS',\n",
       " 'RESULTS',\n",
       " 'RESULTS',\n",
       " 'CONCLUSIONS',\n",
       " 'METHODS',\n",
       " 'METHODS',\n",
       " 'RESULTS',\n",
       " 'RESULTS',\n",
       " 'CONCLUSIONS',\n",
       " 'RESULTS',\n",
       " 'BACKGROUND',\n",
       " 'OBJECTIVE',\n",
       " 'METHODS',\n",
       " 'METHODS',\n",
       " 'METHODS',\n",
       " 'RESULTS',\n",
       " 'METHODS',\n",
       " 'RESULTS',\n",
       " 'RESULTS',\n",
       " 'RESULTS',\n",
       " 'RESULTS',\n",
       " 'CONCLUSIONS',\n",
       " 'CONCLUSIONS',\n",
       " 'CONCLUSIONS',\n",
       " 'CONCLUSIONS',\n",
       " 'BACKGROUND',\n",
       " 'BACKGROUND',\n",
       " 'METHODS',\n",
       " 'METHODS',\n",
       " 'RESULTS',\n",
       " 'METHODS',\n",
       " 'METHODS',\n",
       " 'METHODS',\n",
       " 'RESULTS',\n",
       " 'RESULTS',\n",
       " 'CONCLUSIONS',\n",
       " 'CONCLUSIONS',\n",
       " 'CONCLUSIONS',\n",
       " 'BACKGROUND',\n",
       " 'BACKGROUND',\n",
       " 'BACKGROUND',\n",
       " 'METHODS',\n",
       " 'METHODS',\n",
       " 'METHODS',\n",
       " 'RESULTS',\n",
       " 'RESULTS',\n",
       " 'RESULTS',\n",
       " 'RESULTS',\n",
       " 'RESULTS',\n",
       " 'CONCLUSIONS',\n",
       " 'CONCLUSIONS',\n",
       " 'BACKGROUND',\n",
       " 'OBJECTIVE',\n",
       " 'METHODS',\n",
       " 'METHODS',\n",
       " 'RESULTS',\n",
       " 'RESULTS',\n",
       " 'RESULTS',\n",
       " 'CONCLUSIONS',\n",
       " 'CONCLUSIONS',\n",
       " 'OBJECTIVE',\n",
       " 'METHODS',\n",
       " 'METHODS',\n",
       " 'CONCLUSIONS',\n",
       " 'METHODS',\n",
       " 'RESULTS',\n",
       " 'RESULTS',\n",
       " 'OBJECTIVE',\n",
       " 'BACKGROUND',\n",
       " 'BACKGROUND',\n",
       " 'METHODS',\n",
       " 'METHODS',\n",
       " 'METHODS',\n",
       " 'METHODS',\n",
       " 'RESULTS',\n",
       " 'RESULTS',\n",
       " 'METHODS',\n",
       " 'RESULTS',\n",
       " 'RESULTS',\n",
       " 'CONCLUSIONS',\n",
       " 'CONCLUSIONS',\n",
       " 'CONCLUSIONS',\n",
       " 'CONCLUSIONS',\n",
       " 'OBJECTIVE',\n",
       " 'METHODS',\n",
       " 'METHODS',\n",
       " 'RESULTS',\n",
       " 'RESULTS',\n",
       " 'METHODS',\n",
       " 'RESULTS',\n",
       " 'CONCLUSIONS',\n",
       " 'BACKGROUND',\n",
       " 'BACKGROUND',\n",
       " 'METHODS',\n",
       " 'METHODS',\n",
       " 'METHODS',\n",
       " 'METHODS',\n",
       " 'RESULTS',\n",
       " 'RESULTS',\n",
       " 'RESULTS',\n",
       " 'RESULTS',\n",
       " 'RESULTS',\n",
       " 'RESULTS',\n",
       " 'CONCLUSIONS',\n",
       " 'CONCLUSIONS',\n",
       " 'BACKGROUND',\n",
       " 'BACKGROUND',\n",
       " 'BACKGROUND',\n",
       " 'METHODS',\n",
       " 'METHODS',\n",
       " 'METHODS',\n",
       " 'RESULTS',\n",
       " 'RESULTS',\n",
       " 'METHODS',\n",
       " 'RESULTS',\n",
       " 'RESULTS',\n",
       " 'CONCLUSIONS',\n",
       " 'CONCLUSIONS',\n",
       " 'CONCLUSIONS',\n",
       " 'CONCLUSIONS',\n",
       " 'OBJECTIVE',\n",
       " 'METHODS',\n",
       " 'METHODS',\n",
       " 'METHODS',\n",
       " 'METHODS',\n",
       " 'METHODS',\n",
       " 'METHODS',\n",
       " 'RESULTS',\n",
       " 'RESULTS',\n",
       " 'RESULTS',\n",
       " 'RESULTS',\n",
       " 'RESULTS',\n",
       " 'RESULTS',\n",
       " 'CONCLUSIONS',\n",
       " 'CONCLUSIONS',\n",
       " 'BACKGROUND',\n",
       " 'METHODS',\n",
       " 'BACKGROUND',\n",
       " 'BACKGROUND',\n",
       " 'METHODS',\n",
       " 'RESULTS',\n",
       " 'METHODS',\n",
       " 'RESULTS',\n",
       " 'RESULTS',\n",
       " 'RESULTS',\n",
       " 'CONCLUSIONS',\n",
       " 'RESULTS',\n",
       " 'BACKGROUND',\n",
       " 'BACKGROUND',\n",
       " 'METHODS',\n",
       " 'METHODS',\n",
       " 'METHODS',\n",
       " 'RESULTS',\n",
       " 'RESULTS',\n",
       " 'RESULTS',\n",
       " 'RESULTS',\n",
       " 'RESULTS',\n",
       " 'RESULTS',\n",
       " 'CONCLUSIONS',\n",
       " 'CONCLUSIONS',\n",
       " 'BACKGROUND',\n",
       " 'BACKGROUND',\n",
       " 'BACKGROUND',\n",
       " 'OBJECTIVE',\n",
       " 'METHODS',\n",
       " 'METHODS',\n",
       " 'METHODS',\n",
       " 'METHODS',\n",
       " 'METHODS',\n",
       " 'METHODS',\n",
       " 'RESULTS',\n",
       " 'RESULTS',\n",
       " 'RESULTS',\n",
       " 'RESULTS',\n",
       " 'RESULTS',\n",
       " 'RESULTS',\n",
       " 'RESULTS',\n",
       " 'CONCLUSIONS',\n",
       " 'RESULTS',\n",
       " 'CONCLUSIONS',\n",
       " 'CONCLUSIONS',\n",
       " 'METHODS',\n",
       " 'OBJECTIVE',\n",
       " 'METHODS',\n",
       " 'METHODS',\n",
       " 'METHODS',\n",
       " 'METHODS',\n",
       " 'RESULTS',\n",
       " 'RESULTS',\n",
       " 'RESULTS',\n",
       " 'CONCLUSIONS',\n",
       " 'CONCLUSIONS',\n",
       " 'CONCLUSIONS',\n",
       " 'BACKGROUND',\n",
       " 'BACKGROUND',\n",
       " 'METHODS',\n",
       " 'METHODS',\n",
       " 'METHODS',\n",
       " 'METHODS',\n",
       " 'METHODS',\n",
       " 'METHODS',\n",
       " 'RESULTS',\n",
       " 'RESULTS',\n",
       " 'CONCLUSIONS',\n",
       " 'CONCLUSIONS',\n",
       " 'CONCLUSIONS',\n",
       " 'BACKGROUND',\n",
       " 'BACKGROUND',\n",
       " 'BACKGROUND',\n",
       " 'BACKGROUND',\n",
       " 'BACKGROUND',\n",
       " 'OBJECTIVE',\n",
       " 'METHODS',\n",
       " 'METHODS',\n",
       " 'RESULTS',\n",
       " 'RESULTS',\n",
       " 'RESULTS',\n",
       " 'CONCLUSIONS',\n",
       " 'CONCLUSIONS',\n",
       " 'BACKGROUND',\n",
       " 'BACKGROUND',\n",
       " 'BACKGROUND',\n",
       " 'BACKGROUND',\n",
       " 'METHODS',\n",
       " 'METHODS',\n",
       " 'RESULTS',\n",
       " 'METHODS',\n",
       " 'RESULTS',\n",
       " 'RESULTS',\n",
       " 'RESULTS',\n",
       " 'RESULTS',\n",
       " 'RESULTS',\n",
       " 'RESULTS',\n",
       " 'METHODS',\n",
       " 'BACKGROUND',\n",
       " 'BACKGROUND',\n",
       " 'BACKGROUND',\n",
       " 'METHODS',\n",
       " 'METHODS',\n",
       " 'METHODS',\n",
       " 'RESULTS',\n",
       " 'METHODS',\n",
       " 'RESULTS',\n",
       " 'RESULTS',\n",
       " 'CONCLUSIONS',\n",
       " 'RESULTS',\n",
       " 'CONCLUSIONS',\n",
       " 'OBJECTIVE',\n",
       " 'RESULTS',\n",
       " 'METHODS',\n",
       " 'RESULTS',\n",
       " 'RESULTS',\n",
       " 'RESULTS',\n",
       " 'RESULTS',\n",
       " 'RESULTS',\n",
       " 'CONCLUSIONS',\n",
       " 'RESULTS',\n",
       " 'CONCLUSIONS',\n",
       " 'CONCLUSIONS',\n",
       " 'BACKGROUND',\n",
       " 'OBJECTIVE',\n",
       " 'METHODS',\n",
       " 'METHODS',\n",
       " 'RESULTS',\n",
       " 'RESULTS',\n",
       " 'METHODS',\n",
       " 'RESULTS',\n",
       " 'RESULTS',\n",
       " 'CONCLUSIONS',\n",
       " 'CONCLUSIONS',\n",
       " 'CONCLUSIONS',\n",
       " 'BACKGROUND',\n",
       " 'BACKGROUND',\n",
       " 'METHODS',\n",
       " 'METHODS',\n",
       " 'METHODS',\n",
       " 'METHODS',\n",
       " 'METHODS',\n",
       " 'RESULTS',\n",
       " 'RESULTS',\n",
       " 'RESULTS',\n",
       " 'CONCLUSIONS',\n",
       " 'CONCLUSIONS',\n",
       " 'OBJECTIVE',\n",
       " 'METHODS',\n",
       " 'METHODS',\n",
       " 'METHODS',\n",
       " 'METHODS',\n",
       " 'RESULTS',\n",
       " 'RESULTS',\n",
       " 'RESULTS',\n",
       " 'CONCLUSIONS',\n",
       " 'RESULTS',\n",
       " 'BACKGROUND',\n",
       " 'BACKGROUND',\n",
       " 'METHODS',\n",
       " 'METHODS',\n",
       " 'METHODS',\n",
       " 'METHODS',\n",
       " 'METHODS',\n",
       " 'RESULTS',\n",
       " 'RESULTS',\n",
       " 'RESULTS',\n",
       " 'RESULTS',\n",
       " 'RESULTS',\n",
       " 'CONCLUSIONS',\n",
       " 'BACKGROUND',\n",
       " 'METHODS',\n",
       " 'RESULTS',\n",
       " 'RESULTS',\n",
       " 'RESULTS',\n",
       " 'RESULTS',\n",
       " 'RESULTS',\n",
       " 'CONCLUSIONS',\n",
       " 'CONCLUSIONS',\n",
       " 'BACKGROUND',\n",
       " 'BACKGROUND',\n",
       " 'BACKGROUND',\n",
       " 'BACKGROUND',\n",
       " 'METHODS',\n",
       " 'RESULTS',\n",
       " 'METHODS',\n",
       " 'METHODS',\n",
       " 'METHODS',\n",
       " 'RESULTS',\n",
       " 'METHODS',\n",
       " 'RESULTS',\n",
       " 'RESULTS',\n",
       " 'CONCLUSIONS',\n",
       " 'CONCLUSIONS',\n",
       " 'BACKGROUND',\n",
       " 'BACKGROUND',\n",
       " 'METHODS',\n",
       " 'METHODS',\n",
       " 'METHODS',\n",
       " 'RESULTS',\n",
       " 'METHODS',\n",
       " 'METHODS',\n",
       " 'RESULTS',\n",
       " 'RESULTS',\n",
       " 'RESULTS',\n",
       " 'CONCLUSIONS',\n",
       " 'CONCLUSIONS',\n",
       " 'CONCLUSIONS',\n",
       " 'CONCLUSIONS',\n",
       " 'OBJECTIVE',\n",
       " 'METHODS',\n",
       " 'METHODS',\n",
       " 'RESULTS',\n",
       " 'METHODS',\n",
       " 'METHODS',\n",
       " 'RESULTS',\n",
       " 'RESULTS',\n",
       " 'RESULTS',\n",
       " 'RESULTS',\n",
       " 'RESULTS',\n",
       " 'RESULTS',\n",
       " 'CONCLUSIONS',\n",
       " 'RESULTS',\n",
       " 'METHODS',\n",
       " 'OBJECTIVE',\n",
       " 'METHODS',\n",
       " 'RESULTS',\n",
       " 'METHODS',\n",
       " 'RESULTS',\n",
       " 'RESULTS',\n",
       " 'RESULTS',\n",
       " 'RESULTS',\n",
       " 'RESULTS',\n",
       " 'CONCLUSIONS',\n",
       " 'CONCLUSIONS',\n",
       " 'BACKGROUND',\n",
       " 'BACKGROUND',\n",
       " 'BACKGROUND',\n",
       " 'OBJECTIVE',\n",
       " 'METHODS',\n",
       " 'METHODS',\n",
       " 'METHODS',\n",
       " 'METHODS',\n",
       " 'RESULTS',\n",
       " 'RESULTS',\n",
       " 'RESULTS',\n",
       " 'RESULTS',\n",
       " 'RESULTS',\n",
       " 'RESULTS',\n",
       " 'RESULTS',\n",
       " 'CONCLUSIONS',\n",
       " 'RESULTS',\n",
       " 'CONCLUSIONS',\n",
       " 'CONCLUSIONS',\n",
       " 'BACKGROUND',\n",
       " 'OBJECTIVE',\n",
       " 'METHODS',\n",
       " 'METHODS',\n",
       " 'METHODS',\n",
       " 'RESULTS',\n",
       " 'RESULTS',\n",
       " 'RESULTS',\n",
       " 'CONCLUSIONS',\n",
       " 'BACKGROUND',\n",
       " 'BACKGROUND',\n",
       " 'METHODS',\n",
       " 'METHODS',\n",
       " 'METHODS',\n",
       " 'METHODS',\n",
       " 'METHODS',\n",
       " 'METHODS',\n",
       " 'RESULTS',\n",
       " 'RESULTS',\n",
       " 'RESULTS',\n",
       " 'CONCLUSIONS',\n",
       " 'CONCLUSIONS',\n",
       " ...]"
      ]
     },
     "execution_count": 121,
     "metadata": {},
     "output_type": "execute_result"
    }
   ],
   "source": [
    "%%time\n",
    "# Get list of class names of test predictions\n",
    "test_pred_classes = [label_encoder.classes_[pred] for pred in test_preds]\n",
    "test_pred_classes"
   ]
  },
  {
   "cell_type": "markdown",
   "metadata": {
    "id": "0B41eg6O6DbQ"
   },
   "source": [
    "Add few columns to facilitate the process."
   ]
  },
  {
   "cell_type": "code",
   "execution_count": null,
   "metadata": {
    "colab": {
     "base_uri": "https://localhost:8080/",
     "height": 1000
    },
    "id": "au11pLUEPCaj",
    "outputId": "72f689fa-9eb2-459b-f709-ae1c55f202e4"
   },
   "outputs": [
    {
     "data": {
      "text/html": [
       "\n",
       "  <div id=\"df-bb1c7b67-4326-4630-9be3-14c4f5ed5c01\">\n",
       "    <div class=\"colab-df-container\">\n",
       "      <div>\n",
       "<style scoped>\n",
       "    .dataframe tbody tr th:only-of-type {\n",
       "        vertical-align: middle;\n",
       "    }\n",
       "\n",
       "    .dataframe tbody tr th {\n",
       "        vertical-align: top;\n",
       "    }\n",
       "\n",
       "    .dataframe thead th {\n",
       "        text-align: right;\n",
       "    }\n",
       "</style>\n",
       "<table border=\"1\" class=\"dataframe\">\n",
       "  <thead>\n",
       "    <tr style=\"text-align: right;\">\n",
       "      <th></th>\n",
       "      <th>target</th>\n",
       "      <th>text</th>\n",
       "      <th>line_number</th>\n",
       "      <th>total_lines</th>\n",
       "      <th>prediction</th>\n",
       "      <th>pred_prob</th>\n",
       "      <th>correct</th>\n",
       "    </tr>\n",
       "  </thead>\n",
       "  <tbody>\n",
       "    <tr>\n",
       "      <th>0</th>\n",
       "      <td>BACKGROUND</td>\n",
       "      <td>this study analyzed liver function abnormaliti...</td>\n",
       "      <td>0</td>\n",
       "      <td>8</td>\n",
       "      <td>OBJECTIVE</td>\n",
       "      <td>0.501069</td>\n",
       "      <td>False</td>\n",
       "    </tr>\n",
       "    <tr>\n",
       "      <th>1</th>\n",
       "      <td>RESULTS</td>\n",
       "      <td>a post hoc analysis was conducted with the use...</td>\n",
       "      <td>1</td>\n",
       "      <td>8</td>\n",
       "      <td>OBJECTIVE</td>\n",
       "      <td>0.336053</td>\n",
       "      <td>False</td>\n",
       "    </tr>\n",
       "    <tr>\n",
       "      <th>2</th>\n",
       "      <td>RESULTS</td>\n",
       "      <td>liver function tests ( lfts ) were measured at...</td>\n",
       "      <td>2</td>\n",
       "      <td>8</td>\n",
       "      <td>METHODS</td>\n",
       "      <td>0.816006</td>\n",
       "      <td>False</td>\n",
       "    </tr>\n",
       "    <tr>\n",
       "      <th>3</th>\n",
       "      <td>RESULTS</td>\n",
       "      <td>survival analyses were used to assess the asso...</td>\n",
       "      <td>3</td>\n",
       "      <td>8</td>\n",
       "      <td>METHODS</td>\n",
       "      <td>0.659132</td>\n",
       "      <td>False</td>\n",
       "    </tr>\n",
       "    <tr>\n",
       "      <th>4</th>\n",
       "      <td>RESULTS</td>\n",
       "      <td>the percentage of patients with abnormal lfts ...</td>\n",
       "      <td>4</td>\n",
       "      <td>8</td>\n",
       "      <td>RESULTS</td>\n",
       "      <td>0.708754</td>\n",
       "      <td>True</td>\n",
       "    </tr>\n",
       "    <tr>\n",
       "      <th>5</th>\n",
       "      <td>RESULTS</td>\n",
       "      <td>when mean hemodynamic profiles were compared i...</td>\n",
       "      <td>5</td>\n",
       "      <td>8</td>\n",
       "      <td>RESULTS</td>\n",
       "      <td>0.865378</td>\n",
       "      <td>True</td>\n",
       "    </tr>\n",
       "    <tr>\n",
       "      <th>6</th>\n",
       "      <td>RESULTS</td>\n",
       "      <td>multivariable analyses revealed that patients ...</td>\n",
       "      <td>6</td>\n",
       "      <td>8</td>\n",
       "      <td>RESULTS</td>\n",
       "      <td>0.521190</td>\n",
       "      <td>True</td>\n",
       "    </tr>\n",
       "    <tr>\n",
       "      <th>7</th>\n",
       "      <td>CONCLUSIONS</td>\n",
       "      <td>abnormal lfts are common in the adhf populatio...</td>\n",
       "      <td>7</td>\n",
       "      <td>8</td>\n",
       "      <td>CONCLUSIONS</td>\n",
       "      <td>0.496742</td>\n",
       "      <td>True</td>\n",
       "    </tr>\n",
       "    <tr>\n",
       "      <th>8</th>\n",
       "      <td>CONCLUSIONS</td>\n",
       "      <td>elevated meld-xi scores are associated with po...</td>\n",
       "      <td>8</td>\n",
       "      <td>8</td>\n",
       "      <td>RESULTS</td>\n",
       "      <td>0.502255</td>\n",
       "      <td>False</td>\n",
       "    </tr>\n",
       "    <tr>\n",
       "      <th>9</th>\n",
       "      <td>BACKGROUND</td>\n",
       "      <td>minimally invasive endovascular aneurysm repai...</td>\n",
       "      <td>0</td>\n",
       "      <td>12</td>\n",
       "      <td>BACKGROUND</td>\n",
       "      <td>0.590297</td>\n",
       "      <td>True</td>\n",
       "    </tr>\n",
       "    <tr>\n",
       "      <th>10</th>\n",
       "      <td>BACKGROUND</td>\n",
       "      <td>the aim of this study was to analyse the cost-...</td>\n",
       "      <td>1</td>\n",
       "      <td>12</td>\n",
       "      <td>OBJECTIVE</td>\n",
       "      <td>0.459706</td>\n",
       "      <td>False</td>\n",
       "    </tr>\n",
       "    <tr>\n",
       "      <th>11</th>\n",
       "      <td>METHODS</td>\n",
       "      <td>resource use was determined from the amsterdam...</td>\n",
       "      <td>2</td>\n",
       "      <td>12</td>\n",
       "      <td>METHODS</td>\n",
       "      <td>0.592784</td>\n",
       "      <td>True</td>\n",
       "    </tr>\n",
       "    <tr>\n",
       "      <th>12</th>\n",
       "      <td>METHODS</td>\n",
       "      <td>the analysis was performed from a provider per...</td>\n",
       "      <td>3</td>\n",
       "      <td>12</td>\n",
       "      <td>METHODS</td>\n",
       "      <td>0.863578</td>\n",
       "      <td>True</td>\n",
       "    </tr>\n",
       "    <tr>\n",
       "      <th>13</th>\n",
       "      <td>METHODS</td>\n",
       "      <td>all costs were calculated as if all patients h...</td>\n",
       "      <td>4</td>\n",
       "      <td>12</td>\n",
       "      <td>METHODS</td>\n",
       "      <td>0.550319</td>\n",
       "      <td>True</td>\n",
       "    </tr>\n",
       "    <tr>\n",
       "      <th>14</th>\n",
       "      <td>RESULTS</td>\n",
       "      <td>a total of @ patients were randomized .</td>\n",
       "      <td>5</td>\n",
       "      <td>12</td>\n",
       "      <td>RESULTS</td>\n",
       "      <td>0.781112</td>\n",
       "      <td>True</td>\n",
       "    </tr>\n",
       "    <tr>\n",
       "      <th>15</th>\n",
       "      <td>RESULTS</td>\n",
       "      <td>the @-day mortality rate was @ per cent after ...</td>\n",
       "      <td>6</td>\n",
       "      <td>12</td>\n",
       "      <td>RESULTS</td>\n",
       "      <td>0.636478</td>\n",
       "      <td>True</td>\n",
       "    </tr>\n",
       "    <tr>\n",
       "      <th>16</th>\n",
       "      <td>RESULTS</td>\n",
       "      <td>at @months , the total mortality rate for evar...</td>\n",
       "      <td>7</td>\n",
       "      <td>12</td>\n",
       "      <td>RESULTS</td>\n",
       "      <td>0.867751</td>\n",
       "      <td>True</td>\n",
       "    </tr>\n",
       "    <tr>\n",
       "      <th>17</th>\n",
       "      <td>RESULTS</td>\n",
       "      <td>the mean cost difference between evar and or w...</td>\n",
       "      <td>8</td>\n",
       "      <td>12</td>\n",
       "      <td>RESULTS</td>\n",
       "      <td>0.847283</td>\n",
       "      <td>True</td>\n",
       "    </tr>\n",
       "    <tr>\n",
       "      <th>18</th>\n",
       "      <td>RESULTS</td>\n",
       "      <td>the incremental cost-effectiveness ratio per p...</td>\n",
       "      <td>9</td>\n",
       "      <td>12</td>\n",
       "      <td>RESULTS</td>\n",
       "      <td>0.803115</td>\n",
       "      <td>True</td>\n",
       "    </tr>\n",
       "    <tr>\n",
       "      <th>19</th>\n",
       "      <td>RESULTS</td>\n",
       "      <td>there was no significant difference in quality...</td>\n",
       "      <td>10</td>\n",
       "      <td>12</td>\n",
       "      <td>RESULTS</td>\n",
       "      <td>0.762027</td>\n",
       "      <td>True</td>\n",
       "    </tr>\n",
       "  </tbody>\n",
       "</table>\n",
       "</div>\n",
       "      <button class=\"colab-df-convert\" onclick=\"convertToInteractive('df-bb1c7b67-4326-4630-9be3-14c4f5ed5c01')\"\n",
       "              title=\"Convert this dataframe to an interactive table.\"\n",
       "              style=\"display:none;\">\n",
       "        \n",
       "  <svg xmlns=\"http://www.w3.org/2000/svg\" height=\"24px\"viewBox=\"0 0 24 24\"\n",
       "       width=\"24px\">\n",
       "    <path d=\"M0 0h24v24H0V0z\" fill=\"none\"/>\n",
       "    <path d=\"M18.56 5.44l.94 2.06.94-2.06 2.06-.94-2.06-.94-.94-2.06-.94 2.06-2.06.94zm-11 1L8.5 8.5l.94-2.06 2.06-.94-2.06-.94L8.5 2.5l-.94 2.06-2.06.94zm10 10l.94 2.06.94-2.06 2.06-.94-2.06-.94-.94-2.06-.94 2.06-2.06.94z\"/><path d=\"M17.41 7.96l-1.37-1.37c-.4-.4-.92-.59-1.43-.59-.52 0-1.04.2-1.43.59L10.3 9.45l-7.72 7.72c-.78.78-.78 2.05 0 2.83L4 21.41c.39.39.9.59 1.41.59.51 0 1.02-.2 1.41-.59l7.78-7.78 2.81-2.81c.8-.78.8-2.07 0-2.86zM5.41 20L4 18.59l7.72-7.72 1.47 1.35L5.41 20z\"/>\n",
       "  </svg>\n",
       "      </button>\n",
       "      \n",
       "  <style>\n",
       "    .colab-df-container {\n",
       "      display:flex;\n",
       "      flex-wrap:wrap;\n",
       "      gap: 12px;\n",
       "    }\n",
       "\n",
       "    .colab-df-convert {\n",
       "      background-color: #E8F0FE;\n",
       "      border: none;\n",
       "      border-radius: 50%;\n",
       "      cursor: pointer;\n",
       "      display: none;\n",
       "      fill: #1967D2;\n",
       "      height: 32px;\n",
       "      padding: 0 0 0 0;\n",
       "      width: 32px;\n",
       "    }\n",
       "\n",
       "    .colab-df-convert:hover {\n",
       "      background-color: #E2EBFA;\n",
       "      box-shadow: 0px 1px 2px rgba(60, 64, 67, 0.3), 0px 1px 3px 1px rgba(60, 64, 67, 0.15);\n",
       "      fill: #174EA6;\n",
       "    }\n",
       "\n",
       "    [theme=dark] .colab-df-convert {\n",
       "      background-color: #3B4455;\n",
       "      fill: #D2E3FC;\n",
       "    }\n",
       "\n",
       "    [theme=dark] .colab-df-convert:hover {\n",
       "      background-color: #434B5C;\n",
       "      box-shadow: 0px 1px 3px 1px rgba(0, 0, 0, 0.15);\n",
       "      filter: drop-shadow(0px 1px 2px rgba(0, 0, 0, 0.3));\n",
       "      fill: #FFFFFF;\n",
       "    }\n",
       "  </style>\n",
       "\n",
       "      <script>\n",
       "        const buttonEl =\n",
       "          document.querySelector('#df-bb1c7b67-4326-4630-9be3-14c4f5ed5c01 button.colab-df-convert');\n",
       "        buttonEl.style.display =\n",
       "          google.colab.kernel.accessAllowed ? 'block' : 'none';\n",
       "\n",
       "        async function convertToInteractive(key) {\n",
       "          const element = document.querySelector('#df-bb1c7b67-4326-4630-9be3-14c4f5ed5c01');\n",
       "          const dataTable =\n",
       "            await google.colab.kernel.invokeFunction('convertToInteractive',\n",
       "                                                     [key], {});\n",
       "          if (!dataTable) return;\n",
       "\n",
       "          const docLinkHtml = 'Like what you see? Visit the ' +\n",
       "            '<a target=\"_blank\" href=https://colab.research.google.com/notebooks/data_table.ipynb>data table notebook</a>'\n",
       "            + ' to learn more about interactive tables.';\n",
       "          element.innerHTML = '';\n",
       "          dataTable['output_type'] = 'display_data';\n",
       "          await google.colab.output.renderOutput(dataTable, element);\n",
       "          const docLink = document.createElement('div');\n",
       "          docLink.innerHTML = docLinkHtml;\n",
       "          element.appendChild(docLink);\n",
       "        }\n",
       "      </script>\n",
       "    </div>\n",
       "  </div>\n",
       "  "
      ],
      "text/plain": [
       "         target                                               text  \\\n",
       "0    BACKGROUND  this study analyzed liver function abnormaliti...   \n",
       "1       RESULTS  a post hoc analysis was conducted with the use...   \n",
       "2       RESULTS  liver function tests ( lfts ) were measured at...   \n",
       "3       RESULTS  survival analyses were used to assess the asso...   \n",
       "4       RESULTS  the percentage of patients with abnormal lfts ...   \n",
       "5       RESULTS  when mean hemodynamic profiles were compared i...   \n",
       "6       RESULTS  multivariable analyses revealed that patients ...   \n",
       "7   CONCLUSIONS  abnormal lfts are common in the adhf populatio...   \n",
       "8   CONCLUSIONS  elevated meld-xi scores are associated with po...   \n",
       "9    BACKGROUND  minimally invasive endovascular aneurysm repai...   \n",
       "10   BACKGROUND  the aim of this study was to analyse the cost-...   \n",
       "11      METHODS  resource use was determined from the amsterdam...   \n",
       "12      METHODS  the analysis was performed from a provider per...   \n",
       "13      METHODS  all costs were calculated as if all patients h...   \n",
       "14      RESULTS            a total of @ patients were randomized .   \n",
       "15      RESULTS  the @-day mortality rate was @ per cent after ...   \n",
       "16      RESULTS  at @months , the total mortality rate for evar...   \n",
       "17      RESULTS  the mean cost difference between evar and or w...   \n",
       "18      RESULTS  the incremental cost-effectiveness ratio per p...   \n",
       "19      RESULTS  there was no significant difference in quality...   \n",
       "\n",
       "    line_number  total_lines   prediction  pred_prob  correct  \n",
       "0             0            8    OBJECTIVE   0.501069    False  \n",
       "1             1            8    OBJECTIVE   0.336053    False  \n",
       "2             2            8      METHODS   0.816006    False  \n",
       "3             3            8      METHODS   0.659132    False  \n",
       "4             4            8      RESULTS   0.708754     True  \n",
       "5             5            8      RESULTS   0.865378     True  \n",
       "6             6            8      RESULTS   0.521190     True  \n",
       "7             7            8  CONCLUSIONS   0.496742     True  \n",
       "8             8            8      RESULTS   0.502255    False  \n",
       "9             0           12   BACKGROUND   0.590297     True  \n",
       "10            1           12    OBJECTIVE   0.459706    False  \n",
       "11            2           12      METHODS   0.592784     True  \n",
       "12            3           12      METHODS   0.863578     True  \n",
       "13            4           12      METHODS   0.550319     True  \n",
       "14            5           12      RESULTS   0.781112     True  \n",
       "15            6           12      RESULTS   0.636478     True  \n",
       "16            7           12      RESULTS   0.867751     True  \n",
       "17            8           12      RESULTS   0.847283     True  \n",
       "18            9           12      RESULTS   0.803115     True  \n",
       "19           10           12      RESULTS   0.762027     True  "
      ]
     },
     "execution_count": 122,
     "metadata": {},
     "output_type": "execute_result"
    }
   ],
   "source": [
    "# Create prediction-enriched test dataframe\n",
    "\n",
    "# create column with test prediction class names\n",
    "test_df['prediction'] = test_pred_classes\n",
    "\n",
    "# get the maximum prediction probability\n",
    "test_df['pred_prob'] = tf.reduce_max(test_pred_probs, axis=1).numpy()\n",
    "\n",
    "# create binary column for whether the prediction is right or not\n",
    "test_df['correct'] = test_df['prediction'] == test_df['target']\n",
    "test_df.head(20)"
   ]
  },
  {
   "cell_type": "code",
   "execution_count": null,
   "metadata": {
    "colab": {
     "base_uri": "https://localhost:8080/",
     "height": 624
    },
    "id": "tDUOsuKJ6IQH",
    "outputId": "9c287293-6d06-4c38-d2d8-219788bfde7b"
   },
   "outputs": [
    {
     "data": {
      "text/html": [
       "\n",
       "  <div id=\"df-c0afb6b8-a33f-499b-b303-487aeb19c341\">\n",
       "    <div class=\"colab-df-container\">\n",
       "      <div>\n",
       "<style scoped>\n",
       "    .dataframe tbody tr th:only-of-type {\n",
       "        vertical-align: middle;\n",
       "    }\n",
       "\n",
       "    .dataframe tbody tr th {\n",
       "        vertical-align: top;\n",
       "    }\n",
       "\n",
       "    .dataframe thead th {\n",
       "        text-align: right;\n",
       "    }\n",
       "</style>\n",
       "<table border=\"1\" class=\"dataframe\">\n",
       "  <thead>\n",
       "    <tr style=\"text-align: right;\">\n",
       "      <th></th>\n",
       "      <th>target</th>\n",
       "      <th>text</th>\n",
       "      <th>line_number</th>\n",
       "      <th>total_lines</th>\n",
       "      <th>prediction</th>\n",
       "      <th>pred_prob</th>\n",
       "      <th>correct</th>\n",
       "    </tr>\n",
       "  </thead>\n",
       "  <tbody>\n",
       "    <tr>\n",
       "      <th>2388</th>\n",
       "      <td>RESULTS</td>\n",
       "      <td>the primary endpoint is the cumulative three-y...</td>\n",
       "      <td>4</td>\n",
       "      <td>13</td>\n",
       "      <td>METHODS</td>\n",
       "      <td>0.937709</td>\n",
       "      <td>False</td>\n",
       "    </tr>\n",
       "    <tr>\n",
       "      <th>16347</th>\n",
       "      <td>BACKGROUND</td>\n",
       "      <td>to evaluate the effects of the lactic acid bac...</td>\n",
       "      <td>0</td>\n",
       "      <td>12</td>\n",
       "      <td>OBJECTIVE</td>\n",
       "      <td>0.930123</td>\n",
       "      <td>False</td>\n",
       "    </tr>\n",
       "    <tr>\n",
       "      <th>13874</th>\n",
       "      <td>CONCLUSIONS</td>\n",
       "      <td>symptom outcomes will be assessed and estimate...</td>\n",
       "      <td>4</td>\n",
       "      <td>6</td>\n",
       "      <td>METHODS</td>\n",
       "      <td>0.928179</td>\n",
       "      <td>False</td>\n",
       "    </tr>\n",
       "    <tr>\n",
       "      <th>8545</th>\n",
       "      <td>METHODS</td>\n",
       "      <td>pretest-posttest .</td>\n",
       "      <td>1</td>\n",
       "      <td>11</td>\n",
       "      <td>BACKGROUND</td>\n",
       "      <td>0.923155</td>\n",
       "      <td>False</td>\n",
       "    </tr>\n",
       "    <tr>\n",
       "      <th>13598</th>\n",
       "      <td>METHODS</td>\n",
       "      <td>-@ % vs. fish : -@ % vs. fish + s : -@ % ; p &lt;...</td>\n",
       "      <td>6</td>\n",
       "      <td>9</td>\n",
       "      <td>RESULTS</td>\n",
       "      <td>0.916731</td>\n",
       "      <td>False</td>\n",
       "    </tr>\n",
       "    <tr>\n",
       "      <th>...</th>\n",
       "      <td>...</td>\n",
       "      <td>...</td>\n",
       "      <td>...</td>\n",
       "      <td>...</td>\n",
       "      <td>...</td>\n",
       "      <td>...</td>\n",
       "      <td>...</td>\n",
       "    </tr>\n",
       "    <tr>\n",
       "      <th>24785</th>\n",
       "      <td>BACKGROUND</td>\n",
       "      <td>to test the hypothesis that this electronic ac...</td>\n",
       "      <td>2</td>\n",
       "      <td>13</td>\n",
       "      <td>OBJECTIVE</td>\n",
       "      <td>0.838841</td>\n",
       "      <td>False</td>\n",
       "    </tr>\n",
       "    <tr>\n",
       "      <th>18392</th>\n",
       "      <td>CONCLUSIONS</td>\n",
       "      <td>fao + patients tended to be more impaired and ...</td>\n",
       "      <td>8</td>\n",
       "      <td>9</td>\n",
       "      <td>RESULTS</td>\n",
       "      <td>0.838828</td>\n",
       "      <td>False</td>\n",
       "    </tr>\n",
       "    <tr>\n",
       "      <th>11021</th>\n",
       "      <td>METHODS</td>\n",
       "      <td>this study provides class ii evidence that in ...</td>\n",
       "      <td>10</td>\n",
       "      <td>10</td>\n",
       "      <td>CONCLUSIONS</td>\n",
       "      <td>0.838197</td>\n",
       "      <td>False</td>\n",
       "    </tr>\n",
       "    <tr>\n",
       "      <th>4341</th>\n",
       "      <td>RESULTS</td>\n",
       "      <td>co-primary endpoints were lv end-systolic volu...</td>\n",
       "      <td>2</td>\n",
       "      <td>11</td>\n",
       "      <td>METHODS</td>\n",
       "      <td>0.837219</td>\n",
       "      <td>False</td>\n",
       "    </tr>\n",
       "    <tr>\n",
       "      <th>12136</th>\n",
       "      <td>RESULTS</td>\n",
       "      <td>for each individual enrolled as a case , we id...</td>\n",
       "      <td>4</td>\n",
       "      <td>16</td>\n",
       "      <td>METHODS</td>\n",
       "      <td>0.836516</td>\n",
       "      <td>False</td>\n",
       "    </tr>\n",
       "  </tbody>\n",
       "</table>\n",
       "<p>100 rows × 7 columns</p>\n",
       "</div>\n",
       "      <button class=\"colab-df-convert\" onclick=\"convertToInteractive('df-c0afb6b8-a33f-499b-b303-487aeb19c341')\"\n",
       "              title=\"Convert this dataframe to an interactive table.\"\n",
       "              style=\"display:none;\">\n",
       "        \n",
       "  <svg xmlns=\"http://www.w3.org/2000/svg\" height=\"24px\"viewBox=\"0 0 24 24\"\n",
       "       width=\"24px\">\n",
       "    <path d=\"M0 0h24v24H0V0z\" fill=\"none\"/>\n",
       "    <path d=\"M18.56 5.44l.94 2.06.94-2.06 2.06-.94-2.06-.94-.94-2.06-.94 2.06-2.06.94zm-11 1L8.5 8.5l.94-2.06 2.06-.94-2.06-.94L8.5 2.5l-.94 2.06-2.06.94zm10 10l.94 2.06.94-2.06 2.06-.94-2.06-.94-.94-2.06-.94 2.06-2.06.94z\"/><path d=\"M17.41 7.96l-1.37-1.37c-.4-.4-.92-.59-1.43-.59-.52 0-1.04.2-1.43.59L10.3 9.45l-7.72 7.72c-.78.78-.78 2.05 0 2.83L4 21.41c.39.39.9.59 1.41.59.51 0 1.02-.2 1.41-.59l7.78-7.78 2.81-2.81c.8-.78.8-2.07 0-2.86zM5.41 20L4 18.59l7.72-7.72 1.47 1.35L5.41 20z\"/>\n",
       "  </svg>\n",
       "      </button>\n",
       "      \n",
       "  <style>\n",
       "    .colab-df-container {\n",
       "      display:flex;\n",
       "      flex-wrap:wrap;\n",
       "      gap: 12px;\n",
       "    }\n",
       "\n",
       "    .colab-df-convert {\n",
       "      background-color: #E8F0FE;\n",
       "      border: none;\n",
       "      border-radius: 50%;\n",
       "      cursor: pointer;\n",
       "      display: none;\n",
       "      fill: #1967D2;\n",
       "      height: 32px;\n",
       "      padding: 0 0 0 0;\n",
       "      width: 32px;\n",
       "    }\n",
       "\n",
       "    .colab-df-convert:hover {\n",
       "      background-color: #E2EBFA;\n",
       "      box-shadow: 0px 1px 2px rgba(60, 64, 67, 0.3), 0px 1px 3px 1px rgba(60, 64, 67, 0.15);\n",
       "      fill: #174EA6;\n",
       "    }\n",
       "\n",
       "    [theme=dark] .colab-df-convert {\n",
       "      background-color: #3B4455;\n",
       "      fill: #D2E3FC;\n",
       "    }\n",
       "\n",
       "    [theme=dark] .colab-df-convert:hover {\n",
       "      background-color: #434B5C;\n",
       "      box-shadow: 0px 1px 3px 1px rgba(0, 0, 0, 0.15);\n",
       "      filter: drop-shadow(0px 1px 2px rgba(0, 0, 0, 0.3));\n",
       "      fill: #FFFFFF;\n",
       "    }\n",
       "  </style>\n",
       "\n",
       "      <script>\n",
       "        const buttonEl =\n",
       "          document.querySelector('#df-c0afb6b8-a33f-499b-b303-487aeb19c341 button.colab-df-convert');\n",
       "        buttonEl.style.display =\n",
       "          google.colab.kernel.accessAllowed ? 'block' : 'none';\n",
       "\n",
       "        async function convertToInteractive(key) {\n",
       "          const element = document.querySelector('#df-c0afb6b8-a33f-499b-b303-487aeb19c341');\n",
       "          const dataTable =\n",
       "            await google.colab.kernel.invokeFunction('convertToInteractive',\n",
       "                                                     [key], {});\n",
       "          if (!dataTable) return;\n",
       "\n",
       "          const docLinkHtml = 'Like what you see? Visit the ' +\n",
       "            '<a target=\"_blank\" href=https://colab.research.google.com/notebooks/data_table.ipynb>data table notebook</a>'\n",
       "            + ' to learn more about interactive tables.';\n",
       "          element.innerHTML = '';\n",
       "          dataTable['output_type'] = 'display_data';\n",
       "          await google.colab.output.renderOutput(dataTable, element);\n",
       "          const docLink = document.createElement('div');\n",
       "          docLink.innerHTML = docLinkHtml;\n",
       "          element.appendChild(docLink);\n",
       "        }\n",
       "      </script>\n",
       "    </div>\n",
       "  </div>\n",
       "  "
      ],
      "text/plain": [
       "            target                                               text  \\\n",
       "2388       RESULTS  the primary endpoint is the cumulative three-y...   \n",
       "16347   BACKGROUND  to evaluate the effects of the lactic acid bac...   \n",
       "13874  CONCLUSIONS  symptom outcomes will be assessed and estimate...   \n",
       "8545       METHODS                                 pretest-posttest .   \n",
       "13598      METHODS  -@ % vs. fish : -@ % vs. fish + s : -@ % ; p <...   \n",
       "...            ...                                                ...   \n",
       "24785   BACKGROUND  to test the hypothesis that this electronic ac...   \n",
       "18392  CONCLUSIONS  fao + patients tended to be more impaired and ...   \n",
       "11021      METHODS  this study provides class ii evidence that in ...   \n",
       "4341       RESULTS  co-primary endpoints were lv end-systolic volu...   \n",
       "12136      RESULTS  for each individual enrolled as a case , we id...   \n",
       "\n",
       "       line_number  total_lines   prediction  pred_prob  correct  \n",
       "2388             4           13      METHODS   0.937709    False  \n",
       "16347            0           12    OBJECTIVE   0.930123    False  \n",
       "13874            4            6      METHODS   0.928179    False  \n",
       "8545             1           11   BACKGROUND   0.923155    False  \n",
       "13598            6            9      RESULTS   0.916731    False  \n",
       "...            ...          ...          ...        ...      ...  \n",
       "24785            2           13    OBJECTIVE   0.838841    False  \n",
       "18392            8            9      RESULTS   0.838828    False  \n",
       "11021           10           10  CONCLUSIONS   0.838197    False  \n",
       "4341             2           11      METHODS   0.837219    False  \n",
       "12136            4           16      METHODS   0.836516    False  \n",
       "\n",
       "[100 rows x 7 columns]"
      ]
     },
     "execution_count": 123,
     "metadata": {},
     "output_type": "execute_result"
    }
   ],
   "source": [
    "# Find top 100 most wrong samples\n",
    "top_100_wrong = test_df[test_df['correct'] == False].sort_values('pred_prob', ascending=False)[:100]\n",
    "top_100_wrong"
   ]
  },
  {
   "cell_type": "code",
   "execution_count": null,
   "metadata": {
    "colab": {
     "base_uri": "https://localhost:8080/"
    },
    "id": "ysddyYy717HJ",
    "outputId": "a0582517-59cd-4b4a-b444-f4a4a94b1bb2"
   },
   "outputs": [
    {
     "name": "stdout",
     "output_type": "stream",
     "text": [
      "Target: RESULTS, Pred: METHODS, Prob: 0.9377089142799377, Line number: 4, Total lines: 13\n",
      "\n",
      "Text:\n",
      "the primary endpoint is the cumulative three-year hiv incidence .\n",
      "\n",
      "-----\n",
      "\n",
      "Target: BACKGROUND, Pred: OBJECTIVE, Prob: 0.9301232695579529, Line number: 0, Total lines: 12\n",
      "\n",
      "Text:\n",
      "to evaluate the effects of the lactic acid bacterium lactobacillus salivarius on caries risk factors .\n",
      "\n",
      "-----\n",
      "\n",
      "Target: CONCLUSIONS, Pred: METHODS, Prob: 0.9281793236732483, Line number: 4, Total lines: 6\n",
      "\n",
      "Text:\n",
      "symptom outcomes will be assessed and estimates of cost-effectiveness made .\n",
      "\n",
      "-----\n",
      "\n",
      "Target: METHODS, Pred: BACKGROUND, Prob: 0.9231551289558411, Line number: 1, Total lines: 11\n",
      "\n",
      "Text:\n",
      "pretest-posttest .\n",
      "\n",
      "-----\n",
      "\n",
      "Target: METHODS, Pred: RESULTS, Prob: 0.916731059551239, Line number: 6, Total lines: 9\n",
      "\n",
      "Text:\n",
      "-@ % vs. fish : -@ % vs. fish + s : -@ % ; p < @ ) but there were no significant differences between groups .\n",
      "\n",
      "-----\n",
      "\n",
      "Target: RESULTS, Pred: METHODS, Prob: 0.9081265330314636, Line number: 3, Total lines: 16\n",
      "\n",
      "Text:\n",
      "a cluster randomised trial was implemented with @,@ children in @ government primary schools on the south coast of kenya in @-@ .\n",
      "\n",
      "-----\n",
      "\n",
      "Target: BACKGROUND, Pred: OBJECTIVE, Prob: 0.905854344367981, Line number: 1, Total lines: 10\n",
      "\n",
      "Text:\n",
      "to test this assumption , this study was designed to evaluate levels of bone morphogenetic protein-@ ( bmp-@ ) in gingival crevicular fluid ( gcf ) during the early stages of healing for sites treated with modified perforated membranes ( mpms ) as compared with occlusive membranes ( oms ) .\n",
      "\n",
      "-----\n",
      "\n",
      "Target: RESULTS, Pred: METHODS, Prob: 0.9045671224594116, Line number: 6, Total lines: 14\n",
      "\n",
      "Text:\n",
      "the primary outcome was to evaluate changes in abdominal and shoulder-tip pain via a @-mm visual analog scale at @ , @ , and @hours postoperatively .\n",
      "\n",
      "-----\n",
      "\n",
      "Target: CONCLUSIONS, Pred: BACKGROUND, Prob: 0.9005841612815857, Line number: 13, Total lines: 13\n",
      "\n",
      "Text:\n",
      "( clinicaltrials.gov : nct@ ) .\n",
      "\n",
      "-----\n",
      "\n",
      "Target: BACKGROUND, Pred: OBJECTIVE, Prob: 0.8999711871147156, Line number: 0, Total lines: 11\n",
      "\n",
      "Text:\n",
      "to assess the temporal patterns of late gastrointestinal ( gi ) and genitourinary ( gu ) radiotherapy toxicity and resolution rates in a randomised controlled trial ( all-ireland cooperative oncology research group @-@ ) assessing duration of neo-adjuvant ( na ) hormone therapy for localised prostate cancer .\n",
      "\n",
      "-----\n",
      "\n"
     ]
    }
   ],
   "source": [
    "# Investigate top wrong preds\n",
    "for row in top_100_wrong[0:10].itertuples(): # adjust indexes to view different samples\n",
    "  _, target, text, line_number, total_lines, prediction, pred_prob, _ = row\n",
    "  print(f'Target: {target}, Pred: {prediction}, Prob: {pred_prob}, Line number: {line_number}, Total lines: {total_lines}\\n')\n",
    "  print(f'Text:\\n{text}\\n')\n",
    "  print('-----\\n')"
   ]
  },
  {
   "cell_type": "markdown",
   "metadata": {
    "id": "wMbQeX-M7sYV"
   },
   "source": [
    "What can be noticed is that some of the labels  are ambiguous (Ex: a line in an abstract could be labelled either `OBJECTIVE` or `BACKGROUND` and make sense); this could be the reason why the model predicts an `OBJECTIVE` as a `BACKGROUND` and vice versa.\n",
    "\n",
    "\n"
   ]
  },
  {
   "cell_type": "markdown",
   "metadata": {
    "id": "WWOqL8oSNH5K"
   },
   "source": [
    "**Evaluation**\n",
    "\n",
    "It can be noticed that the more features that could be useful for the model are engineered, the better performance will be observed.\n",
    "\n",
    "The author attempted to train the model architecture on the complete dataset. However, as mentioned, the RAM allowance on Google Colab was insufficient as it was exceeded, although the performance obtained in the 20k dataset is quite significant. The model's performance, therefore, can be further improved if it were trained on the complete dataset.\n",
    "\n",
    "By observing the history loss plot and the TensorBoard logs of the best-performing model, it can be identified that the loss' are  converging. This means that the model can be trained for more epochs to obtain better performance, but not too much so that the model starts to overfit.\n",
    "\n",
    "Finding the model's most wrong predictions is a great way to evaluate and identify what the model struggles with.\n",
    "\n",
    "**Improvements**\n",
    "\n",
    "The model can be trained for many epochs and on the complete dataset while specifying an `EarlyStopping` callback and, further, a `ReduceLROnPlateau` callback to alter the learning rate while training to alleviate overfitting.\n",
    "\n",
    "`MixedPrecision` can also be utilized to do training faster - utilizing both `float_16` and `float_32` to utilize GPU memory more efficiently and, in turn, run faster."
   ]
  },
  {
   "cell_type": "markdown",
   "metadata": {
    "id": "3_Hj3VpzQzyV"
   },
   "source": [
    "### Extras: updated model\n",
    "\n",
    "Model trained for more epochs with the mentioned callbacks & mixed precision training."
   ]
  },
  {
   "cell_type": "code",
   "execution_count": null,
   "metadata": {
    "colab": {
     "base_uri": "https://localhost:8080/"
    },
    "id": "UVMURwiBRwoV",
    "outputId": "0be1b94e-69d6-4cb7-afa8-2cf700fd84af"
   },
   "outputs": [
    {
     "data": {
      "text/plain": [
       "<Policy \"mixed_float16\">"
      ]
     },
     "execution_count": 86,
     "metadata": {},
     "output_type": "execute_result"
    }
   ],
   "source": [
    "# Setup mixed precision training\n",
    "tf.keras.mixed_precision.set_global_policy(policy='mixed_float16')\n",
    "tf.keras.mixed_precision.global_policy()"
   ]
  },
  {
   "cell_type": "code",
   "execution_count": null,
   "metadata": {
    "colab": {
     "base_uri": "https://localhost:8080/"
    },
    "id": "rsTQcUcTQ-PO",
    "outputId": "a54f5acf-df54-4fba-9af9-e200ea7f5903"
   },
   "outputs": [
    {
     "name": "stdout",
     "output_type": "stream",
     "text": [
      "Saving TensorBoard log files to: /content/drive/MyDrive/Colab Notebooks/tensorboard_logs/model_updated/20221028-112841\n",
      "Epoch 1/100\n",
      "5627/5627 [==============================] - 180s 31ms/step - loss: 0.9226 - accuracy: 0.8446 - val_loss: 0.9030 - val_accuracy: 0.8505 - lr: 0.0010\n",
      "Epoch 2/100\n",
      "5627/5627 [==============================] - 176s 31ms/step - loss: 0.8997 - accuracy: 0.8612 - val_loss: 0.9012 - val_accuracy: 0.8527 - lr: 0.0010\n",
      "Epoch 3/100\n",
      "5627/5627 [==============================] - 176s 31ms/step - loss: 0.8908 - accuracy: 0.8676 - val_loss: 0.9029 - val_accuracy: 0.8508 - lr: 0.0010\n",
      "Epoch 4/100\n",
      "5627/5627 [==============================] - 173s 31ms/step - loss: 0.8839 - accuracy: 0.8727 - val_loss: 0.9015 - val_accuracy: 0.8527 - lr: 0.0010\n",
      "Epoch 5/100\n",
      "5627/5627 [==============================] - 173s 31ms/step - loss: 0.8786 - accuracy: 0.8768 - val_loss: 0.9029 - val_accuracy: 0.8506 - lr: 0.0010\n"
     ]
    }
   ],
   "source": [
    "# Model will require a separate output layer with hard-coded dtype=float32\n",
    "# since it was set to float16 in mixed precision. This ensure that the outputs are in float32\n",
    "# required because float32 is more numerically stable\n",
    "output_layer = layers.Dense(5, activation='softmax', name='output_layer', dtype=tf.float32)(\n",
    "    tribid_embeddings\n",
    ")\n",
    "\n",
    "model_updated = tf.keras.Model(\n",
    "    inputs=[\n",
    "        line_number_model.input,\n",
    "        total_line_model.input,\n",
    "        token_model.input, \n",
    "        char_model.input\n",
    "    ],\n",
    "    outputs=output_layer,\n",
    "    name='model_updated_token_char_and_positional_embeddings_tribid'\n",
    ")\n",
    "\n",
    "model_updated.compile(\n",
    "    loss=tf.keras.losses.CategoricalCrossentropy(label_smoothing=0.2),\n",
    "    optimizer=tf.keras.optimizers.Adam(),\n",
    "    metrics=['accuracy']\n",
    ")\n",
    "\n",
    "early_stopping, reduce_lr = create_additional_callbacks()\n",
    "\n",
    "model_updated_history = model_updated.fit(\n",
    "    train_pos_char_token_dataset,\n",
    "    steps_per_epoch=len(train_pos_char_token_dataset),\n",
    "    epochs=100,\n",
    "    validation_data=val_pos_char_token_dataset,\n",
    "    validation_steps=len(val_pos_char_token_dataset),\n",
    "    callbacks=[\n",
    "        create_tensorboard_callback('/content/drive/MyDrive/Colab Notebooks/tensorboard_logs', 'model_updated'),\n",
    "        early_stopping,\n",
    "        reduce_lr\n",
    "    ]\n",
    ")"
   ]
  },
  {
   "cell_type": "code",
   "execution_count": null,
   "metadata": {
    "colab": {
     "base_uri": "https://localhost:8080/",
     "height": 573
    },
    "id": "rv-5063ZaK2T",
    "outputId": "06850aeb-f95c-4c35-aee7-e8327c83c262"
   },
   "outputs": [
    {
     "data": {
      "image/png": "[encoded data removed]",
      "text/plain": [
       "<Figure size 432x288 with 1 Axes>"
      ]
     },
     "metadata": {
      "needs_background": "light"
     },
     "output_type": "display_data"
    },
    {
     "data": {
      "image/png": "[encoded data removed]",
      "text/plain": [
       "<Figure size 432x288 with 1 Axes>"
      ]
     },
     "metadata": {
      "needs_background": "light"
     },
     "output_type": "display_data"
    }
   ],
   "source": [
    "plot_loss_curves(model_updated_history)"
   ]
  },
  {
   "cell_type": "markdown",
   "metadata": {
    "id": "3e_n8mvcaW-f"
   },
   "source": [
    "The model has started to overfit."
   ]
  },
  {
   "cell_type": "code",
   "execution_count": null,
   "metadata": {
    "colab": {
     "base_uri": "https://localhost:8080/"
    },
    "id": "Vt7hk_BSbLI1",
    "outputId": "36c72767-42ef-4534-ed2c-9194949322f8"
   },
   "outputs": [
    {
     "name": "stdout",
     "output_type": "stream",
     "text": [
      "942/942 [==============================] - 21s 20ms/step\n"
     ]
    },
    {
     "data": {
      "text/plain": [
       "{'accuracy': 84.55616392898622,\n",
       " 'precision': 0.8463700257125115,\n",
       " 'recall': 0.8455616392898623,\n",
       " 'f1': 0.8429698567952086}"
      ]
     },
     "execution_count": 93,
     "metadata": {},
     "output_type": "execute_result"
    }
   ],
   "source": [
    "test_pred_probs = model_updated.predict(\n",
    "    test_pos_char_token_dataset,\n",
    "    verbose=1\n",
    ")\n",
    "\n",
    "test_preds = tf.argmax(test_pred_probs, axis=1)\n",
    "loaded_model_test_results = calculate_results(\n",
    "    y_true=test_labels_encoded,\n",
    "    y_pred=test_preds\n",
    ")\n",
    "\n",
    "loaded_model_test_results"
   ]
  },
  {
   "cell_type": "code",
   "execution_count": null,
   "metadata": {
    "colab": {
     "base_uri": "https://localhost:8080/",
     "height": 487
    },
    "id": "SVLcsi-Ybil5",
    "outputId": "38e589ae-83e3-47ac-d3a6-9319d3f6b9a2"
   },
   "outputs": [
    {
     "name": "stdout",
     "output_type": "stream",
     "text": [
      "              precision    recall  f1-score   support\n",
      "\n",
      "           0       0.73      0.82      0.77      3621\n",
      "           1       0.88      0.85      0.86      4571\n",
      "           2       0.89      0.88      0.89      9897\n",
      "           3       0.79      0.51      0.62      2333\n",
      "           4       0.84      0.90      0.87      9713\n",
      "\n",
      "    accuracy                           0.85     30135\n",
      "   macro avg       0.83      0.79      0.80     30135\n",
      "weighted avg       0.85      0.85      0.84     30135\n",
      "\n"
     ]
    },
    {
     "data": {
      "image/png": "[encoded data removed]",
      "text/plain": [
       "<Figure size 432x288 with 2 Axes>"
      ]
     },
     "metadata": {
      "needs_background": "light"
     },
     "output_type": "display_data"
    }
   ],
   "source": [
    "plot_confusion_matrix(test_labels_encoded, test_preds)\n",
    "print(classification_report(test_labels_encoded, test_preds))"
   ]
  },
  {
   "cell_type": "markdown",
   "metadata": {
    "id": "Pfz_b-Tmapdz"
   },
   "source": [
    "### Extras: make example predictions\n",
    "\n",
    "Attempt to make predictions on example abstracts\n",
    "\n",
    "[Example unstructured abstract](https://pubmed.ncbi.nlm.nih.gov/20232240/)\n",
    "\n",
    "<img src='https://nft-mp-nft-v1-dev-resources.s3.amazonaws.com/images/ai_cw_example_abs.png' />\n",
    "\n",
    "The above abstract hasn't been formatted in the same structure as the data the model has been trained on. Therefore, preprocessing must be done beforehand to make the abstract into the required format.\n"
   ]
  },
  {
   "cell_type": "code",
   "execution_count": null,
   "metadata": {
    "id": "-qKFXysU9Y1j"
   },
   "outputs": [],
   "source": [
    "abstract_examples = [\n",
    "    {\n",
    "    \"abstract\": \"This RCT examined the efficacy of a manualized social intervention for children with HFASDs. Participants were randomly assigned to treatment or wait-list conditions. Treatment included instruction and therapeutic activities targeting social skills, face-emotion recognition, interest expansion, and interpretation of non-literal language. A response-cost program was applied to reduce problem behaviors and foster skills acquisition. Significant treatment effects were found for five of seven primary outcome measures (parent ratings and direct child measures). Secondary measures based on staff ratings (treatment group only) corroborated gains reported by parents. High levels of parent, child and staff satisfaction were reported, along with high levels of treatment fidelity. Standardized effect size estimates were primarily in the medium and large ranges and favored the treatment group.\",\n",
    "    \"source\": \"https://pubmed.ncbi.nlm.nih.gov/20232240/\",\n",
    "    \"details\": \"RCT of a manualized social treatment for high-functioning autism spectrum disorders\"\n",
    "    },\n",
    "    {\n",
    "    \"abstract\": \"Postpartum depression (PPD) is the most prevalent mood disorder associated with childbirth. No single cause of PPD has been identified, however the increased risk of nutritional deficiencies incurred through the high nutritional requirements of pregnancy may play a role in the pathology of depressive symptoms. Three nutritional interventions have drawn particular interest as possible non-invasive and cost-effective prevention and/or treatment strategies for PPD; omega-3 (n-3) long chain polyunsaturated fatty acids (LCPUFA), vitamin D and overall diet. We searched for meta-analyses of randomised controlled trials (RCT's) of nutritional interventions during the perinatal period with PPD as an outcome, and checked for any trials published subsequently to the meta-analyses. Fish oil: Eleven RCT's of prenatal fish oil supplementation RCT's show null and positive effects on PPD symptoms. Vitamin D: no relevant RCT's were identified, however seven observational studies of maternal vitamin D levels with PPD outcomes showed inconsistent associations. Diet: Two Australian RCT's with dietary advice interventions in pregnancy had a positive and null result on PPD. With the exception of fish oil, few RCT's with nutritional interventions during pregnancy assess PPD. Further research is needed to determine whether nutritional intervention strategies during pregnancy can protect against symptoms of PPD. Given the prevalence of PPD and ease of administering PPD measures, we recommend future prenatal nutritional RCT's include PPD as an outcome.\",\n",
    "    \"source\": \"https://pubmed.ncbi.nlm.nih.gov/28012571/\",\n",
    "    \"details\": \"Formatting removed (can be used to compare model to actual example)\"\n",
    "    },\n",
    "    {\n",
    "    \"abstract\": \"Mental illness, including depression, anxiety and bipolar disorder, accounts for a significant proportion of global disability and poses a substantial social, economic and heath burden. Treatment is presently dominated by pharmacotherapy, such as antidepressants, and psychotherapy, such as cognitive behavioural therapy; however, such treatments avert less than half of the disease burden, suggesting that additional strategies are needed to prevent and treat mental disorders. There are now consistent mechanistic, observational and interventional data to suggest diet quality may be a modifiable risk factor for mental illness. This review provides an overview of the nutritional psychiatry field. It includes a discussion of the neurobiological mechanisms likely modulated by diet, the use of dietary and nutraceutical interventions in mental disorders, and recommendations for further research. Potential biological pathways related to mental disorders include inflammation, oxidative stress, the gut microbiome, epigenetic modifications and neuroplasticity. Consistent epidemiological evidence, particularly for depression, suggests an association between measures of diet quality and mental health, across multiple populations and age groups; these do not appear to be explained by other demographic, lifestyle factors or reverse causality. Our recently published intervention trial provides preliminary clinical evidence that dietary interventions in clinically diagnosed populations are feasible and can provide significant clinical benefit. Furthermore, nutraceuticals including n-3 fatty acids, folate, S-adenosylmethionine, N-acetyl cysteine and probiotics, among others, are promising avenues for future research. Continued research is now required to investigate the efficacy of intervention studies in large cohorts and within clinically relevant populations, particularly in patients with schizophrenia, bipolar and anxiety disorders.\",\n",
    "    \"source\": \"https://pubmed.ncbi.nlm.nih.gov/28942748/\",\n",
    "    \"details\": \"Effect of nutrition on mental health\"\n",
    "    },\n",
    "    {\n",
    "    \"abstract\": \"Hepatitis C virus (HCV) and alcoholic liver disease (ALD), either alone or in combination, count for more than two thirds of all liver diseases in the Western world. There is no safe level of drinking in HCV-infected patients and the most effective goal for these patients is total abstinence. Baclofen, a GABA(B) receptor agonist, represents a promising pharmacotherapy for alcohol dependence (AD). Previously, we performed a randomized clinical trial (RCT), which demonstrated the safety and efficacy of baclofen in patients affected by AD and cirrhosis. The goal of this post-hoc analysis was to explore baclofen's effect in a subgroup of alcohol-dependent HCV-infected cirrhotic patients. Any patient with HCV infection was selected for this analysis. Among the 84 subjects randomized in the main trial, 24 alcohol-dependent cirrhotic patients had a HCV infection; 12 received baclofen 10mg t.i.d. and 12 received placebo for 12-weeks. With respect to the placebo group (3/12, 25.0%), a significantly higher number of patients who achieved and maintained total alcohol abstinence was found in the baclofen group (10/12, 83.3%; p=0.0123). Furthermore, in the baclofen group, compared to placebo, there was a significantly higher increase in albumin values from baseline (p=0.0132) and a trend toward a significant reduction in INR levels from baseline (p=0.0716). In conclusion, baclofen was safe and significantly more effective than placebo in promoting alcohol abstinence, and improving some Liver Function Tests (LFTs) (i.e. albumin, INR) in alcohol-dependent HCV-infected cirrhotic patients. Baclofen may represent a clinically relevant alcohol pharmacotherapy for these patients.\",\n",
    "    \"source\": \"https://pubmed.ncbi.nlm.nih.gov/22244707/\",\n",
    "    \"details\": \"Baclofen promotes alcohol abstinence in alcohol dependent cirrhotic patients with hepatitis C virus (HCV) infection\"\n",
    "    }\n",
    "]"
   ]
  },
  {
   "cell_type": "code",
   "execution_count": null,
   "metadata": {
    "colab": {
     "base_uri": "https://localhost:8080/",
     "height": 288
    },
    "id": "-1cIAS1Z6r_l",
    "outputId": "2b00c715-3a9e-4dc5-a6c3-62c5ab34d778"
   },
   "outputs": [
    {
     "data": {
      "text/html": [
       "\n",
       "  <div id=\"df-a4111eee-a8c7-4d06-8a28-341b0136fccc\">\n",
       "    <div class=\"colab-df-container\">\n",
       "      <div>\n",
       "<style scoped>\n",
       "    .dataframe tbody tr th:only-of-type {\n",
       "        vertical-align: middle;\n",
       "    }\n",
       "\n",
       "    .dataframe tbody tr th {\n",
       "        vertical-align: top;\n",
       "    }\n",
       "\n",
       "    .dataframe thead th {\n",
       "        text-align: right;\n",
       "    }\n",
       "</style>\n",
       "<table border=\"1\" class=\"dataframe\">\n",
       "  <thead>\n",
       "    <tr style=\"text-align: right;\">\n",
       "      <th></th>\n",
       "      <th>abstract</th>\n",
       "      <th>source</th>\n",
       "      <th>details</th>\n",
       "    </tr>\n",
       "  </thead>\n",
       "  <tbody>\n",
       "    <tr>\n",
       "      <th>0</th>\n",
       "      <td>This RCT examined the efficacy of a manualized...</td>\n",
       "      <td>https://pubmed.ncbi.nlm.nih.gov/20232240/</td>\n",
       "      <td>RCT of a manualized social treatment for high-...</td>\n",
       "    </tr>\n",
       "    <tr>\n",
       "      <th>1</th>\n",
       "      <td>Postpartum depression (PPD) is the most preval...</td>\n",
       "      <td>https://pubmed.ncbi.nlm.nih.gov/28012571/</td>\n",
       "      <td>Formatting removed (can be used to compare mod...</td>\n",
       "    </tr>\n",
       "    <tr>\n",
       "      <th>2</th>\n",
       "      <td>Mental illness, including depression, anxiety ...</td>\n",
       "      <td>https://pubmed.ncbi.nlm.nih.gov/28942748/</td>\n",
       "      <td>Effect of nutrition on mental health</td>\n",
       "    </tr>\n",
       "    <tr>\n",
       "      <th>3</th>\n",
       "      <td>Hepatitis C virus (HCV) and alcoholic liver di...</td>\n",
       "      <td>https://pubmed.ncbi.nlm.nih.gov/22244707/</td>\n",
       "      <td>Baclofen promotes alcohol abstinence in alcoho...</td>\n",
       "    </tr>\n",
       "  </tbody>\n",
       "</table>\n",
       "</div>\n",
       "      <button class=\"colab-df-convert\" onclick=\"convertToInteractive('df-a4111eee-a8c7-4d06-8a28-341b0136fccc')\"\n",
       "              title=\"Convert this dataframe to an interactive table.\"\n",
       "              style=\"display:none;\">\n",
       "        \n",
       "  <svg xmlns=\"http://www.w3.org/2000/svg\" height=\"24px\"viewBox=\"0 0 24 24\"\n",
       "       width=\"24px\">\n",
       "    <path d=\"M0 0h24v24H0V0z\" fill=\"none\"/>\n",
       "    <path d=\"M18.56 5.44l.94 2.06.94-2.06 2.06-.94-2.06-.94-.94-2.06-.94 2.06-2.06.94zm-11 1L8.5 8.5l.94-2.06 2.06-.94-2.06-.94L8.5 2.5l-.94 2.06-2.06.94zm10 10l.94 2.06.94-2.06 2.06-.94-2.06-.94-.94-2.06-.94 2.06-2.06.94z\"/><path d=\"M17.41 7.96l-1.37-1.37c-.4-.4-.92-.59-1.43-.59-.52 0-1.04.2-1.43.59L10.3 9.45l-7.72 7.72c-.78.78-.78 2.05 0 2.83L4 21.41c.39.39.9.59 1.41.59.51 0 1.02-.2 1.41-.59l7.78-7.78 2.81-2.81c.8-.78.8-2.07 0-2.86zM5.41 20L4 18.59l7.72-7.72 1.47 1.35L5.41 20z\"/>\n",
       "  </svg>\n",
       "      </button>\n",
       "      \n",
       "  <style>\n",
       "    .colab-df-container {\n",
       "      display:flex;\n",
       "      flex-wrap:wrap;\n",
       "      gap: 12px;\n",
       "    }\n",
       "\n",
       "    .colab-df-convert {\n",
       "      background-color: #E8F0FE;\n",
       "      border: none;\n",
       "      border-radius: 50%;\n",
       "      cursor: pointer;\n",
       "      display: none;\n",
       "      fill: #1967D2;\n",
       "      height: 32px;\n",
       "      padding: 0 0 0 0;\n",
       "      width: 32px;\n",
       "    }\n",
       "\n",
       "    .colab-df-convert:hover {\n",
       "      background-color: #E2EBFA;\n",
       "      box-shadow: 0px 1px 2px rgba(60, 64, 67, 0.3), 0px 1px 3px 1px rgba(60, 64, 67, 0.15);\n",
       "      fill: #174EA6;\n",
       "    }\n",
       "\n",
       "    [theme=dark] .colab-df-convert {\n",
       "      background-color: #3B4455;\n",
       "      fill: #D2E3FC;\n",
       "    }\n",
       "\n",
       "    [theme=dark] .colab-df-convert:hover {\n",
       "      background-color: #434B5C;\n",
       "      box-shadow: 0px 1px 3px 1px rgba(0, 0, 0, 0.15);\n",
       "      filter: drop-shadow(0px 1px 2px rgba(0, 0, 0, 0.3));\n",
       "      fill: #FFFFFF;\n",
       "    }\n",
       "  </style>\n",
       "\n",
       "      <script>\n",
       "        const buttonEl =\n",
       "          document.querySelector('#df-a4111eee-a8c7-4d06-8a28-341b0136fccc button.colab-df-convert');\n",
       "        buttonEl.style.display =\n",
       "          google.colab.kernel.accessAllowed ? 'block' : 'none';\n",
       "\n",
       "        async function convertToInteractive(key) {\n",
       "          const element = document.querySelector('#df-a4111eee-a8c7-4d06-8a28-341b0136fccc');\n",
       "          const dataTable =\n",
       "            await google.colab.kernel.invokeFunction('convertToInteractive',\n",
       "                                                     [key], {});\n",
       "          if (!dataTable) return;\n",
       "\n",
       "          const docLinkHtml = 'Like what you see? Visit the ' +\n",
       "            '<a target=\"_blank\" href=https://colab.research.google.com/notebooks/data_table.ipynb>data table notebook</a>'\n",
       "            + ' to learn more about interactive tables.';\n",
       "          element.innerHTML = '';\n",
       "          dataTable['output_type'] = 'display_data';\n",
       "          await google.colab.output.renderOutput(dataTable, element);\n",
       "          const docLink = document.createElement('div');\n",
       "          docLink.innerHTML = docLinkHtml;\n",
       "          element.appendChild(docLink);\n",
       "        }\n",
       "      </script>\n",
       "    </div>\n",
       "  </div>\n",
       "  "
      ],
      "text/plain": [
       "                                            abstract  \\\n",
       "0  This RCT examined the efficacy of a manualized...   \n",
       "1  Postpartum depression (PPD) is the most preval...   \n",
       "2  Mental illness, including depression, anxiety ...   \n",
       "3  Hepatitis C virus (HCV) and alcoholic liver di...   \n",
       "\n",
       "                                      source  \\\n",
       "0  https://pubmed.ncbi.nlm.nih.gov/20232240/   \n",
       "1  https://pubmed.ncbi.nlm.nih.gov/28012571/   \n",
       "2  https://pubmed.ncbi.nlm.nih.gov/28942748/   \n",
       "3  https://pubmed.ncbi.nlm.nih.gov/22244707/   \n",
       "\n",
       "                                             details  \n",
       "0  RCT of a manualized social treatment for high-...  \n",
       "1  Formatting removed (can be used to compare mod...  \n",
       "2               Effect of nutrition on mental health  \n",
       "3  Baclofen promotes alcohol abstinence in alcoho...  "
      ]
     },
     "execution_count": 64,
     "metadata": {},
     "output_type": "execute_result"
    }
   ],
   "source": [
    "abstracts = pd.DataFrame(abstract_examples)\n",
    "abstracts"
   ]
  },
  {
   "cell_type": "markdown",
   "metadata": {
    "id": "CnZWtDki9uxc"
   },
   "source": [
    "Before predicting on the above sentences, they must go through the same preprocessing steps."
   ]
  },
  {
   "cell_type": "code",
   "execution_count": null,
   "metadata": {
    "colab": {
     "base_uri": "https://localhost:8080/"
    },
    "id": "_gwVNdLQHpQX",
    "outputId": "ea44ef41-6c71-43a2-dfb7-334b16bc8fae"
   },
   "outputs": [
    {
     "data": {
      "text/plain": [
       "['Mental illness, including depression, anxiety and bipolar disorder, accounts for a significant proportion of global disability and poses a substantial social, economic and heath burden.',\n",
       " 'Treatment is presently dominated by pharmacotherapy, such as antidepressants, and psychotherapy, such as cognitive behavioural therapy; however, such treatments avert less than half of the disease burden, suggesting that additional strategies are needed to prevent and treat mental disorders.',\n",
       " 'There are now consistent mechanistic, observational and interventional data to suggest diet quality may be a modifiable risk factor for mental illness.',\n",
       " 'This review provides an overview of the nutritional psychiatry field.',\n",
       " 'It includes a discussion of the neurobiological mechanisms likely modulated by diet, the use of dietary and nutraceutical interventions in mental disorders, and recommendations for further research.',\n",
       " 'Potential biological pathways related to mental disorders include inflammation, oxidative stress, the gut microbiome, epigenetic modifications and neuroplasticity.',\n",
       " 'Consistent epidemiological evidence, particularly for depression, suggests an association between measures of diet quality and mental health, across multiple populations and age groups; these do not appear to be explained by other demographic, lifestyle factors or reverse causality.',\n",
       " 'Our recently published intervention trial provides preliminary clinical evidence that dietary interventions in clinically diagnosed populations are feasible and can provide significant clinical benefit.',\n",
       " 'Furthermore, nutraceuticals including n-3 fatty acids, folate, S-adenosylmethionine, N-acetyl cysteine and probiotics, among others, are promising avenues for future research.',\n",
       " 'Continued research is now required to investigate the efficacy of intervention studies in large cohorts and within clinically relevant populations, particularly in patients with schizophrenia, bipolar and anxiety disorders.']"
      ]
     },
     "execution_count": 77,
     "metadata": {},
     "output_type": "execute_result"
    }
   ],
   "source": [
    "# Parse abstracts\n",
    "# spaCy can be used to turn it from a big chunk of text into sentences.\n",
    "# Create sentencizer: https://spacy.io/usage/linguistic-features#sbd \n",
    "\n",
    "# setup English sentence parser\n",
    "nlp = English()\n",
    "nlp.add_pipe('sentencizer')\n",
    "\n",
    "# Change index, between 0-3, for other examples\n",
    "doc = nlp(abstract_examples[2]['abstract'])\n",
    "abstract_lines = [str(sent) for sent in list(doc.sents)]\n",
    "abstract_lines"
   ]
  },
  {
   "cell_type": "markdown",
   "metadata": {
    "id": "UiCg-H4G16Gx"
   },
   "source": [
    "**Side-note**: there may be more complex abstracts that do not get split perfectly into separate sentences (such as the example in [*Baclofen promotes alcohol abstinence in alcohol-dependent cirrhotic patients with hepatitis C virus (HCV) infection*](https://pubmed.ncbi.nlm.nih.gov/22244707/)), in this case, more custom splitting techniques would have to be investigated."
   ]
  },
  {
   "cell_type": "code",
   "execution_count": null,
   "metadata": {
    "colab": {
     "base_uri": "https://localhost:8080/"
    },
    "id": "A_Hi0alJI4Xu",
    "outputId": "b37741e6-7909-46b9-a103-754dc00eea1f",
    "scrolled": false
   },
   "outputs": [
    {
     "data": {
      "text/plain": [
       "[{'text': 'Mental illness, including depression, anxiety and bipolar disorder, accounts for a significant proportion of global disability and poses a substantial social, economic and heath burden.',\n",
       "  'line_number': 0,\n",
       "  'total_lines': 9},\n",
       " {'text': 'Treatment is presently dominated by pharmacotherapy, such as antidepressants, and psychotherapy, such as cognitive behavioural therapy; however, such treatments avert less than half of the disease burden, suggesting that additional strategies are needed to prevent and treat mental disorders.',\n",
       "  'line_number': 1,\n",
       "  'total_lines': 9},\n",
       " {'text': 'There are now consistent mechanistic, observational and interventional data to suggest diet quality may be a modifiable risk factor for mental illness.',\n",
       "  'line_number': 2,\n",
       "  'total_lines': 9},\n",
       " {'text': 'This review provides an overview of the nutritional psychiatry field.',\n",
       "  'line_number': 3,\n",
       "  'total_lines': 9},\n",
       " {'text': 'It includes a discussion of the neurobiological mechanisms likely modulated by diet, the use of dietary and nutraceutical interventions in mental disorders, and recommendations for further research.',\n",
       "  'line_number': 4,\n",
       "  'total_lines': 9},\n",
       " {'text': 'Potential biological pathways related to mental disorders include inflammation, oxidative stress, the gut microbiome, epigenetic modifications and neuroplasticity.',\n",
       "  'line_number': 5,\n",
       "  'total_lines': 9},\n",
       " {'text': 'Consistent epidemiological evidence, particularly for depression, suggests an association between measures of diet quality and mental health, across multiple populations and age groups; these do not appear to be explained by other demographic, lifestyle factors or reverse causality.',\n",
       "  'line_number': 6,\n",
       "  'total_lines': 9},\n",
       " {'text': 'Our recently published intervention trial provides preliminary clinical evidence that dietary interventions in clinically diagnosed populations are feasible and can provide significant clinical benefit.',\n",
       "  'line_number': 7,\n",
       "  'total_lines': 9},\n",
       " {'text': 'Furthermore, nutraceuticals including n-3 fatty acids, folate, S-adenosylmethionine, N-acetyl cysteine and probiotics, among others, are promising avenues for future research.',\n",
       "  'line_number': 8,\n",
       "  'total_lines': 9},\n",
       " {'text': 'Continued research is now required to investigate the efficacy of intervention studies in large cohorts and within clinically relevant populations, particularly in patients with schizophrenia, bipolar and anxiety disorders.',\n",
       "  'line_number': 9,\n",
       "  'total_lines': 9}]"
      ]
     },
     "execution_count": 78,
     "metadata": {},
     "output_type": "execute_result"
    }
   ],
   "source": [
    "# Get total number of lines\n",
    "total_lines_in_sample = len(abstract_lines)\n",
    "\n",
    "# Go through each line in abstract and create a list of dictionaries containing features for each line\n",
    "sample_lines = []\n",
    "for i, line in enumerate(abstract_lines):\n",
    "  sample_dict = {}\n",
    "  sample_dict['text'] = str(line)\n",
    "  sample_dict['line_number'] = i\n",
    "  sample_dict['total_lines'] = total_lines_in_sample - 1\n",
    "  sample_lines.append(sample_dict)\n",
    "sample_lines"
   ]
  },
  {
   "cell_type": "code",
   "execution_count": null,
   "metadata": {
    "colab": {
     "base_uri": "https://localhost:8080/"
    },
    "id": "rm0MYaAnBkbp",
    "outputId": "c3f512f9-9217-4105-83a1-8804c439ac2a"
   },
   "outputs": [
    {
     "data": {
      "text/plain": [
       "<tf.Tensor: shape=(10, 13), dtype=float32, numpy=\n",
       "array([[1., 0., 0., 0., 0., 0., 0., 0., 0., 0., 0., 0., 0.],\n",
       "       [0., 1., 0., 0., 0., 0., 0., 0., 0., 0., 0., 0., 0.],\n",
       "       [0., 0., 1., 0., 0., 0., 0., 0., 0., 0., 0., 0., 0.],\n",
       "       [0., 0., 0., 1., 0., 0., 0., 0., 0., 0., 0., 0., 0.],\n",
       "       [0., 0., 0., 0., 1., 0., 0., 0., 0., 0., 0., 0., 0.],\n",
       "       [0., 0., 0., 0., 0., 1., 0., 0., 0., 0., 0., 0., 0.],\n",
       "       [0., 0., 0., 0., 0., 0., 1., 0., 0., 0., 0., 0., 0.],\n",
       "       [0., 0., 0., 0., 0., 0., 0., 1., 0., 0., 0., 0., 0.],\n",
       "       [0., 0., 0., 0., 0., 0., 0., 0., 1., 0., 0., 0., 0.],\n",
       "       [0., 0., 0., 0., 0., 0., 0., 0., 0., 1., 0., 0., 0.]],\n",
       "      dtype=float32)>"
      ]
     },
     "execution_count": 79,
     "metadata": {},
     "output_type": "execute_result"
    }
   ],
   "source": [
    "# One-hot encode line numbers and total lines.\n",
    "\n",
    "test_abstract_line_numbers = [line['line_number'] for line in sample_lines]\n",
    "\n",
    "# One-hot encode to same depth as training data, so model accepts the correct input shape\n",
    "test_abstract_line_numbers_one_hot = tf.one_hot(test_abstract_line_numbers, depth=13) \n",
    "test_abstract_line_numbers_one_hot"
   ]
  },
  {
   "cell_type": "code",
   "execution_count": null,
   "metadata": {
    "colab": {
     "base_uri": "https://localhost:8080/"
    },
    "id": "8Wzbv3w6B3OU",
    "outputId": "a585fc45-e999-4ab7-da33-4459559bb589"
   },
   "outputs": [
    {
     "data": {
      "text/plain": [
       "<tf.Tensor: shape=(10, 18), dtype=float32, numpy=\n",
       "array([[0., 0., 0., 0., 0., 0., 0., 0., 0., 1., 0., 0., 0., 0., 0., 0.,\n",
       "        0., 0.],\n",
       "       [0., 0., 0., 0., 0., 0., 0., 0., 0., 1., 0., 0., 0., 0., 0., 0.,\n",
       "        0., 0.],\n",
       "       [0., 0., 0., 0., 0., 0., 0., 0., 0., 1., 0., 0., 0., 0., 0., 0.,\n",
       "        0., 0.],\n",
       "       [0., 0., 0., 0., 0., 0., 0., 0., 0., 1., 0., 0., 0., 0., 0., 0.,\n",
       "        0., 0.],\n",
       "       [0., 0., 0., 0., 0., 0., 0., 0., 0., 1., 0., 0., 0., 0., 0., 0.,\n",
       "        0., 0.],\n",
       "       [0., 0., 0., 0., 0., 0., 0., 0., 0., 1., 0., 0., 0., 0., 0., 0.,\n",
       "        0., 0.],\n",
       "       [0., 0., 0., 0., 0., 0., 0., 0., 0., 1., 0., 0., 0., 0., 0., 0.,\n",
       "        0., 0.],\n",
       "       [0., 0., 0., 0., 0., 0., 0., 0., 0., 1., 0., 0., 0., 0., 0., 0.,\n",
       "        0., 0.],\n",
       "       [0., 0., 0., 0., 0., 0., 0., 0., 0., 1., 0., 0., 0., 0., 0., 0.,\n",
       "        0., 0.],\n",
       "       [0., 0., 0., 0., 0., 0., 0., 0., 0., 1., 0., 0., 0., 0., 0., 0.,\n",
       "        0., 0.]], dtype=float32)>"
      ]
     },
     "execution_count": 80,
     "metadata": {},
     "output_type": "execute_result"
    }
   ],
   "source": [
    "test_abstract_total_lines = [line['total_lines'] for line in sample_lines]\n",
    "\n",
    "# One-hot encode to same depth as training data, so model accepts right input shape\n",
    "test_abstract_total_lines_one_hot = tf.one_hot(test_abstract_total_lines, depth=18)\n",
    "test_abstract_total_lines_one_hot"
   ]
  },
  {
   "cell_type": "code",
   "execution_count": null,
   "metadata": {
    "colab": {
     "base_uri": "https://localhost:8080/"
    },
    "id": "HOOPoG3cCA0F",
    "outputId": "38fd5307-e0f3-4853-f11c-4f7c4498d2d0"
   },
   "outputs": [
    {
     "data": {
      "text/plain": [
       "['M e n t a l   i l l n e s s ,   i n c l u d i n g   d e p r e s s i o n ,   a n x i e t y   a n d   b i p o l a r   d i s o r d e r ,   a c c o u n t s   f o r   a   s i g n i f i c a n t   p r o p o r t i o n   o f   g l o b a l   d i s a b i l i t y   a n d   p o s e s   a   s u b s t a n t i a l   s o c i a l ,   e c o n o m i c   a n d   h e a t h   b u r d e n .',\n",
       " 'T r e a t m e n t   i s   p r e s e n t l y   d o m i n a t e d   b y   p h a r m a c o t h e r a p y ,   s u c h   a s   a n t i d e p r e s s a n t s ,   a n d   p s y c h o t h e r a p y ,   s u c h   a s   c o g n i t i v e   b e h a v i o u r a l   t h e r a p y ;   h o w e v e r ,   s u c h   t r e a t m e n t s   a v e r t   l e s s   t h a n   h a l f   o f   t h e   d i s e a s e   b u r d e n ,   s u g g e s t i n g   t h a t   a d d i t i o n a l   s t r a t e g i e s   a r e   n e e d e d   t o   p r e v e n t   a n d   t r e a t   m e n t a l   d i s o r d e r s .',\n",
       " 'T h e r e   a r e   n o w   c o n s i s t e n t   m e c h a n i s t i c ,   o b s e r v a t i o n a l   a n d   i n t e r v e n t i o n a l   d a t a   t o   s u g g e s t   d i e t   q u a l i t y   m a y   b e   a   m o d i f i a b l e   r i s k   f a c t o r   f o r   m e n t a l   i l l n e s s .',\n",
       " 'T h i s   r e v i e w   p r o v i d e s   a n   o v e r v i e w   o f   t h e   n u t r i t i o n a l   p s y c h i a t r y   f i e l d .',\n",
       " 'I t   i n c l u d e s   a   d i s c u s s i o n   o f   t h e   n e u r o b i o l o g i c a l   m e c h a n i s m s   l i k e l y   m o d u l a t e d   b y   d i e t ,   t h e   u s e   o f   d i e t a r y   a n d   n u t r a c e u t i c a l   i n t e r v e n t i o n s   i n   m e n t a l   d i s o r d e r s ,   a n d   r e c o m m e n d a t i o n s   f o r   f u r t h e r   r e s e a r c h .',\n",
       " 'P o t e n t i a l   b i o l o g i c a l   p a t h w a y s   r e l a t e d   t o   m e n t a l   d i s o r d e r s   i n c l u d e   i n f l a m m a t i o n ,   o x i d a t i v e   s t r e s s ,   t h e   g u t   m i c r o b i o m e ,   e p i g e n e t i c   m o d i f i c a t i o n s   a n d   n e u r o p l a s t i c i t y .',\n",
       " 'C o n s i s t e n t   e p i d e m i o l o g i c a l   e v i d e n c e ,   p a r t i c u l a r l y   f o r   d e p r e s s i o n ,   s u g g e s t s   a n   a s s o c i a t i o n   b e t w e e n   m e a s u r e s   o f   d i e t   q u a l i t y   a n d   m e n t a l   h e a l t h ,   a c r o s s   m u l t i p l e   p o p u l a t i o n s   a n d   a g e   g r o u p s ;   t h e s e   d o   n o t   a p p e a r   t o   b e   e x p l a i n e d   b y   o t h e r   d e m o g r a p h i c ,   l i f e s t y l e   f a c t o r s   o r   r e v e r s e   c a u s a l i t y .',\n",
       " 'O u r   r e c e n t l y   p u b l i s h e d   i n t e r v e n t i o n   t r i a l   p r o v i d e s   p r e l i m i n a r y   c l i n i c a l   e v i d e n c e   t h a t   d i e t a r y   i n t e r v e n t i o n s   i n   c l i n i c a l l y   d i a g n o s e d   p o p u l a t i o n s   a r e   f e a s i b l e   a n d   c a n   p r o v i d e   s i g n i f i c a n t   c l i n i c a l   b e n e f i t .',\n",
       " 'F u r t h e r m o r e ,   n u t r a c e u t i c a l s   i n c l u d i n g   n - 3   f a t t y   a c i d s ,   f o l a t e ,   S - a d e n o s y l m e t h i o n i n e ,   N - a c e t y l   c y s t e i n e   a n d   p r o b i o t i c s ,   a m o n g   o t h e r s ,   a r e   p r o m i s i n g   a v e n u e s   f o r   f u t u r e   r e s e a r c h .',\n",
       " 'C o n t i n u e d   r e s e a r c h   i s   n o w   r e q u i r e d   t o   i n v e s t i g a t e   t h e   e f f i c a c y   o f   i n t e r v e n t i o n   s t u d i e s   i n   l a r g e   c o h o r t s   a n d   w i t h i n   c l i n i c a l l y   r e l e v a n t   p o p u l a t i o n s ,   p a r t i c u l a r l y   i n   p a t i e n t s   w i t h   s c h i z o p h r e n i a ,   b i p o l a r   a n d   a n x i e t y   d i s o r d e r s .']"
      ]
     },
     "execution_count": 81,
     "metadata": {},
     "output_type": "execute_result"
    }
   ],
   "source": [
    "# Split abstract lines into characters\n",
    "abstract_chars = [split_chars(sentence) for sentence in abstract_lines]\n",
    "abstract_chars"
   ]
  },
  {
   "cell_type": "code",
   "execution_count": null,
   "metadata": {
    "colab": {
     "base_uri": "https://localhost:8080/"
    },
    "id": "0b7siZa1CQG7",
    "outputId": "482bb4f4-03ae-4e4a-e0a2-5c8272b45955"
   },
   "outputs": [
    {
     "name": "stdout",
     "output_type": "stream",
     "text": [
      "1/1 [==============================] - 0s 44ms/step\n"
     ]
    },
    {
     "data": {
      "text/plain": [
       "array([[0.49332392, 0.02813742, 0.07538486, 0.3321986 , 0.07095517],\n",
       "       [0.51543546, 0.08398882, 0.1104705 , 0.2744647 , 0.01564053],\n",
       "       [0.39891428, 0.16062862, 0.17974158, 0.23817   , 0.02254556],\n",
       "       [0.275731  , 0.18725812, 0.2134671 , 0.2765715 , 0.04697227],\n",
       "       [0.19070978, 0.40211257, 0.15335466, 0.19343634, 0.06038659],\n",
       "       [0.15416084, 0.43899262, 0.09905545, 0.13301486, 0.17477624],\n",
       "       [0.10395475, 0.5201443 , 0.08212809, 0.0760015 , 0.21777138],\n",
       "       [0.07733966, 0.7803875 , 0.03690387, 0.04848113, 0.05688778],\n",
       "       [0.04626634, 0.82439256, 0.02290268, 0.03203506, 0.0744034 ],\n",
       "       [0.03993158, 0.7602597 , 0.03642815, 0.03744371, 0.12593684]],\n",
       "      dtype=float32)"
      ]
     },
     "execution_count": 82,
     "metadata": {},
     "output_type": "execute_result"
    }
   ],
   "source": [
    "# Make predictions on sample abstract features\n",
    "test_abstract_pred_probs = loaded_model.predict(x=(\n",
    "    test_abstract_line_numbers_one_hot,\n",
    "    test_abstract_total_lines_one_hot,\n",
    "    tf.constant(abstract_lines),\n",
    "    tf.constant(abstract_chars)\n",
    "))\n",
    "\n",
    "test_abstract_pred_probs"
   ]
  },
  {
   "cell_type": "code",
   "execution_count": null,
   "metadata": {
    "colab": {
     "base_uri": "https://localhost:8080/"
    },
    "id": "8nxqfCBfCqWe",
    "outputId": "9ed35d34-29c5-4d1f-f42b-80648799b5f5"
   },
   "outputs": [
    {
     "data": {
      "text/plain": [
       "<tf.Tensor: shape=(10,), dtype=int64, numpy=array([0, 0, 0, 3, 1, 1, 1, 1, 1, 1])>"
      ]
     },
     "execution_count": 83,
     "metadata": {},
     "output_type": "execute_result"
    }
   ],
   "source": [
    "# Turn prediction probabilities into prediction classes\n",
    "test_abstract_preds = tf.argmax(test_abstract_pred_probs, axis=1)\n",
    "test_abstract_preds"
   ]
  },
  {
   "cell_type": "code",
   "execution_count": null,
   "metadata": {
    "colab": {
     "base_uri": "https://localhost:8080/"
    },
    "id": "LduhApa3C1mD",
    "outputId": "e6132eec-906c-474a-ccdb-c776d6f63f16"
   },
   "outputs": [
    {
     "data": {
      "text/plain": [
       "['BACKGROUND',\n",
       " 'BACKGROUND',\n",
       " 'BACKGROUND',\n",
       " 'OBJECTIVE',\n",
       " 'CONCLUSIONS',\n",
       " 'CONCLUSIONS',\n",
       " 'CONCLUSIONS',\n",
       " 'CONCLUSIONS',\n",
       " 'CONCLUSIONS',\n",
       " 'CONCLUSIONS']"
      ]
     },
     "execution_count": 84,
     "metadata": {},
     "output_type": "execute_result"
    }
   ],
   "source": [
    "# Turn prediction class integers into string class names\n",
    "test_abstract_pred_classes = [label_encoder.classes_[i] for i in test_abstract_preds]\n",
    "test_abstract_pred_classes"
   ]
  },
  {
   "cell_type": "code",
   "execution_count": null,
   "metadata": {
    "colab": {
     "base_uri": "https://localhost:8080/"
    },
    "id": "BhhDPZSHDCJD",
    "outputId": "6e3a4aec-5f5f-4201-abbe-26767137aec4"
   },
   "outputs": [
    {
     "name": "stdout",
     "output_type": "stream",
     "text": [
      "BACKGROUND: Mental illness, including depression, anxiety and bipolar disorder, accounts for a significant proportion of global disability and poses a substantial social, economic and heath burden.\n",
      "BACKGROUND: Treatment is presently dominated by pharmacotherapy, such as antidepressants, and psychotherapy, such as cognitive behavioural therapy; however, such treatments avert less than half of the disease burden, suggesting that additional strategies are needed to prevent and treat mental disorders.\n",
      "BACKGROUND: There are now consistent mechanistic, observational and interventional data to suggest diet quality may be a modifiable risk factor for mental illness.\n",
      "OBJECTIVE: This review provides an overview of the nutritional psychiatry field.\n",
      "CONCLUSIONS: It includes a discussion of the neurobiological mechanisms likely modulated by diet, the use of dietary and nutraceutical interventions in mental disorders, and recommendations for further research.\n",
      "CONCLUSIONS: Potential biological pathways related to mental disorders include inflammation, oxidative stress, the gut microbiome, epigenetic modifications and neuroplasticity.\n",
      "CONCLUSIONS: Consistent epidemiological evidence, particularly for depression, suggests an association between measures of diet quality and mental health, across multiple populations and age groups; these do not appear to be explained by other demographic, lifestyle factors or reverse causality.\n",
      "CONCLUSIONS: Our recently published intervention trial provides preliminary clinical evidence that dietary interventions in clinically diagnosed populations are feasible and can provide significant clinical benefit.\n",
      "CONCLUSIONS: Furthermore, nutraceuticals including n-3 fatty acids, folate, S-adenosylmethionine, N-acetyl cysteine and probiotics, among others, are promising avenues for future research.\n",
      "CONCLUSIONS: Continued research is now required to investigate the efficacy of intervention studies in large cohorts and within clinically relevant populations, particularly in patients with schizophrenia, bipolar and anxiety disorders.\n"
     ]
    }
   ],
   "source": [
    "# Visualize abstract lines and predicted sequence labels\n",
    "for i, line in enumerate(abstract_lines):\n",
    "  print(f'{test_abstract_pred_classes[i]}: {line}')"
   ]
  },
  {
   "cell_type": "markdown",
   "metadata": {
    "id": "UC99D_TOuEfp"
   },
   "source": [
    "## References\n",
    "***\n",
    "\n",
    "Naive Bayes Classifier: Pros & Cons, Applications & Types Explained. (2022). upGrad blog. Available from https://prod-eks-app-alb-1037681640.ap-south-1.elb.amazonaws.com/blog/naive-bayes-classifier/ [Accessed 25 October 2022].\n",
    "\n",
    "scikit-learn: machine learning in Python — scikit-learn 1.1.2 documentation. (no date). Available from https://scikit-learn.org/stable/index.html [Accessed 25 October 2022].\n",
    "\n",
    "Tompson, J. et al. (2015). Efficient object localization using Convolutional Networks. 2015 IEEE Conference on Computer Vision and Pattern Recognition (CVPR). June 2015. Boston, MA, USA: IEEE, 648–656. Available from https://doi.org/10.1109/CVPR.2015.7298664 [Accessed 25 October 2022].\n",
    "\n",
    "Hochreiter, S. and Schmidhuber, J. (1997). Long Short-Term Memory. Neural Computation, 9 (8), 1735–1780. Available from https://doi.org/10.1162/neco.1997.9.8.1735 [Accessed 25 October 2022].\n",
    "\n",
    "K, D. (2020). Top 4 advantages and disadvantages of Support Vector Machine or SVM. Medium. Available from https://dhirajkumarblog.medium.com/top-4-advantages-and-disadvantages-of-support-vector-machine-or-svm-a3c06a2b107 [Accessed 25 October 2022].\n",
    "\n",
    "Jittprasong, C. (2022). Artificial Intelligence and Medicine: A literature review. Available from http://arxiv.org/abs/2205.00322 [Accessed 28 October 2022].\n",
    "\n",
    "Buch VH, Ahmed I, Maruthappu M. (2018). Artificial intelligence in medicine: current trends and future possibilities. *British Journal of General Practice*. 68:143–144.\n",
    "\n",
    "Ganzer PD. et al. (2022). Dynamic detection and reversal of myocardial ischemia using an artificially intelligent bioelectronic medicine. *Science Advances*. 8:eabj5473\n",
    "\n",
    "Kim D, et al. (2022a). Accurate auto-labeling of chest x-ray images based on quantitative similarity to an explainable ai model. *Nature Communications*. 13:1867.\n",
    "\n",
    "Bulten W. et al. (2022). Artificial intelligence for diagnosis and gleason grading of prostate cancer: the panda challenge. *Nature Medicine*. 28:154–163.\n",
    "\n",
    "Sadasivuni S, Saha M, Bhatia N, Banerjee I, Sanyal A. (2022). Fusion of fully integrated analog machine learning classifier with electronic medical records for real-time prediction of sepsis onset. *Scientific Reports*. 12:5711.\n"
   ]
  }
 ],
 "metadata": {
  "accelerator": "GPU",
  "colab": {
   "collapsed_sections": [
    "2MdzfDdzaQCb",
    "Y3Oe1F6e7y0E",
    "1krE-3csz3N-",
    "0B8cgpcVgETi",
    "qv4LKZ6b1i7x",
    "3_Hj3VpzQzyV"
   ],
   "provenance": []
  },
  "gpuClass": "standard",
  "kernelspec": {
   "display_name": "Python 3 (ipykernel)",
   "language": "python",
   "name": "python3"
  },
  "language_info": {
   "codemirror_mode": {
    "name": "ipython",
    "version": 3
   },
   "file_extension": ".py",
   "mimetype": "text/x-python",
   "name": "python",
   "nbconvert_exporter": "python",
   "pygments_lexer": "ipython3",
   "version": "3.9.13"
  }
 },
 "nbformat": 4,
 "nbformat_minor": 1
}
