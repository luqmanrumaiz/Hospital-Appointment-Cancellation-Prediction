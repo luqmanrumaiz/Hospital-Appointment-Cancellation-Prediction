{
 "cells": [
  {
   "cell_type": "markdown",
   "id": "c5ce0d90",
   "metadata": {},
   "source": [
    "<h1 style=\"font-family:Robotto;\"> <center>🏥 Hybrid Approach to Hospital Appointment Cancellation 🏥</center> </h1>\n",
    "<p><center style=\"color:#159364; font-family:cursive;\">Mohammed Luqman Farhat Rumaiz - 2018130</center></p>"
   ]
  },
  {
   "cell_type": "markdown",
   "id": "b8ce88e2",
   "metadata": {},
   "source": [
    "<p>\n",
    "    Hey I am Luqman 👋, today we will be attempting to predict hospital appointment cancellations. The dataset used contains information about appointments for people who have a reservation at a hotel, and who may or may not show up for their scheduled booking. We will be using this data to identify patterns in which guests are more likely to cancel their appointments and to make predictions about which bookings are likely to be cancelled. By understanding these patterns, we can better manage our hotel operations and improve our customer service.  \n",
    "<p>\n",
    "Here is the <a src=\"https://www.kaggle.com/datasets/joniarroba/noshowappointments\">🔗 Dataset </a>, it is from Brazil.\n",
    "\n",
    "<b>Reference to Joni Hoppen and <a src=\"https://www.linkedin.com/company/aquare-la/\">Aquarela Analytics</a></b>"
   ]
  },
  {
   "cell_type": "markdown",
   "id": "c7418190",
   "metadata": {},
   "source": [
    "1. [Introduction](#1) <a id=18></a>\n",
    "    - 1.1 [Data Dictionary](#2)\n",
    "    - 1.2 [Task](#3)\n",
    "2. [Preparation](#4)\n",
    "    - 2.1 [Packages](#5)\n",
    "    - 2.2 [Data](#6)\n",
    "    - 2.3 [Understanding Data](#7)\n",
    "3. [Exploratory Data Analysis](#8)\n",
    "    - 3.1 [Univariate Analysis](#9)\n",
    "    - 3.2 [Bivariate Analysis](#10)\n",
    "4. [Data Preprocessing](#11)\n",
    "    - 4.1 [Conclusions from the EDA](#12)\n",
    "    - 4.2 [Packages](#13)\n",
    "    - 4.3 [Making features model ready](#14)\n",
    "5. [Modeling](#15)\n",
    "    - 5.1 [Linear Classifiers](#16)\n",
    "    - 5.2 [Tree Models](#17)"
   ]
  },
  {
   "cell_type": "markdown",
   "id": "b68868b8",
   "metadata": {},
   "source": [
    "<h3 id=\"#1.1\">1.1 Data Dictionary (As provided by the publisher of the Dataset)</h3>\n",
    "\n",
    "<table style=\"border:border: 1px solid white; \">\n",
    "    <tr>\n",
    "        <th>PatientId</th>\n",
    "        <th>AppointmentID</th>\n",
    "        <th>Gender</th>\n",
    "        <th>ScheduledDay</th>\n",
    "        <th>AppointmentDay</th>\n",
    "        <th>Age</th>\n",
    "        <th>Neighbourhood</th>\n",
    "        <th>Scholarship</th>\n",
    "        <th>Hipertension</th>\n",
    "        <th>Diabetes</th> \n",
    "        <th>Alcoholism</th>\n",
    "        <th>Handcap</th>\n",
    "        <th>SMS_received</th>\n",
    "        <th>No-show</th>\n",
    "    </tr>\n",
    "    <tr>\n",
    "        <td>Identification of a patient</td>\n",
    "        <td>Identification of each appointment</td>\n",
    "        <td>Male or Female . Female is the greater proportion, woman takes way more care of they health in comparison to man.</td>\n",
    "        <td>The day of the actual appointment, when they have to visit the doctor.</td>\n",
    "        <td>The day someone called or registered the appointment, this is before appointment of course.</td>\n",
    "        <td>How old is the patient.</td>\n",
    "        <td>Where the appointment takes place.</td>\n",
    "        <td>True of False . Observation, this is a broad topic, consider reading this article https://en.wikipedia.org/wiki/Bolsa_Fam%C3%ADlia</td>\n",
    "        <td>True or False</td>\n",
    "        <td>True or False</td>\n",
    "        <td>True or False</td>\n",
    "        <td>True or False</td>\n",
    "        <td>1 or more messages sent to the patient.</td>\n",
    "        <td>True or False</td>\n",
    "    </tr>\n",
    "</table>"
   ]
  },
  {
   "cell_type": "code",
   "execution_count": 1,
   "id": "5be433b9",
   "metadata": {},
   "outputs": [],
   "source": [
    "# Importing libraries\n",
    "\n",
    "import pandas as pd\n",
    "import numpy as np\n",
    "import matplotlib.pyplot as plt\n",
    "import klib\n",
    "from matplotlib import pylab\n",
    "import seaborn as sns\n",
    "sns.set_style(\"whitegrid\")\n",
    "import plotly.express as px\n",
    "\n",
    "import warnings\n",
    "warnings.filterwarnings('ignore')"
   ]
  },
  {
   "cell_type": "code",
   "execution_count": 2,
   "id": "b53c13bb",
   "metadata": {},
   "outputs": [
    {
     "data": {
      "text/html": [
       "<div>\n",
       "<style scoped>\n",
       "    .dataframe tbody tr th:only-of-type {\n",
       "        vertical-align: middle;\n",
       "    }\n",
       "\n",
       "    .dataframe tbody tr th {\n",
       "        vertical-align: top;\n",
       "    }\n",
       "\n",
       "    .dataframe thead th {\n",
       "        text-align: right;\n",
       "    }\n",
       "</style>\n",
       "<table border=\"1\" class=\"dataframe\">\n",
       "  <thead>\n",
       "    <tr style=\"text-align: right;\">\n",
       "      <th></th>\n",
       "      <th>PatientId</th>\n",
       "      <th>AppointmentID</th>\n",
       "      <th>Gender</th>\n",
       "      <th>ScheduledDay</th>\n",
       "      <th>AppointmentDay</th>\n",
       "      <th>Age</th>\n",
       "      <th>Neighbourhood</th>\n",
       "      <th>Scholarship</th>\n",
       "      <th>Hipertension</th>\n",
       "      <th>Diabetes</th>\n",
       "      <th>Alcoholism</th>\n",
       "      <th>Handcap</th>\n",
       "      <th>SMS_received</th>\n",
       "      <th>No-show</th>\n",
       "    </tr>\n",
       "  </thead>\n",
       "  <tbody>\n",
       "    <tr>\n",
       "      <th>0</th>\n",
       "      <td>2.987250e+13</td>\n",
       "      <td>5642903</td>\n",
       "      <td>F</td>\n",
       "      <td>2016-04-29T18:38:08Z</td>\n",
       "      <td>2016-04-29T00:00:00Z</td>\n",
       "      <td>62</td>\n",
       "      <td>JARDIM DA PENHA</td>\n",
       "      <td>0</td>\n",
       "      <td>1</td>\n",
       "      <td>0</td>\n",
       "      <td>0</td>\n",
       "      <td>0</td>\n",
       "      <td>0</td>\n",
       "      <td>No</td>\n",
       "    </tr>\n",
       "    <tr>\n",
       "      <th>1</th>\n",
       "      <td>5.589978e+14</td>\n",
       "      <td>5642503</td>\n",
       "      <td>M</td>\n",
       "      <td>2016-04-29T16:08:27Z</td>\n",
       "      <td>2016-04-29T00:00:00Z</td>\n",
       "      <td>56</td>\n",
       "      <td>JARDIM DA PENHA</td>\n",
       "      <td>0</td>\n",
       "      <td>0</td>\n",
       "      <td>0</td>\n",
       "      <td>0</td>\n",
       "      <td>0</td>\n",
       "      <td>0</td>\n",
       "      <td>No</td>\n",
       "    </tr>\n",
       "    <tr>\n",
       "      <th>2</th>\n",
       "      <td>4.262962e+12</td>\n",
       "      <td>5642549</td>\n",
       "      <td>F</td>\n",
       "      <td>2016-04-29T16:19:04Z</td>\n",
       "      <td>2016-04-29T00:00:00Z</td>\n",
       "      <td>62</td>\n",
       "      <td>MATA DA PRAIA</td>\n",
       "      <td>0</td>\n",
       "      <td>0</td>\n",
       "      <td>0</td>\n",
       "      <td>0</td>\n",
       "      <td>0</td>\n",
       "      <td>0</td>\n",
       "      <td>No</td>\n",
       "    </tr>\n",
       "    <tr>\n",
       "      <th>3</th>\n",
       "      <td>8.679512e+11</td>\n",
       "      <td>5642828</td>\n",
       "      <td>F</td>\n",
       "      <td>2016-04-29T17:29:31Z</td>\n",
       "      <td>2016-04-29T00:00:00Z</td>\n",
       "      <td>8</td>\n",
       "      <td>PONTAL DE CAMBURI</td>\n",
       "      <td>0</td>\n",
       "      <td>0</td>\n",
       "      <td>0</td>\n",
       "      <td>0</td>\n",
       "      <td>0</td>\n",
       "      <td>0</td>\n",
       "      <td>No</td>\n",
       "    </tr>\n",
       "    <tr>\n",
       "      <th>4</th>\n",
       "      <td>8.841186e+12</td>\n",
       "      <td>5642494</td>\n",
       "      <td>F</td>\n",
       "      <td>2016-04-29T16:07:23Z</td>\n",
       "      <td>2016-04-29T00:00:00Z</td>\n",
       "      <td>56</td>\n",
       "      <td>JARDIM DA PENHA</td>\n",
       "      <td>0</td>\n",
       "      <td>1</td>\n",
       "      <td>1</td>\n",
       "      <td>0</td>\n",
       "      <td>0</td>\n",
       "      <td>0</td>\n",
       "      <td>No</td>\n",
       "    </tr>\n",
       "  </tbody>\n",
       "</table>\n",
       "</div>"
      ],
      "text/plain": [
       "      PatientId  AppointmentID Gender          ScheduledDay  \\\n",
       "0  2.987250e+13        5642903      F  2016-04-29T18:38:08Z   \n",
       "1  5.589978e+14        5642503      M  2016-04-29T16:08:27Z   \n",
       "2  4.262962e+12        5642549      F  2016-04-29T16:19:04Z   \n",
       "3  8.679512e+11        5642828      F  2016-04-29T17:29:31Z   \n",
       "4  8.841186e+12        5642494      F  2016-04-29T16:07:23Z   \n",
       "\n",
       "         AppointmentDay  Age      Neighbourhood  Scholarship  Hipertension  \\\n",
       "0  2016-04-29T00:00:00Z   62    JARDIM DA PENHA            0             1   \n",
       "1  2016-04-29T00:00:00Z   56    JARDIM DA PENHA            0             0   \n",
       "2  2016-04-29T00:00:00Z   62      MATA DA PRAIA            0             0   \n",
       "3  2016-04-29T00:00:00Z    8  PONTAL DE CAMBURI            0             0   \n",
       "4  2016-04-29T00:00:00Z   56    JARDIM DA PENHA            0             1   \n",
       "\n",
       "   Diabetes  Alcoholism  Handcap  SMS_received No-show  \n",
       "0         0           0        0             0      No  \n",
       "1         0           0        0             0      No  \n",
       "2         0           0        0             0      No  \n",
       "3         0           0        0             0      No  \n",
       "4         1           0        0             0      No  "
      ]
     },
     "execution_count": 2,
     "metadata": {},
     "output_type": "execute_result"
    }
   ],
   "source": [
    "# Reading the dataset and showing the 1st 5 rows\n",
    "\n",
    "df = pd.read_csv('dataset-noshow.csv')\n",
    "df.head()"
   ]
  },
  {
   "cell_type": "code",
   "execution_count": 3,
   "id": "b548fa08",
   "metadata": {},
   "outputs": [
    {
     "data": {
      "text/plain": [
       "(110527, 14)"
      ]
     },
     "execution_count": 3,
     "metadata": {},
     "output_type": "execute_result"
    }
   ],
   "source": [
    "# Amount of rows in the dataset\n",
    "\n",
    "df.shape"
   ]
  },
  {
   "cell_type": "code",
   "execution_count": 4,
   "id": "47481270",
   "metadata": {},
   "outputs": [
    {
     "data": {
      "text/plain": [
       "PatientId         float64\n",
       "AppointmentID       int64\n",
       "Gender             object\n",
       "ScheduledDay       object\n",
       "AppointmentDay     object\n",
       "Age                 int64\n",
       "Neighbourhood      object\n",
       "Scholarship         int64\n",
       "Hipertension        int64\n",
       "Diabetes            int64\n",
       "Alcoholism          int64\n",
       "Handcap             int64\n",
       "SMS_received        int64\n",
       "No-show            object\n",
       "dtype: object"
      ]
     },
     "execution_count": 4,
     "metadata": {},
     "output_type": "execute_result"
    }
   ],
   "source": [
    "# Data types of each column, the numerical values are fine as they aren't stored in a string format \n",
    "\n",
    "df.dtypes"
   ]
  },
  {
   "cell_type": "code",
   "execution_count": 5,
   "id": "54150981",
   "metadata": {},
   "outputs": [
    {
     "data": {
      "text/plain": [
       "PatientId         0\n",
       "AppointmentID     0\n",
       "Gender            0\n",
       "ScheduledDay      0\n",
       "AppointmentDay    0\n",
       "Age               0\n",
       "Neighbourhood     0\n",
       "Scholarship       0\n",
       "Hipertension      0\n",
       "Diabetes          0\n",
       "Alcoholism        0\n",
       "Handcap           0\n",
       "SMS_received      0\n",
       "No-show           0\n",
       "dtype: int64"
      ]
     },
     "execution_count": 5,
     "metadata": {},
     "output_type": "execute_result"
    }
   ],
   "source": [
    "# Checking for null values, there seems to be no null fields\n",
    "\n",
    "df.isnull().sum()"
   ]
  },
  {
   "cell_type": "code",
   "execution_count": 6,
   "id": "c055b1cc",
   "metadata": {},
   "outputs": [
    {
     "data": {
      "text/plain": [
       "(0, 14)"
      ]
     },
     "execution_count": 6,
     "metadata": {},
     "output_type": "execute_result"
    }
   ],
   "source": [
    "# Looking for duplicate rows\n",
    "\n",
    "df[df.duplicated()].shape"
   ]
  },
  {
   "cell_type": "code",
   "execution_count": 7,
   "id": "6aacf411",
   "metadata": {},
   "outputs": [
    {
     "name": "stdout",
     "output_type": "stream",
     "text": [
      "Gender\n",
      "['F' 'M']\n",
      "ScheduledDay\n",
      "['2016-04-29T18:38:08Z' '2016-04-29T16:08:27Z' '2016-04-29T16:19:04Z' ...\n",
      " '2016-04-27T16:03:52Z' '2016-04-27T15:09:23Z' '2016-04-27T13:30:56Z']\n",
      "AppointmentDay\n",
      "['2016-04-29T00:00:00Z' '2016-05-03T00:00:00Z' '2016-05-10T00:00:00Z'\n",
      " '2016-05-17T00:00:00Z' '2016-05-24T00:00:00Z' '2016-05-31T00:00:00Z'\n",
      " '2016-05-02T00:00:00Z' '2016-05-30T00:00:00Z' '2016-05-16T00:00:00Z'\n",
      " '2016-05-04T00:00:00Z' '2016-05-19T00:00:00Z' '2016-05-12T00:00:00Z'\n",
      " '2016-05-06T00:00:00Z' '2016-05-20T00:00:00Z' '2016-05-05T00:00:00Z'\n",
      " '2016-05-13T00:00:00Z' '2016-05-09T00:00:00Z' '2016-05-25T00:00:00Z'\n",
      " '2016-05-11T00:00:00Z' '2016-05-18T00:00:00Z' '2016-05-14T00:00:00Z'\n",
      " '2016-06-02T00:00:00Z' '2016-06-03T00:00:00Z' '2016-06-06T00:00:00Z'\n",
      " '2016-06-07T00:00:00Z' '2016-06-01T00:00:00Z' '2016-06-08T00:00:00Z']\n",
      "Age\n",
      "[ 62  56   8  76  23  39  21  19  30  29  22  28  54  15  50  40  46   4\n",
      "  13  65  45  51  32  12  61  38  79  18  63  64  85  59  55  71  49  78\n",
      "  31  58  27   6   2  11   7   0   3   1  69  68  60  67  36  10  35  20\n",
      "  26  34  33  16  42   5  47  17  41  44  37  24  66  77  81  70  53  75\n",
      "  73  52  74  43  89  57  14   9  48  83  72  25  80  87  88  84  82  90\n",
      "  94  86  91  98  92  96  93  95  97 102 115 100  99  -1]\n",
      "Neighbourhood\n",
      "['JARDIM DA PENHA' 'MATA DA PRAIA' 'PONTAL DE CAMBURI' 'REPÚBLICA'\n",
      " 'GOIABEIRAS' 'ANDORINHAS' 'CONQUISTA' 'NOVA PALESTINA' 'DA PENHA'\n",
      " 'TABUAZEIRO' 'BENTO FERREIRA' 'SÃO PEDRO' 'SANTA MARTHA' 'SÃO CRISTÓVÃO'\n",
      " 'MARUÍPE' 'GRANDE VITÓRIA' 'SÃO BENEDITO' 'ILHA DAS CAIEIRAS'\n",
      " 'SANTO ANDRÉ' 'SOLON BORGES' 'BONFIM' 'JARDIM CAMBURI' 'MARIA ORTIZ'\n",
      " 'JABOUR' 'ANTÔNIO HONÓRIO' 'RESISTÊNCIA' 'ILHA DE SANTA MARIA'\n",
      " 'JUCUTUQUARA' 'MONTE BELO' 'MÁRIO CYPRESTE' 'SANTO ANTÔNIO' 'BELA VISTA'\n",
      " 'PRAIA DO SUÁ' 'SANTA HELENA' 'ITARARÉ' 'INHANGUETÁ' 'UNIVERSITÁRIO'\n",
      " 'SÃO JOSÉ' 'REDENÇÃO' 'SANTA CLARA' 'CENTRO' 'PARQUE MOSCOSO'\n",
      " 'DO MOSCOSO' 'SANTOS DUMONT' 'CARATOÍRA' 'ARIOVALDO FAVALESSA'\n",
      " 'ILHA DO FRADE' 'GURIGICA' 'JOANA D´ARC' 'CONSOLAÇÃO' 'PRAIA DO CANTO'\n",
      " 'BOA VISTA' 'MORADA DE CAMBURI' 'SANTA LUÍZA' 'SANTA LÚCIA'\n",
      " 'BARRO VERMELHO' 'ESTRELINHA' 'FORTE SÃO JOÃO' 'FONTE GRANDE'\n",
      " 'ENSEADA DO SUÁ' 'SANTOS REIS' 'PIEDADE' 'JESUS DE NAZARETH'\n",
      " 'SANTA TEREZA' 'CRUZAMENTO' 'ILHA DO PRÍNCIPE' 'ROMÃO' 'COMDUSA'\n",
      " 'SANTA CECÍLIA' 'VILA RUBIM' 'DE LOURDES' 'DO QUADRO' 'DO CABRAL' 'HORTO'\n",
      " 'SEGURANÇA DO LAR' 'ILHA DO BOI' 'FRADINHOS' 'NAZARETH' 'AEROPORTO'\n",
      " 'ILHAS OCEÂNICAS DE TRINDADE' 'PARQUE INDUSTRIAL']\n",
      "Scholarship\n",
      "[0 1]\n",
      "Hipertension\n",
      "[1 0]\n",
      "Diabetes\n",
      "[0 1]\n",
      "Alcoholism\n",
      "[0 1]\n",
      "Handcap\n",
      "[0 1 2 3 4]\n",
      "SMS_received\n",
      "[0 1]\n",
      "No-show\n",
      "['No' 'Yes']\n"
     ]
    }
   ],
   "source": [
    "# Trying to explore the dataset, the data looks great with no nulls. However a few odd values for ages that are below\n",
    "# 0 appear, and even \n",
    "\n",
    "for col in df.columns[2:]:\n",
    "    print(col)\n",
    "    print(df[col].unique())"
   ]
  },
  {
   "cell_type": "code",
   "execution_count": 8,
   "id": "37e8341f",
   "metadata": {},
   "outputs": [],
   "source": [
    "# Above you can see that Scholarship, Hipertension, Diabetes, Alcoholism, Handcap, SMS_received are logical values"
   ]
  },
  {
   "cell_type": "code",
   "execution_count": 9,
   "id": "f1501e15",
   "metadata": {},
   "outputs": [
    {
     "data": {
      "text/plain": [
       "PatientId         15\n",
       "AppointmentID     15\n",
       "Gender            15\n",
       "ScheduledDay      15\n",
       "AppointmentDay    15\n",
       "Age               15\n",
       "Neighbourhood     15\n",
       "Scholarship       15\n",
       "Hipertension      15\n",
       "Diabetes          15\n",
       "Alcoholism        15\n",
       "Handcap           15\n",
       "SMS_received      15\n",
       "No-show           15\n",
       "dtype: int64"
      ]
     },
     "execution_count": 9,
     "metadata": {},
     "output_type": "execute_result"
    }
   ],
   "source": [
    "# The mean age of alcohol consumption ranged from 14-17 in Brazil (Patterns of alcohol use among Brazilian adolescents [https://www.scielo.br/j/rbp/a/rsHyR7TV7dxqpGrrmz5csNg/#])\n",
    "# therefore ages less than this will be removed as it seems like a data entry issue\n",
    "\n",
    "filter = (df.Age < 14) & (df.Alcoholism == 1)\n",
    "df[filter].count()"
   ]
  },
  {
   "cell_type": "code",
   "execution_count": 10,
   "id": "fb276cd5",
   "metadata": {},
   "outputs": [
    {
     "name": "stdout",
     "output_type": "stream",
     "text": [
      "115\n",
      "82.0\n",
      "\n",
      "\n",
      "PatientId         2026\n",
      "AppointmentID     2026\n",
      "Gender            2026\n",
      "ScheduledDay      2026\n",
      "AppointmentDay    2026\n",
      "Age               2026\n",
      "Neighbourhood     2026\n",
      "Scholarship       2026\n",
      "Hipertension      2026\n",
      "Diabetes          2026\n",
      "Alcoholism        2026\n",
      "Handcap           2026\n",
      "SMS_received      2026\n",
      "No-show           2026\n",
      "dtype: int64\n"
     ]
    }
   ],
   "source": [
    "# There are people in Brazil who do exist above 100, but those are some rare cases. The oldest age in this dataset is 115 and\n",
    "# the median between the average life expectancy and the max age is 82, however to consider them as outlires is unreasonable\n",
    "# as of course such elderly people do exist in socities around the world and there are 2026 rows. Since these are natural\n",
    "# variations, lets just take ages over 95 to be outliers\n",
    "\n",
    "print(df['Age'].max())\n",
    "print(df[df['Age'] > 76]['Age'].median())\n",
    "\n",
    "print('\\n')\n",
    "print(df[df['Age'] > 82].count())"
   ]
  },
  {
   "cell_type": "code",
   "execution_count": 11,
   "id": "723bafa5",
   "metadata": {
    "scrolled": true
   },
   "outputs": [
    {
     "name": "stdout",
     "output_type": "stream",
     "text": [
      "PatientId         46\n",
      "AppointmentID     46\n",
      "Gender            46\n",
      "ScheduledDay      46\n",
      "AppointmentDay    46\n",
      "Age               46\n",
      "Neighbourhood     46\n",
      "Scholarship       46\n",
      "Hipertension      46\n",
      "Diabetes          46\n",
      "Alcoholism        46\n",
      "Handcap           46\n",
      "SMS_received      46\n",
      "No-show           46\n",
      "dtype: int64\n",
      "PatientId         1\n",
      "AppointmentID     1\n",
      "Gender            1\n",
      "ScheduledDay      1\n",
      "AppointmentDay    1\n",
      "Age               1\n",
      "Neighbourhood     1\n",
      "Scholarship       1\n",
      "Hipertension      1\n",
      "Diabetes          1\n",
      "Alcoholism        1\n",
      "Handcap           1\n",
      "SMS_received      1\n",
      "No-show           1\n",
      "dtype: int64\n"
     ]
    }
   ],
   "source": [
    "print(df[df['Age'] > 95].count())\n",
    "\n",
    "# Obviously ages cannot be below 0 and such fields are a clear data entry error\n",
    "print(df[df['Age'] < 0].count())"
   ]
  },
  {
   "cell_type": "markdown",
   "id": "83979ef2",
   "metadata": {},
   "source": [
    "<h2 style=\"font-family:Robotto;\">1. EDA (Explorary Data Analysis) 🧪</h2>\n",
    "<br>\n",
    "\n",
    "EDA allows us to identify patterns in the data that may lead to insights that can be used to improve the accuracy of the prediction model. Additionally, EDA can also help us to identify potential sources of bias or noise that could adversely affect the model accuracy. By performing EDA on the data set, we can create a better understanding of the structure of the data and uncover potential relationships between the independent and response variables."
   ]
  },
  {
   "cell_type": "code",
   "execution_count": 12,
   "id": "ff2e9d3b",
   "metadata": {},
   "outputs": [
    {
     "data": {
      "text/plain": [
       "No     88208\n",
       "Yes    22319\n",
       "Name: No-show, dtype: int64"
      ]
     },
     "execution_count": 12,
     "metadata": {},
     "output_type": "execute_result"
    },
    {
     "data": {
      "image/png": "[encoded data removed]",
      "text/plain": [
       "<Figure size 640x480 with 1 Axes>"
      ]
     },
     "metadata": {},
     "output_type": "display_data"
    }
   ],
   "source": [
    "# Finding out the number of Outcomes for Non-Recur and Recur - N = 151, R = 47\n",
    "\n",
    "ax = sns.countplot(df[\"No-show\"],label=\"No-show\")\n",
    "df[\"No-show\"].value_counts()"
   ]
  }
 ],
 "metadata": {
  "kernelspec": {
   "display_name": "Python 3 (ipykernel)",
   "language": "python",
   "name": "python3"
  },
  "language_info": {
   "codemirror_mode": {
    "name": "ipython",
    "version": 3
   },
   "file_extension": ".py",
   "mimetype": "text/x-python",
   "name": "python",
   "nbconvert_exporter": "python",
   "pygments_lexer": "ipython3",
   "version": "3.9.13"
  },
  "vscode": {
   "interpreter": {
    "hash": "eb15da00ddf7abc474b86d37ac6c5c9c8600f29cd0032e6e2de527fbe08602fc"
   }
  }
 },
 "nbformat": 4,
 "nbformat_minor": 5
}
